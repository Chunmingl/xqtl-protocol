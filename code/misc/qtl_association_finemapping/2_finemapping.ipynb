{
 "cells": [
  {
   "cell_type": "markdown",
   "id": "898dcd22",
   "metadata": {},
   "source": [
    "# Fine-Mapping"
   ]
  },
  {
   "cell_type": "markdown",
   "id": "e475428e",
   "metadata": {},
   "source": [
    "## 1. Univariate Fine-Mapping and TWAS with SuSiE"
   ]
  },
  {
   "cell_type": "markdown",
   "id": "3850526b",
   "metadata": {},
   "source": [
    "### 1.1 Input\n",
    "The Univariate SuSiE analysis requires the following inputs:\n",
    "- Genotype matrix (X): Individual-level genotype data, with rows representing samples and columns representing variant loci\n",
    "- Phenotype vector (Y): Continuous phenotype measurements\n",
    "- Minor allele frequency (MAF): The MAF value for each variant\n",
    "- Covariates: Optional confounding factors for adjustment\n",
    "- LD reference panel: Used for variant filtering and quality control"
   ]
  },
  {
   "cell_type": "code",
   "execution_count": null,
   "id": "8faf926b",
   "metadata": {
    "vscode": {
     "languageId": "shellscript"
    }
   },
   "outputs": [
    {
     "name": "stdout",
     "output_type": "stream",
     "text": [
      "#chr\tstart\tend\tID\tpath\n",
      "chr1\t89550\t91104\tENSG00000239945\toutput/phenotype/phenotype_by_chrom_for_cis/bulk_rnaseq.chr1.bed.gz\n",
      "chr1\t944202\t959308\tENSG00000188976\toutput/phenotype/phenotype_by_chrom_for_cis/bulk_rnaseq.chr1.bed.gz\n",
      "chr1\t1203507\t1206591\tENSG00000186891\toutput/phenotype/phenotype_by_chrom_for_cis/bulk_rnaseq.chr1.bed.gz\n",
      "chr1\t2555638\t2565381\tENSG00000157873\toutput/phenotype/phenotype_by_chrom_for_cis/bulk_rnaseq.chr1.bed.gz\n",
      "chr1\t7784319\t7845176\tENSG00000049246\toutput/phenotype/phenotype_by_chrom_for_cis/bulk_rnaseq.chr1.bed.gz\n",
      "chr1\t7998186\t7999933\tENSG00000284716\toutput/phenotype/phenotype_by_chrom_for_cis/bulk_rnaseq.chr1.bed.gz\n",
      "chr1\t9950571\t9960786\tENSG00000283611\toutput/phenotype/phenotype_by_chrom_for_cis/bulk_rnaseq.chr1.bed.gz\n",
      "chr1\t10298965\t10299071\tENSG00000199562\toutput/phenotype/phenotype_by_chrom_for_cis/bulk_rnaseq.chr1.bed.gz\n",
      "chr1\t10306464\t10306756\tENSG00000264501\toutput/phenotype/phenotype_by_chrom_for_cis/bulk_rnaseq.chr1.bed.gz\n"
     ]
    }
   ],
   "source": [
    "cd /home/ubuntu/xqtl_protocol_exercise\n",
    "head output/phenotype/phenotype_by_chrom_for_cis/bulk_rnaseq.phenotype_by_chrom_files.region_list.txt"
   ]
  },
  {
   "cell_type": "markdown",
   "id": "16a3a970",
   "metadata": {},
   "source": [
    "### 1.2 Command"
   ]
  },
  {
   "cell_type": "code",
   "execution_count": null,
   "id": "885ff5c9",
   "metadata": {
    "vscode": {
     "languageId": "shellscript"
    }
   },
   "outputs": [
    {
     "name": "stdout",
     "output_type": "stream",
     "text": [
      "/home/al4225/.pixi/envs/coreutils/bin/mkdir: cannot create directory ‘output/mnm_regression/susie_twas’: File exists\n"
     ]
    },
    {
     "name": "stdout",
     "output_type": "stream",
     "text": [
      "/home/al4225/.pixi/envs/python/lib/python3.12/site-packages/sos/targets.py:22: UserWarning: pkg_resources is deprecated as an API. See https://setuptools.pypa.io/en/latest/pkg_resources.html. The pkg_resources package is slated for removal as early as 2025-11-30. Refrain from using this package or pin to Setuptools<81.\n",
      "  import pkg_resources\n",
      "INFO: Note: NumExpr detected 32 cores but \"NUMEXPR_MAX_THREADS\" not set, so enforcing safe limit of 16.\n",
      "INFO: NumExpr defaulting to 16 threads.\n",
      "INFO: Running \u001b[32mget_analysis_regions\u001b[0m: \n",
      "Loading customized association analysis window from reference_data/TAD/TADB_enhanced_cis.bed\n",
      "INFO: \u001b[32mget_analysis_regions\u001b[0m is \u001b[32mcompleted\u001b[0m.\n",
      "INFO: \u001b[32mget_analysis_regions\u001b[0m output:   \u001b[32mregional_data\u001b[0m\n",
      "INFO: Running \u001b[32msusie_twas\u001b[0m: \n",
      "INFO: \u001b[32msusie_twas\u001b[0m (index=2) is \u001b[32mcompleted\u001b[0m.\n",
      "INFO: \u001b[32msusie_twas\u001b[0m (index=0) is \u001b[32mcompleted\u001b[0m.\n",
      "INFO: \u001b[32msusie_twas\u001b[0m (index=1) is \u001b[32mcompleted\u001b[0m.\n",
      "INFO: \u001b[32msusie_twas\u001b[0m output:   \u001b[32m/mnt/vast/hpc/homes/al4225/xqtl_protocol_data/output/mnm_regression/susie_twas/fine_mapping/test_susie_twas.chr1_ENSG00000049246.univariate_bvsr.rds /mnt/vast/hpc/homes/al4225/xqtl_protocol_data/output/mnm_regression/susie_twas/twas_weights/test_susie_twas.chr1_ENSG00000049246.univariate_twas_weights.rds... (6 items in 3 groups)\u001b[0m\n",
      "INFO: Workflow susie_twas (ID=w52bf20f27c45a9d5) is executed successfully with 2 completed steps and 4 completed substeps.\n"
     ]
    }
   ],
   "source": [
    "cd /home/ubuntu/xqtl_protocol_exercise\n",
    "mkdir output/mnm_regression/susie_twas\n",
    "mkdir output/mnm_regression/susie_twas/data\n",
    "sos run pipeline/mnm_regression.ipynb susie_twas \\\n",
    "    --name test_susie_twas \\\n",
    "    --genoFile output/genotype_by_chrom/wgs.merged.plink_qc.1.bed \\\n",
    "    --phenoFile output/phenotype/phenotype_by_chrom_for_cis/bulk_rnaseq.phenotype_by_chrom_files.region_list.txt \\\n",
    "    --covFile output/covariate/bulk_rnaseq_tmp_matrix.low_expression_filtered.outlier_removed.tmm.expression.covariates.wgs.merged.plink_qc.plink_qc.prune.pca.Marchenko_PC.gz \\\n",
    "    --customized-association-windows reference_data/TAD/TADB_enhanced_cis.bed \\\n",
    "    --phenotype-names test_pheno \\\n",
    "    --max-cv-variants 5000 --ld_reference_meta_file reference_data/ADSP_R4_EUR/ld_meta_file.tsv \\\n",
    "    --region-name ENSG00000049246 ENSG00000054116 ENSG00000116678 \\\n",
    "    --save-data \\\n",
    "    --cwd output/mnm_regression/susie_twas"
   ]
  },
  {
   "cell_type": "markdown",
   "id": "65b12af1",
   "metadata": {},
   "source": [
    "\n",
    "### 1.3 Output File Structure\n",
    "\n",
    "#### Overview\n",
    "\n",
    "The `univariate_analysis_pipeline` produces output files of the form:\n",
    "\n",
    "```\n",
    "{name}.{region}.univariate_bvsr.rds\n",
    "```\n",
    "\n",
    "Each file contains the full fine-mapping result for a given gene and phenotype. The structure is hierarchical:\n",
    "\n",
    "```\n",
    "$GENE_ID\n",
    "  $PHENOTYPE_NAME\n",
    "```\n",
    "\n",
    "---\n",
    "\n",
    "#### Main Components\n",
    "\n",
    "##### 1). Basic Metadata\n",
    "\n",
    "- **`variant_names`**: Character vector of variant IDs (format: `chr:pos:ref:alt`)\n",
    "- **`analysis_script`**: R script used for the analysis\n",
    "- **`sample_names`**: List of sample identifiers\n",
    "- **`other_quantities`**: Additional metadata (e.g. dropped samples)\n",
    "\n",
    "##### 2). Summary Statistics (`sumstats`)\n",
    "\n",
    "- **`betahat`**: Effect size estimates (one per variant)\n",
    "- **`sebetahat`**: Standard errors\n",
    "- **`z_scores`**: Z-statistics\n",
    "- **`p_values`**: P-values\n",
    "- **`q_values`**: FDR-adjusted q-values\n",
    "\n",
    "##### 3). Candidate Variant Table (`top_loci`)\n",
    "\n",
    "A data frame summarizing per-variant results:\n",
    "\n",
    "| Column              | Description                                |\n",
    "|---------------------|--------------------------------------------|\n",
    "| `variant_id`        | Variant identifier                         |\n",
    "| `betahat`           | Effect size estimate                       |\n",
    "| `sebetahat`         | Standard error                             |\n",
    "| `z`                 | Z-score                                    |\n",
    "| `maf`               | Minor allele frequency                     |\n",
    "| `pip`               | Posterior inclusion probability (0–1)      |\n",
    "| `cs_coverage_0.95`  | Membership in 95% credible set             |\n",
    "| `cs_coverage_0.7`   | Membership in 70% credible set             |\n",
    "| `cs_coverage_0.5`   | Membership in 50% credible set             |\n",
    "\n",
    "##### 4). SuSiE Core Output (`susie_result_trimmed`)\n",
    "\n",
    "- **Fine-Mapping Output**:\n",
    "  - `pip`: Vector of posterior inclusion probabilities\n",
    "  - `sets`: List of credible sets (`cs`, `coverage`, `requested_coverage`)\n",
    "  - `sets_secondary`: Credible sets at lower coverage thresholds (0.7, 0.5)\n",
    "\n",
    "- **Model Parameters**:\n",
    "  - `alpha`: Variational parameters matrix (L × V)\n",
    "  - `lbf_variable`: Log Bayes factors\n",
    "  - `mu`, `mu2`: First/second moments of effect sizes\n",
    "  - `V`: Estimated residual variance\n",
    "  - `X_column_scale_factors`: Scaling factors used for genotype matrix\n",
    "\n",
    "- **Convergence Info**:\n",
    "  - `niter`: Number of iterations\n",
    "  - `max_L`: Maximum number of single-effect components\n",
    "\n",
    "##### 5). Region Metadata (`region_info`)\n",
    "\n",
    "- `region_coord`: Coordinates of the gene\n",
    "- `grange`: Analysis window used for LD matrix\n",
    "- `region_name`: Gene symbol or name\n",
    "\n",
    "##### 6). Preset Variant Analysis (`preset_variants_result`)\n",
    "\n",
    "Optional: Separate analysis of manually selected high-quality variants, same structure as main result.\n",
    "\n",
    "##### 7). TWAS Weights Result (`twas_weights_result`, optional)\n",
    "\n",
    "Included if `twas_weights = TRUE`. Contains:\n",
    "\n",
    "- Trained TWAS weights\n",
    "- Cross-validation statistics\n",
    "- Prediction metrics\n",
    "\n",
    "---\n",
    "\n",
    "## Focus\n",
    "\n",
    "The most important components for downstream analysis are:\n",
    "\n",
    "- `top_loci`: summarized per-SNP statistics with PIPs and CS membership\n",
    "- `susie_result_trimmed`: fine-mapping posterior output\n",
    "- `preset_variants_result`: for filtered high-confidence variant sets\n",
    "\n"
   ]
  },
  {
   "cell_type": "code",
   "execution_count": null,
   "id": "e97daa4a",
   "metadata": {
    "vscode": {
     "languageId": "shellscript"
    }
   },
   "outputs": [
    {
     "data": {
      "text/html": [
       "'ENSG00000116678'"
      ],
      "text/latex": [
       "'ENSG00000116678'"
      ],
      "text/markdown": [
       "'ENSG00000116678'"
      ],
      "text/plain": [
       "[1] \"ENSG00000116678\""
      ]
     },
     "metadata": {},
     "output_type": "display_data"
    },
    {
     "name": "stdout",
     "output_type": "stream",
     "text": [
      "List of 1\n",
      " $ ENSG00000116678:List of 1\n",
      "  ..$ test_pheno_ENSG00000116678:List of 10\n",
      "  .. ..$ variant_names         : chr [1:22] \"chr1:64580401:A:T\" \"chr1:64594253:TAA:TA\" \"chr1:64864010:G:A\" \"chr1:64928793:AAAAC:A\" ...\n",
      "  .. ..$ analysis_script       : chr \"options(warn=1)\\nlibrary(pecotmr)\\nphenotype_files = c(\\\"/mnt/vast/hpc/homes/al4225/xqtl_protocol_data/output/p\"| __truncated__\n",
      "  .. ..$ other_quantities      :List of 1\n",
      "  .. .. ..$ dropped_samples:List of 3\n",
      "  .. .. .. ..$ X    : NULL\n",
      "  .. .. .. ..$ y    : NULL\n",
      "  .. .. .. ..$ covar: NULL\n",
      "  .. ..$ sumstats              :List of 5\n",
      "  .. .. ..$ betahat  : Named num [1:22] 0.0023 -0.0471 0.3789 -0.2284 0.1857 ...\n",
      "  .. .. .. ..- attr(*, \"names\")= chr [1:22] \"chr1:64580401:A:T\" \"chr1:64594253:TAA:TA\" \"chr1:64864010:G:A\" \"chr1:64928793:AAAAC:A\" ...\n",
      "  .. .. ..$ sebetahat: Named num [1:22] 0.1067 0.0886 0.1768 0.2955 0.1282 ...\n",
      "  .. .. .. ..- attr(*, \"names\")= chr [1:22] \"chr1:64580401:A:T\" \"chr1:64594253:TAA:TA\" \"chr1:64864010:G:A\" \"chr1:64928793:AAAAC:A\" ...\n",
      "  .. .. ..$ z_scores : Named num [1:22] 0.0216 -0.5312 2.1435 -0.7729 1.4482 ...\n",
      "  .. .. .. ..- attr(*, \"names\")= chr [1:22] \"chr1:64580401:A:T\" \"chr1:64594253:TAA:TA\" \"chr1:64864010:G:A\" \"chr1:64928793:AAAAC:A\" ...\n",
      "  .. .. ..$ p_values : Named num [1:22] 0.9828 0.5953 0.0321 0.4396 0.1476 ...\n",
      "  .. .. .. ..- attr(*, \"names\")= chr [1:22] \"chr1:64580401:A:T\" \"chr1:64594253:TAA:TA\" \"chr1:64864010:G:A\" \"chr1:64928793:AAAAC:A\" ...\n",
      "  .. .. ..$ q_values : Named num [1:22] 0.983 0.976 0.235 0.976 0.649 ...\n",
      "  .. .. .. ..- attr(*, \"names\")= chr [1:22] \"chr1:64580401:A:T\" \"chr1:64594253:TAA:TA\" \"chr1:64864010:G:A\" \"chr1:64928793:AAAAC:A\" ...\n",
      "  .. ..$ sample_names          : chr [1:150] \"sample0\" \"sample1\" \"sample10\" \"sample100\" ...\n",
      "  .. ..$ top_loci              :'data.frame':\t22 obs. of  9 variables:\n",
      "  .. .. ..$ variant_id      : chr [1:22] \"chr1:64580401:A:T\" \"chr1:64594253:TAA:TA\" \"chr1:64864010:G:A\" \"chr1:64928793:AAAAC:A\" ...\n",
      "  .. .. ..$ betahat         : num [1:22] 0.0023 -0.0471 0.3789 -0.2284 0.1857 ...\n",
      "  .. .. ..$ sebetahat       : num [1:22] 0.1067 0.0886 0.1768 0.2955 0.1282 ...\n",
      "  .. .. ..$ z               : num [1:22] 0.0216 -0.5312 2.1435 -0.7729 1.4482 ...\n",
      "  .. .. ..$ maf             : num [1:22] 0.1367 0.23 0.05 0.0171 0.0867 ...\n",
      "  .. .. ..$ pip             : num [1:22] 0.0304 0.0328 0.0994 0.0356 0.0527 ...\n",
      "  .. .. ..$ cs_coverage_0.95: num [1:22] 0 0 0 0 0 0 0 0 0 0 ...\n",
      "  .. .. ..$ cs_coverage_0.7 : num [1:22] 0 0 0 0 0 0 0 0 0 0 ...\n",
      "  .. .. ..$ cs_coverage_0.5 : num [1:22] 0 0 0 0 0 0 0 0 0 0 ...\n",
      "  .. ..$ susie_result_trimmed  :List of 12\n",
      "  .. .. ..$ pip                   : num [1:22] 0.0304 0.0328 0.0994 0.0356 0.0527 ...\n",
      "  .. .. ..$ sets                  :List of 3\n",
      "  .. .. .. ..$ cs                : NULL\n",
      "  .. .. .. ..$ coverage          : NULL\n",
      "  .. .. .. ..$ requested_coverage: num 0.95\n",
      "  .. .. ..$ cs_corr               : logi NA\n",
      "  .. .. ..$ sets_secondary        :List of 2\n",
      "  .. .. .. ..$ coverage_0.7:List of 2\n",
      "  .. .. .. .. ..$ sets   :List of 3\n",
      "  .. .. .. .. .. ..$ cs                : NULL\n",
      "  .. .. .. .. .. ..$ coverage          : NULL\n",
      "  .. .. .. .. .. ..$ requested_coverage: num 0.7\n",
      "  .. .. .. .. ..$ cs_corr: logi NA\n",
      "  .. .. .. ..$ coverage_0.5:List of 2\n",
      "  .. .. .. .. ..$ sets   :List of 3\n",
      "  .. .. .. .. .. ..$ cs                : NULL\n",
      "  .. .. .. .. .. ..$ coverage          : NULL\n",
      "  .. .. .. .. .. ..$ requested_coverage: num 0.5\n",
      "  .. .. .. .. ..$ cs_corr: logi NA\n",
      "  .. .. ..$ alpha                 : num [1, 1:22] 0.0304 0.0328 0.0994 0.0356 0.0527 ...\n",
      "  .. .. .. ..- attr(*, \"dimnames\")=List of 2\n",
      "  .. .. .. .. ..$ : NULL\n",
      "  .. .. .. .. ..$ : chr [1:22] \"chr1:64580401:A:T\" \"chr1:64594253:TAA:TA\" \"chr1:64864010:G:A\" \"chr1:64928793:AAAAC:A\" ...\n",
      "  .. .. ..$ lbf_variable          : num [1, 1:22] -0.368 -0.293 0.817 -0.21 0.182 ...\n",
      "  .. .. .. ..- attr(*, \"dimnames\")=List of 2\n",
      "  .. .. .. .. ..$ : NULL\n",
      "  .. .. .. .. ..$ : chr [1:22] \"chr1:64580401:A:T\" \"chr1:64594253:TAA:TA\" \"chr1:64864010:G:A\" \"chr1:64928793:AAAAC:A\" ...\n",
      "  .. .. ..$ V                     : num 0.00257\n",
      "  .. .. ..$ niter                 : int 3\n",
      "  .. .. ..$ max_L                 : int 8\n",
      "  .. .. ..$ X_column_scale_factors: Named num [1:22] 0.461 0.554 0.274 0.166 0.381 ...\n",
      "  .. .. .. ..- attr(*, \"names\")= chr [1:22] \"chr1:64580401:A:T\" \"chr1:64594253:TAA:TA\" \"chr1:64864010:G:A\" \"chr1:64928793:AAAAC:A\" ...\n",
      "  .. .. ..$ mu                    : num [1, 1:22] 0.000553 -0.013586 0.054048 -0.019748 0.036818 ...\n",
      "  .. .. .. ..- attr(*, \"dimnames\")=List of 2\n",
      "  .. .. .. .. ..$ : NULL\n",
      "  .. .. .. .. ..$ : chr [1:22] \"chr1:64580401:A:T\" \"chr1:64594253:TAA:TA\" \"chr1:64864010:G:A\" \"chr1:64928793:AAAAC:A\" ...\n",
      "  .. .. ..$ mu2                   : num [1, 1:22] 0.00123 0.00142 0.00415 0.00162 0.00259 ...\n",
      "  .. .. .. ..- attr(*, \"dimnames\")=List of 2\n",
      "  .. .. .. .. ..$ : NULL\n",
      "  .. .. .. .. ..$ : chr [1:22] \"chr1:64580401:A:T\" \"chr1:64594253:TAA:TA\" \"chr1:64864010:G:A\" \"chr1:64928793:AAAAC:A\" ...\n",
      "  .. .. ..- attr(*, \"class\")= chr \"susie\"\n",
      "  .. ..$ total_time_elapsed    : 'proc_time' Named num [1:5] 0.138 0.011 0.216 0 0\n",
      "  .. .. ..- attr(*, \"names\")= chr [1:5] \"user.self\" \"sys.self\" \"elapsed\" \"user.child\" ...\n",
      "  .. ..$ region_info           :List of 3\n",
      "  .. .. ..$ region_coord:'data.frame':\t1 obs. of  3 variables:\n",
      "  .. .. .. ..$ chrom: chr \"1\"\n",
      "  .. .. .. ..$ start: int 65420651\n",
      "  .. .. .. ..$ end  : int 65641558\n",
      "  .. .. ..$ grange      :'data.frame':\t1 obs. of  3 variables:\n",
      "  .. .. .. ..$ chrom: chr \"1\"\n",
      "  .. .. .. ..$ start: int 64420651\n",
      "  .. .. .. ..$ end  : int 67200000\n",
      "  .. .. ..$ region_name : chr [1:2] \"ENSG00000116678\" \"ENSG00000116678\"\n",
      "  .. ..$ preset_variants_result:List of 10\n",
      "  .. .. ..$ susie_fitted        :List of 22\n",
      "  .. .. .. ..$ alpha                 : num [1:5, 1:5] 0.221 0.222 0.224 0.225 0.223 ...\n",
      "  .. .. .. .. ..- attr(*, \"dimnames\")=List of 2\n",
      "  .. .. .. .. .. ..$ : NULL\n",
      "  .. .. .. .. .. ..$ : chr [1:5] \"chr1:64864010:G:A\" \"chr1:65103381:C:G\" \"chr1:65125079:G:A\" \"chr1:66784865:C:A\" ...\n",
      "  .. .. .. ..$ mu                    : num [1:5, 1:5] 0.0224 0.0243 0.0264 0.0267 0.0248 ...\n",
      "  .. .. .. .. ..- attr(*, \"dimnames\")=List of 2\n",
      "  .. .. .. .. .. ..$ : NULL\n",
      "  .. .. .. .. .. ..$ : chr [1:5] \"chr1:64864010:G:A\" \"chr1:65103381:C:G\" \"chr1:65125079:G:A\" \"chr1:66784865:C:A\" ...\n",
      "  .. .. .. ..$ mu2                   : num [1:5, 1:5] 0.00126 0.0014 0.00157 0.00159 0.00144 ...\n",
      "  .. .. .. .. ..- attr(*, \"dimnames\")=List of 2\n",
      "  .. .. .. .. .. ..$ : NULL\n",
      "  .. .. .. .. .. ..$ : chr [1:5] \"chr1:64864010:G:A\" \"chr1:65103381:C:G\" \"chr1:65125079:G:A\" \"chr1:66784865:C:A\" ...\n",
      "  .. .. .. ..$ Xr                    : num [1:150] -0.0106 -0.0166 0.0306 0.0618 -0.0106 ...\n",
      "  .. .. .. ..$ KL                    : num [1:5] 0.206 0.225 0.247 0.25 0.23\n",
      "  .. .. .. ..$ lbf                   : num [1:5] 0.0362 0.0432 0.0523 0.0539 0.0455\n",
      "  .. .. .. ..$ lbf_variable          : num [1:5, 1:5] 0.134 0.149 0.167 0.17 0.154 ...\n",
      "  .. .. .. .. ..- attr(*, \"dimnames\")=List of 2\n",
      "  .. .. .. .. .. ..$ : NULL\n",
      "  .. .. .. .. .. ..$ : chr [1:5] \"chr1:64864010:G:A\" \"chr1:65103381:C:G\" \"chr1:65125079:G:A\" \"chr1:66784865:C:A\" ...\n",
      "  .. .. .. ..$ sigma2                : num 0.346\n",
      "  .. .. .. ..$ V                     : num [1:5] 0.00112 0.00124 0.00139 0.00141 0.00128\n",
      "  .. .. .. ..$ pi                    : num [1:5] 0.2 0.2 0.2 0.2 0.2\n",
      "  .. .. .. ..$ null_index            : num 0\n",
      "  .. .. .. ..$ correct_zR_discrepancy:List of 5\n",
      "  .. .. .. .. ..$ to_correct          : logi FALSE\n",
      "  .. .. .. .. ..$ outlier_index       : logi(0) \n",
      "  .. .. .. .. ..$ is_init             : logi TRUE\n",
      "  .. .. .. .. ..$ outlier_stabilize   : num 5\n",
      "  .. .. .. .. ..$ outlier_stable_count: num 0\n",
      "  .. .. .. ..$ force_iterate         : logi FALSE\n",
      "  .. .. .. ..$ converged             : logi TRUE\n",
      "  .. .. .. ..$ elbo                  : num [1:7] -135 -134 -134 -134 -134 ...\n",
      "  .. .. .. ..$ niter                 : int 7\n",
      "  .. .. .. ..$ intercept             : num -0.0166\n",
      "  .. .. .. ..$ fitted                : Named num [1:150] -0.0106 -0.0166 0.0306 0.0618 -0.0106 ...\n",
      "  .. .. .. .. ..- attr(*, \"names\")= chr [1:150] \"sample0\" \"sample1\" \"sample10\" \"sample100\" ...\n",
      "  .. .. .. ..$ sets                  :List of 3\n",
      "  .. .. .. .. ..$ cs                : NULL\n",
      "  .. .. .. .. ..$ coverage          : NULL\n",
      "  .. .. .. .. ..$ requested_coverage: num 0.95\n",
      "  .. .. .. ..$ pip                   : Named num [1:5] 0.717 0.617 0.728 0.705 0.573\n",
      "  .. .. .. .. ..- attr(*, \"names\")= chr [1:5] \"chr1:64864010:G:A\" \"chr1:65103381:C:G\" \"chr1:65125079:G:A\" \"chr1:66784865:C:A\" ...\n",
      "  .. .. .. ..$ X_column_scale_factors: Named num [1:5] 0.301 0.414 0.629 0.63 0.305\n",
      "  .. .. .. .. ..- attr(*, \"names\")= chr [1:5] \"chr1:64864010:G:A\" \"chr1:65103381:C:G\" \"chr1:65125079:G:A\" \"chr1:66784865:C:A\" ...\n",
      "  .. .. .. ..$ time_elapsed          : 'proc_time' Named num [1:5] 0.019 0 0.019 0 0\n",
      "  .. .. .. .. ..- attr(*, \"names\")= chr [1:5] \"user.self\" \"sys.self\" \"elapsed\" \"user.child\" ...\n",
      "  .. .. .. ..- attr(*, \"class\")= chr \"susie\"\n",
      "  .. .. ..$ variant_names       : chr [1:5] \"chr1:64864010:G:A\" \"chr1:65103381:C:G\" \"chr1:65125079:G:A\" \"chr1:66784865:C:A\" ...\n",
      "  .. .. ..$ analysis_script     : chr \"options(warn=1)\\nlibrary(pecotmr)\\nphenotype_files = c(\\\"/mnt/vast/hpc/homes/al4225/xqtl_protocol_data/output/p\"| __truncated__\n",
      "  .. .. ..$ other_quantities    :List of 1\n",
      "  .. .. .. ..$ dropped_samples:List of 3\n",
      "  .. .. .. .. ..$ X    : NULL\n",
      "  .. .. .. .. ..$ y    : NULL\n",
      "  .. .. .. .. ..$ covar: NULL\n",
      "  .. .. ..$ sumstats            :List of 5\n",
      "  .. .. .. ..$ betahat  : Named num [1:5] 0.3134 0.1571 0.1656 -0.1466 0.0595\n",
      "  .. .. .. .. ..- attr(*, \"names\")= chr [1:5] \"chr1:64864010:G:A\" \"chr1:65103381:C:G\" \"chr1:65125079:G:A\" \"chr1:66784865:C:A\" ...\n",
      "  .. .. .. ..$ sebetahat: Named num [1:5] 0.1612 0.1181 0.0769 0.0771 0.161\n",
      "  .. .. .. .. ..- attr(*, \"names\")= chr [1:5] \"chr1:64864010:G:A\" \"chr1:65103381:C:G\" \"chr1:65125079:G:A\" \"chr1:66784865:C:A\" ...\n",
      "  .. .. .. ..$ z_scores : Named num [1:5] 1.944 1.331 2.153 -1.902 0.369\n",
      "  .. .. .. .. ..- attr(*, \"names\")= chr [1:5] \"chr1:64864010:G:A\" \"chr1:65103381:C:G\" \"chr1:65125079:G:A\" \"chr1:66784865:C:A\" ...\n",
      "  .. .. .. ..$ p_values : Named num [1:5] 0.0519 0.1833 0.0313 0.0572 0.7119\n",
      "  .. .. .. .. ..- attr(*, \"names\")= chr [1:5] \"chr1:64864010:G:A\" \"chr1:65103381:C:G\" \"chr1:65125079:G:A\" \"chr1:66784865:C:A\" ...\n",
      "  .. .. .. ..$ q_values : Named num [1:5] 0.0953 0.2291 0.0953 0.0953 0.7119\n",
      "  .. .. .. .. ..- attr(*, \"names\")= chr [1:5] \"chr1:64864010:G:A\" \"chr1:65103381:C:G\" \"chr1:65125079:G:A\" \"chr1:66784865:C:A\" ...\n",
      "  .. .. ..$ sample_names        : chr [1:150] \"sample0\" \"sample1\" \"sample10\" \"sample100\" ...\n",
      "  .. .. ..$ top_loci            :'data.frame':\t5 obs. of  9 variables:\n",
      "  .. .. .. ..$ variant_id      : chr [1:5] \"chr1:64864010:G:A\" \"chr1:65103381:C:G\" \"chr1:65125079:G:A\" \"chr1:66784865:C:A\" ...\n",
      "  .. .. .. ..$ betahat         : num [1:5] 0.3134 0.1571 0.1656 -0.1466 0.0595\n",
      "  .. .. .. ..$ sebetahat       : num [1:5] 0.1612 0.1181 0.0769 0.0771 0.161\n",
      "  .. .. .. ..$ z               : num [1:5] 1.944 1.331 2.153 -1.902 0.369\n",
      "  .. .. .. ..$ maf             : num [1:5] 0.05 0.0867 0.28 0.3133 0.0433\n",
      "  .. .. .. ..$ pip             : num [1:5] 0.717 0.617 0.728 0.705 0.573\n",
      "  .. .. .. ..$ cs_coverage_0.95: num [1:5] 0 0 0 0 0\n",
      "  .. .. .. ..$ cs_coverage_0.7 : num [1:5] 0 0 0 0 0\n",
      "  .. .. .. ..$ cs_coverage_0.5 : num [1:5] 0 0 0 0 0\n",
      "  .. .. ..$ susie_result_trimmed:List of 12\n",
      "  .. .. .. ..$ pip                   : num [1:5] 0.717 0.617 0.728 0.705 0.573\n",
      "  .. .. .. ..$ sets                  :List of 3\n",
      "  .. .. .. .. ..$ cs                : NULL\n",
      "  .. .. .. .. ..$ coverage          : NULL\n",
      "  .. .. .. .. ..$ requested_coverage: num 0.95\n",
      "  .. .. .. ..$ cs_corr               : logi NA\n",
      "  .. .. .. ..$ sets_secondary        :List of 2\n",
      "  .. .. .. .. ..$ coverage_0.7:List of 2\n",
      "  .. .. .. .. .. ..$ sets   :List of 3\n",
      "  .. .. .. .. .. .. ..$ cs                : NULL\n",
      "  .. .. .. .. .. .. ..$ coverage          : NULL\n",
      "  .. .. .. .. .. .. ..$ requested_coverage: num 0.7\n",
      "  .. .. .. .. .. ..$ cs_corr: logi NA\n",
      "  .. .. .. .. ..$ coverage_0.5:List of 2\n",
      "  .. .. .. .. .. ..$ sets   :List of 3\n",
      "  .. .. .. .. .. .. ..$ cs                : NULL\n",
      "  .. .. .. .. .. .. ..$ coverage          : NULL\n",
      "  .. .. .. .. .. .. ..$ requested_coverage: num 0.5\n",
      "  .. .. .. .. .. ..$ cs_corr: logi NA\n",
      "  .. .. .. ..$ alpha                 : num [1:5, 1:5] 0.221 0.222 0.224 0.225 0.223 ...\n",
      "  .. .. .. .. ..- attr(*, \"dimnames\")=List of 2\n",
      "  .. .. .. .. .. ..$ : NULL\n",
      "  .. .. .. .. .. ..$ : chr [1:5] \"chr1:64864010:G:A\" \"chr1:65103381:C:G\" \"chr1:65125079:G:A\" \"chr1:66784865:C:A\" ...\n",
      "  .. .. .. ..$ lbf_variable          : num [1:5, 1:5] 0.134 0.149 0.167 0.17 0.154 ...\n",
      "  .. .. .. .. ..- attr(*, \"dimnames\")=List of 2\n",
      "  .. .. .. .. .. ..$ : NULL\n",
      "  .. .. .. .. .. ..$ : chr [1:5] \"chr1:64864010:G:A\" \"chr1:65103381:C:G\" \"chr1:65125079:G:A\" \"chr1:66784865:C:A\" ...\n",
      "  .. .. .. ..$ V                     : num [1:5] 0.00112 0.00124 0.00139 0.00141 0.00128\n",
      "  .. .. .. ..$ niter                 : int 7\n",
      "  .. .. .. ..$ max_L                 : int 5\n",
      "  .. .. .. ..$ X_column_scale_factors: Named num [1:5] 0.301 0.414 0.629 0.63 0.305\n",
      "  .. .. .. .. ..- attr(*, \"names\")= chr [1:5] \"chr1:64864010:G:A\" \"chr1:65103381:C:G\" \"chr1:65125079:G:A\" \"chr1:66784865:C:A\" ...\n",
      "  .. .. .. ..$ mu                    : num [1:5, 1:5] 0.0224 0.0243 0.0264 0.0267 0.0248 ...\n",
      "  .. .. .. .. ..- attr(*, \"dimnames\")=List of 2\n",
      "  .. .. .. .. .. ..$ : NULL\n",
      "  .. .. .. .. .. ..$ : chr [1:5] \"chr1:64864010:G:A\" \"chr1:65103381:C:G\" \"chr1:65125079:G:A\" \"chr1:66784865:C:A\" ...\n",
      "  .. .. .. ..$ mu2                   : num [1:5, 1:5] 0.00126 0.0014 0.00157 0.00159 0.00144 ...\n",
      "  .. .. .. .. ..- attr(*, \"dimnames\")=List of 2\n",
      "  .. .. .. .. .. ..$ : NULL\n",
      "  .. .. .. .. .. ..$ : chr [1:5] \"chr1:64864010:G:A\" \"chr1:65103381:C:G\" \"chr1:65125079:G:A\" \"chr1:66784865:C:A\" ...\n",
      "  .. .. .. ..- attr(*, \"class\")= chr \"susie\"\n",
      "  .. .. ..$ total_time_elapsed  : 'proc_time' Named num [1:5] 0.043 0 0.043 0 0\n",
      "  .. .. .. ..- attr(*, \"names\")= chr [1:5] \"user.self\" \"sys.self\" \"elapsed\" \"user.child\" ...\n",
      "  .. .. ..$ region_info         :List of 3\n",
      "  .. .. .. ..$ region_coord:'data.frame':\t1 obs. of  3 variables:\n",
      "  .. .. .. .. ..$ chrom: chr \"1\"\n",
      "  .. .. .. .. ..$ start: int 65420651\n",
      "  .. .. .. .. ..$ end  : int 65641558\n",
      "  .. .. .. ..$ grange      :'data.frame':\t1 obs. of  3 variables:\n",
      "  .. .. .. .. ..$ chrom: chr \"1\"\n",
      "  .. .. .. .. ..$ start: int 64420651\n",
      "  .. .. .. .. ..$ end  : int 67200000\n",
      "  .. .. .. ..$ region_name : chr [1:2] \"ENSG00000116678\" \"ENSG00000116678\"\n"
     ]
    }
   ],
   "source": [
    "# change to R code\n",
    "setwd('/home/ubuntu/xqtl_protocol_exercise')\n",
    "uv_susie = readRDS('output/mnm_regression/susie_twas/fine_mapping/test_susie_twas.chr1_ENSG00000116678.univariate_bvsr.rds')\n",
    "names(uv_susie)\n",
    "str(uv_susie)"
   ]
  },
  {
   "cell_type": "markdown",
   "id": "ba120ebf",
   "metadata": {},
   "source": [
    "## 2. Regression with Summary Statistics (RSS) Fine-Mapping"
   ]
  },
  {
   "cell_type": "markdown",
   "id": "425fd5d0",
   "metadata": {},
   "source": [
    "### 2.1 Input\n",
    "RSS fine-mapping analysis requires the following inputs:\n",
    "- Summary statistics file (sumstat_path): A tab-delimited file containing the following columns:\n",
    "    - chrom: Chromosome\n",
    "    - pos: Genomic position\n",
    "    - A1 / A2: Alleles\n",
    "    - beta / se or z: Effect size and standard error, or Z-score\n",
    "    - n_sample (optional): Sample size\n",
    "\n",
    "- LD data (LD_data): The linkage disequilibrium matrix and variant information, typically loaded via the load_LD_matrix function.\n",
    "- Column mapping file (column_file_path): A file that defines the mapping between expected column names and those present in the summary statistics file."
   ]
  },
  {
   "cell_type": "code",
   "execution_count": null,
   "id": "e19579b1",
   "metadata": {
    "vscode": {
     "languageId": "shellscript"
    }
   },
   "outputs": [
    {
     "name": "stdout",
     "output_type": "stream",
     "text": [
      "study_id\tchrom\tfile_path\tcolumn_mapping_file\tn_sample\tn_case\tn_control\n",
      "AD_Bellenguez_2022\t0\tdata/twas/AD_Bellenguez_2022_RSS_QC_RAISS_imputed.tsv.gz\tdata/twas/Bellenguez.yml\t0\t111326\t677663\n"
     ]
    }
   ],
   "source": [
    "cd /home/ubuntu/xqtl_protocol_exercise\n",
    "head data/mnm_regression/gwas_meta_data.txt"
   ]
  },
  {
   "cell_type": "markdown",
   "id": "8d36940b",
   "metadata": {},
   "source": [
    "### 2.2 Command\n",
    "#### Parameter Breakdown\n",
    "\n",
    "- **`-ld-meta-data reference_data/ADSP_R4_EUR/ld_meta_file.tsv`**\n",
    "This specifies the LD reference panel metadata file. The RSS analysis requires LD information to perform fine-mapping, as shown in where the **`rss_analysis_pipeline`** function takes **`LD_data`** as a required parameter.\n",
    "- **`-gwas-meta-data data/mnm_regression/gwas_meta_data.txt`**\n",
    "This points to the GWAS metadata file containing information about the summary statistics files to be analyzed. The pipeline uses this to load summary statistics via the **`load_rss_data`** function.\n",
    "- **`-qc_method \"rss_qc\"`**\n",
    "This sets the quality control method to \"rss_qc\". As seen in , the pipeline supports multiple QC methods including \"rss_qc\", \"dentist\", and \"slalom\". The QC is performed through the **`summary_stats_qc`** function.\n",
    "- **`-impute`**\n",
    "This enables statistical imputation using the RAISS method. When enabled, the pipeline calls to perform imputation for missing variants using the **`raiss`** function with default parameters.\n",
    "- **`-finemapping_method \"susie_rss\"`**\n",
    "This specifies using SuSiE RSS for fine-mapping. The method is implemented in through the **`susie_rss_pipeline`** function, which supports \"susie_rss\", \"single_effect\", and \"bayesian_conditional_regression\" methods.\n",
    "- **`-skip_analysis_pip_cutoff 0`**\n",
    "This sets the PIP (Posterior Inclusion Probability) threshold for skipping analysis to 0, meaning no regions will be skipped based on initial PIP screening. The logic is implemented in .\n",
    "- **`-skip_regions 6:25000000-35000000`**\n",
    "This excludes the specified genomic region (chromosome 6, positions 25-35 Mb) from analysis. This is processed through the **`rss_basic_qc`** function which handles region filtering.\n",
    "- **`-region_name 22:49355984-50799822`**\n",
    "This specifies the target region for analysis (chromosome 22, positions ~49.4-50.8 Mb). The region is used to subset both the summary statistics and LD data for focused analysis.\n",
    "\n",
    "The RSS analysis pipeline will process the specified region using the ADSP_R4_EUR LD reference panel, apply RSS quality control, perform RAISS imputation, and conduct SuSiE RSS fine-mapping to identify potential causal variants in the target region."
   ]
  },
  {
   "cell_type": "code",
   "execution_count": null,
   "id": "07ea20b8",
   "metadata": {
    "vscode": {
     "languageId": "shellscript"
    }
   },
   "outputs": [
    {
     "name": "stdout",
     "output_type": "stream",
     "text": [
      "/home/al4225/.pixi/envs/python/lib/python3.12/site-packages/sos/targets.py:22: UserWarning: pkg_resources is deprecated as an API. See https://setuptools.pypa.io/en/latest/pkg_resources.html. The pkg_resources package is slated for removal as early as 2025-11-30. Refrain from using this package or pin to Setuptools<81.\n",
      "  import pkg_resources\n",
      "INFO: Running \u001b[32mget_analysis_regions\u001b[0m: \n",
      "INFO: Note: NumExpr detected 32 cores but \"NUMEXPR_MAX_THREADS\" not set, so enforcing safe limit of 16.\n",
      "INFO: NumExpr defaulting to 16 threads.\n",
      "INFO: \u001b[32mget_analysis_regions\u001b[0m is \u001b[32mcompleted\u001b[0m.\n",
      "INFO: \u001b[32mget_analysis_regions\u001b[0m output:   \u001b[32mregional_data\u001b[0m\n",
      "INFO: Running \u001b[32munivariate_rss\u001b[0m: \n",
      "INFO: \u001b[32munivariate_rss\u001b[0m is \u001b[32mcompleted\u001b[0m.\n",
      "INFO: \u001b[32munivariate_rss\u001b[0m output:   \u001b[32m/mnt/vast/hpc/homes/al4225/xqtl_protocol_data/output/rss_analysis/univariate_rss/RSS_QC_RAISS_imputed.chr22_49355984_50799822.univariate_susie_rss.rds\u001b[0m\n",
      "INFO: Workflow univariate_rss (ID=w60aca78e2357ae7c) is executed successfully with 2 completed steps.\n"
     ]
    }
   ],
   "source": [
    "sos run pipeline/rss_analysis.ipynb univariate_rss \\\n",
    "    --ld-meta-data reference_data/ADSP_R4_EUR/ld_meta_file.tsv \\\n",
    "    --gwas-meta-data data/mnm_regression/gwas_meta_data.txt \\\n",
    "    --qc_method \"rss_qc\" --impute \\\n",
    "    --finemapping_method \"susie_rss\" \\\n",
    "    --cwd output/rss_analysis \\\n",
    "    --skip_analysis_pip_cutoff 0 \\\n",
    "    --skip_regions 6:25000000-35000000 \\\n",
    "    --region_name 22:49355984-50799822"
   ]
  },
  {
   "cell_type": "markdown",
   "id": "c1fc6e1f",
   "metadata": {},
   "source": [
    "### 2.3 Output Structure\n",
    "\n",
    "The RSS fine-mapping analysis produces results files with the naming pattern **`RSS_QC_RAISS_imputed.{region}.univariate_susie_rss.rds`**, where each file contains results for a specific genomic region and GWAS study.\n",
    "\n",
    "#### **Main Result Components**\n",
    "\n",
    "The top-level structure contains these key components:\n",
    "\n",
    "**RSS_QC_RAISS_imputed** (the main analysis result):\n",
    "\n",
    "- **variant_names**: Character vector of variant identifiers in \"chrom:pos:ref:alt\" format\n",
    "- **analysis_script**: The R script used for the analysis\n",
    "- **sumstats**: List containing the Z-scores used for SuSiE RSS analysis\n",
    "- **susie_result_trimmed**: Core SuSiE fine-mapping results including PIPs, credible sets, and model parameters\n",
    "- **outlier_number**: Integer count of outliers detected during quality control\n",
    "\n",
    "#### **Detailed Data Frame Columns**\n",
    "\n",
    "The **`rss_data_analyzed`** component contains a data frame with 26 variables representing the processed summary statistics:\n",
    "\n",
    "**Basic Variant Information:**\n",
    "\n",
    "- **chrom**: Chromosome number\n",
    "- **pos**: Genomic position\n",
    "- **variant_id**: Variant identifier in standardized format\n",
    "- **A1**: Effect allele (reference allele)\n",
    "- **A2**: Other allele (alternative allele)\n",
    "\n",
    "**GWAS Summary Statistics:**\n",
    "\n",
    "- **pvalue**: P-value from association test\n",
    "- **effect_allele_frequency**: Frequency of the effect allele\n",
    "- **odds_ratio**: Odds ratio for binary traits\n",
    "- **ci_lower/ci_upper**: Confidence interval bounds\n",
    "- **beta**: Effect size estimate (may be NA if using odds ratios)\n",
    "- **se**: Standard error of effect estimate\n",
    "- **z**: Z-score (beta/se or derived from p-value)\n",
    "\n",
    "**Study Design Information:**\n",
    "\n",
    "- **n_case**: Number of cases (for case-control studies)\n",
    "- **n_control**: Number of controls\n",
    "- **het_isq**: I² heterogeneity statistic for meta-analysis\n",
    "- **het_pvalue**: P-value for heterogeneity test\n",
    "\n",
    "**RAISS Imputation Results:**\n",
    "\n",
    "- **var**: Variance estimate (-1 indicates original data, not imputed)\n",
    "- **raiss_ld_score**: LD score from RAISS imputation\n",
    "- **raiss_R2**: R² quality metric for imputed variants\n",
    "- **variant_alternate_id**: Alternative variant identifier"
   ]
  },
  {
   "cell_type": "code",
   "execution_count": null,
   "id": "87bbe933",
   "metadata": {
    "vscode": {
     "languageId": "shellscript"
    }
   },
   "outputs": [
    {
     "data": {
      "text/html": [
       "'chr22_49355984_50799822'"
      ],
      "text/latex": [
       "'chr22\\_49355984\\_50799822'"
      ],
      "text/markdown": [
       "'chr22_49355984_50799822'"
      ],
      "text/plain": [
       "[1] \"chr22_49355984_50799822\""
      ]
     },
     "metadata": {},
     "output_type": "display_data"
    },
    {
     "name": "stdout",
     "output_type": "stream",
     "text": [
      "List of 1\n",
      " $ chr22_49355984_50799822:List of 1\n",
      "  ..$ AD_Bellenguez_2022:List of 2\n",
      "  .. ..$ susie_rss_RSS_QC_RAISS_imputed:List of 5\n",
      "  .. .. ..$ variant_names       : chr [1:7610] \"22:49356357:G:A\" \"22:49356408:G:A\" \"22:49356690:C:T\" \"22:49357190:G:A\" ...\n",
      "  .. .. ..$ analysis_script     : chr \"library(pecotmr)\\nlibrary(dplyr)\\nlibrary(data.table)\\nskip_region = c(\\\"6:25000000-35000000\\\")\\nstudies = c(\\\"\"| __truncated__\n",
      "  .. .. ..$ sumstats            :List of 1\n",
      "  .. .. .. ..$ z: num [1:7610] 0.3034 1.2604 0.0707 1.2353 -1.2175 ...\n",
      "  .. .. ..$ susie_result_trimmed:List of 9\n",
      "  .. .. .. ..$ pip           : num [1:7610] 0.000471 0.000674 0.000461 0.000654 0.000659 ...\n",
      "  .. .. .. ..$ sets          :List of 3\n",
      "  .. .. .. .. ..$ cs                : NULL\n",
      "  .. .. .. .. ..$ coverage          : NULL\n",
      "  .. .. .. .. ..$ requested_coverage: num 0.95\n",
      "  .. .. .. ..$ cs_corr       : logi NA\n",
      "  .. .. .. ..$ sets_secondary:List of 2\n",
      "  .. .. .. .. ..$ coverage_0.7:List of 2\n",
      "  .. .. .. .. .. ..$ sets   :List of 3\n",
      "  .. .. .. .. .. .. ..$ cs                : NULL\n",
      "  .. .. .. .. .. .. ..$ coverage          : NULL\n",
      "  .. .. .. .. .. .. ..$ requested_coverage: num 0.7\n",
      "  .. .. .. .. .. ..$ cs_corr: logi NA\n",
      "  .. .. .. .. ..$ coverage_0.5:List of 2\n",
      "  .. .. .. .. .. ..$ sets   :List of 3\n",
      "  .. .. .. .. .. .. ..$ cs                : NULL\n",
      "  .. .. .. .. .. .. ..$ coverage          : NULL\n",
      "  .. .. .. .. .. .. ..$ requested_coverage: num 0.5\n",
      "  .. .. .. .. .. ..$ cs_corr: logi NA\n",
      "  .. .. .. ..$ alpha         : num [1:5, 1:7610] 9.46e-05 9.43e-05 9.40e-05 9.39e-05 9.40e-05 ...\n",
      "  .. .. .. .. ..- attr(*, \"dimnames\")=List of 2\n",
      "  .. .. .. .. .. ..$ : NULL\n",
      "  .. .. .. .. .. ..$ : chr [1:7610] \"22:49356357:G:A\" \"22:49356408:G:A\" \"22:49356690:C:T\" \"22:49357190:G:A\" ...\n",
      "  .. .. .. ..$ lbf_variable  : num [1:5, 1:7610] -0.309 -0.311 -0.314 -0.315 -0.314 ...\n",
      "  .. .. .. .. ..- attr(*, \"dimnames\")=List of 2\n",
      "  .. .. .. .. .. ..$ : NULL\n",
      "  .. .. .. .. .. ..$ : chr [1:7610] \"22:49356357:G:A\" \"22:49356408:G:A\" \"22:49356690:C:T\" \"22:49357190:G:A\" ...\n",
      "  .. .. .. ..$ V             : num [1:5] 1.19e-06 1.20e-06 1.22e-06 1.22e-06 1.21e-06\n",
      "  .. .. .. ..$ niter         : int 3\n",
      "  .. .. .. ..$ max_L         : int 5\n",
      "  .. .. .. ..- attr(*, \"class\")= chr \"susie\"\n",
      "  .. .. ..$ outlier_number      : int 0\n",
      "  .. ..$ rss_data_analyzed             :'data.frame':\t7610 obs. of  26 variables:\n",
      "  .. .. ..$ chrom                  : chr [1:7610] \"22\" \"22\" \"22\" \"22\" ...\n",
      "  .. .. ..$ pos                    : int [1:7610] 49356357 49356408 49356690 49357190 49357240 49357241 49357280 49357375 49357392 49357798 ...\n",
      "  .. .. ..$ variant_id             : chr [1:7610] \"22:49356357:G:A\" \"22:49356408:G:A\" \"22:49356690:C:T\" \"22:49357190:G:A\" ...\n",
      "  .. .. ..$ A1                     : chr [1:7610] \"A\" \"A\" \"T\" \"A\" ...\n",
      "  .. .. ..$ A2                     : chr [1:7610] \"G\" \"G\" \"C\" \"G\" ...\n",
      "  .. .. ..$ Var.x                  : num [1:7610] NA NA NA NA NA NA NA NA NA NA ...\n",
      "  .. .. ..$ raiss_ld_score.x       : num [1:7610] NA NA NA NA NA NA NA NA NA NA ...\n",
      "  .. .. ..$ raiss_R2.x             : num [1:7610] NA NA NA NA NA NA NA NA NA NA ...\n",
      "  .. .. ..$ Var.y                  : num [1:7610] -1 -1 -1 -1 -1 -1 -1 -1 -1 -1 ...\n",
      "  .. .. ..$ raiss_ld_score.y       : num [1:7610] Inf Inf Inf Inf Inf ...\n",
      "  .. .. ..$ raiss_R2.y             : num [1:7610] NA NA NA NA NA NA NA NA NA NA ...\n",
      "  .. .. ..$ pvalue                 : num [1:7610] 0.761 0.206 0.944 0.214 0.223 ...\n",
      "  .. .. ..$ effect_allele_frequency: num [1:7610] 0.0011 0.3395 0.0015 0.4021 0.0035 ...\n",
      "  .. .. ..$ odds_ratio             : num [1:7610] 1.069 1.012 1.011 1.011 0.895 ...\n",
      "  .. .. ..$ ci_lower               : num [1:7610] 0.696 0.993 0.737 0.994 0.748 0.736 0.998 0.691 0.939 0.988 ...\n",
      "  .. .. ..$ ci_upper               : num [1:7610] 1.64 1.03 1.39 1.03 1.07 ...\n",
      "  .. .. ..$ n_case                 : num [1:7610] 76073 85665 72606 85300 81503 ...\n",
      "  .. .. ..$ n_control              : num [1:7610] 367064 400902 367432 394796 380555 ...\n",
      "  .. .. ..$ het_isq                : num [1:7610] 67.1 0 0 0 47.8 0 0 0 0 12.7 ...\n",
      "  .. .. ..$ het_pvalue             : num [1:7610] 0.0477 0.8058 0.718 0.524 0.1046 ...\n",
      "  .. .. ..$ beta                   : num [1:7610] NA NA NA NA NA NA NA NA NA NA ...\n",
      "  .. .. ..$ se                     : num [1:7610] NA NA NA NA NA NA NA NA NA NA ...\n",
      "  .. .. ..$ variants_id_original   : chr [1:7610] \"22:49356357:G:A\" \"22:49356408:G:A\" \"22:49356690:C:T\" \"22:49357190:G:A\" ...\n",
      "  .. .. ..$ Var                    : num [1:7610] -1 -1 -1 -1 -1 -1 -1 -1 -1 -1 ...\n",
      "  .. .. ..$ raiss_ld_score         : num [1:7610] Inf Inf Inf Inf Inf ...\n",
      "  .. .. ..$ z                      : num [1:7610] 0.3034 1.2604 0.0707 1.2353 -1.2175 ...\n"
     ]
    }
   ],
   "source": [
    "# R code\n",
    "rss = readRDS('/mnt/vast/hpc/homes/al4225/xqtl_protocol_data/output/rss_analysis/univariate_rss/RSS_QC_RAISS_imputed.chr22_49355984_50799822.univariate_susie_rss.rds')\n",
    "names(rss)\n",
    "str(rss)"
   ]
  },
  {
   "cell_type": "markdown",
   "id": "c04bf53b",
   "metadata": {},
   "source": [
    "## 3. Other finemapping methods (optional)\n",
    "### Univariate Fine-Mapping of Functional (Epigenomic) Data with fSuSiE"
   ]
  },
  {
   "cell_type": "code",
   "execution_count": null,
   "id": "66d34aa9",
   "metadata": {
    "vscode": {
     "languageId": "shellscript"
    }
   },
   "outputs": [
    {
     "name": "stdout",
     "output_type": "stream",
     "text": [
      "/home/al4225/.pixi/envs/python/lib/python3.12/site-packages/sos/targets.py:22: UserWarning: pkg_resources is deprecated as an API. See https://setuptools.pypa.io/en/latest/pkg_resources.html. The pkg_resources package is slated for removal as early as 2025-11-30. Refrain from using this package or pin to Setuptools<81.\n",
      "  import pkg_resources\n",
      "INFO: Note: NumExpr detected 32 cores but \"NUMEXPR_MAX_THREADS\" not set, so enforcing safe limit of 16.\n",
      "INFO: NumExpr defaulting to 16 threads.\n",
      "INFO: Running \u001b[32mget_analysis_regions\u001b[0m: \n",
      "Loading customized association analysis window from reference_data/TAD/TADB_enhanced_cis.bed\n",
      "INFO: \u001b[32mget_analysis_regions\u001b[0m is \u001b[32mcompleted\u001b[0m.\n",
      "INFO: \u001b[32mget_analysis_regions\u001b[0m output:   \u001b[32mregional_data\u001b[0m\n",
      "INFO: Running \u001b[32mfsusie\u001b[0m: \n",
      "INFO: \u001b[32mfsusie\u001b[0m (index=1) is \u001b[32mcompleted\u001b[0m.\n",
      "INFO: \u001b[32mfsusie\u001b[0m (index=0) is \u001b[32mcompleted\u001b[0m.\n",
      "INFO: \u001b[32mfsusie\u001b[0m (index=2) is \u001b[32mcompleted\u001b[0m.\n",
      "INFO: \u001b[32mfsusie\u001b[0m output:   \u001b[32m/mnt/vast/hpc/homes/al4225/xqtl_protocol_data/output/fsusie/fsus/test_fsusie.chr1_7784319_7845176.fsusie_mixture_normal_TI__top_pc_weights.rds /mnt/vast/hpc/homes/al4225/xqtl_protocol_data/output/fsusie/fsus/test_fsusie.chr1_36136569_36156052.fsusie_mixture_normal_TI__top_pc_weights.rds... (3 items in 3 groups)\u001b[0m\n",
      "INFO: Workflow fsusie (ID=w0f07901154c63bb0) is executed successfully with 2 completed steps and 4 completed substeps.\n"
     ]
    }
   ],
   "source": [
    "cd /home/ubuntu/xqtl_protocol_exercise\n",
    "sos run pipeline/mnm_regression.ipynb fsusie \\\n",
    "    --cwd output/fsusie/ \\\n",
    "    --name test_fsusie \\\n",
    "    --genoFile output/genotype_by_chrom/wgs.merged.plink_qc.genotype_by_chrom_files.txt \\\n",
    "    --phenoFile output/phenotype/phenotype_by_chrom_for_cis/bulk_rnaseq.phenotype_by_chrom_files.region_list.txt \\\n",
    "    --covFile output/covariate/bulk_rnaseq_tmp_matrix.low_expression_filtered.outlier_removed.tmm.expression.covariates.wgs.merged.plink_qc.plink_qc.prune.pca.Marchenko_PC.gz \\\n",
    "    --numThreads 8 \\\n",
    "    --customized-association-windows reference_data/TAD/TADB_enhanced_cis.bed \\\n",
    "    --save-data \\\n",
    "    --region-name ENSG00000049246 ENSG00000054116 ENSG00000116678 "
   ]
  }
 ],
 "metadata": {
  "kernelspec": {
   "display_name": "Bash",
   "language": "bash",
   "name": "bash"
  },
  "language_info": {
   "codemirror_mode": "shell",
   "file_extension": ".sh",
   "mimetype": "text/x-sh",
   "name": "bash"
  }
 },
 "nbformat": 4,
 "nbformat_minor": 5
}
