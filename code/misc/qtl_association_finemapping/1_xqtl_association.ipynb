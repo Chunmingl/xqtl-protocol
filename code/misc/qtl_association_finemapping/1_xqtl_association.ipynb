{
 "cells": [
  {
   "cell_type": "markdown",
   "id": "2fde8b93",
   "metadata": {},
   "source": [
    "## TensorQTL Association Scan\n",
    "Details in pipeline/TensorQTL.ipynb\n"
   ]
  },
  {
   "cell_type": "markdown",
   "id": "cee74336",
   "metadata": {},
   "source": [
    "### i. Cis TensorQTL Command\n",
    "\n",
    "For cis-analysis:\n",
    "\n",
    "- Optionally, a list of genomic regions associate with each molecular features to analyze. The default cis-analysis will use a window around TSS. This can be customized to take given start and end genomic coordinates. we currently suggest using 1Mb window around a gene because longer customized cis-windows (such as extending by TAD) does not yield significant improvements.\n"
   ]
  },
  {
   "cell_type": "code",
   "execution_count": null,
   "id": "7935fbcc",
   "metadata": {
    "vscode": {
     "languageId": "shellscript"
    }
   },
   "outputs": [
    {
     "name": "stdout",
     "output_type": "stream",
     "text": [
      "#id\t#path\n",
      "11\t/mnt/vast/hpc/homes/al4225/xqtl_protocol_data/output/genotype_by_chrom/wgs.merged.plink_qc.11.bed\n",
      "3\t/mnt/vast/hpc/homes/al4225/xqtl_protocol_data/output/genotype_by_chrom/wgs.merged.plink_qc.3.bed\n",
      "10\t/mnt/vast/hpc/homes/al4225/xqtl_protocol_data/output/genotype_by_chrom/wgs.merged.plink_qc.10.bed\n",
      "22\t/mnt/vast/hpc/homes/al4225/xqtl_protocol_data/output/genotype_by_chrom/wgs.merged.plink_qc.22.bed\n",
      "20\t/mnt/vast/hpc/homes/al4225/xqtl_protocol_data/output/genotype_by_chrom/wgs.merged.plink_qc.20.bed\n",
      "15\t/mnt/vast/hpc/homes/al4225/xqtl_protocol_data/output/genotype_by_chrom/wgs.merged.plink_qc.15.bed\n",
      "6\t/mnt/vast/hpc/homes/al4225/xqtl_protocol_data/output/genotype_by_chrom/wgs.merged.plink_qc.6.bed\n",
      "4\t/mnt/vast/hpc/homes/al4225/xqtl_protocol_data/output/genotype_by_chrom/wgs.merged.plink_qc.4.bed\n",
      "13\t/mnt/vast/hpc/homes/al4225/xqtl_protocol_data/output/genotype_by_chrom/wgs.merged.plink_qc.13.bed\n"
     ]
    }
   ],
   "source": [
    "cd /home/ubuntu/xqtl_protocol_exercise\n",
    "# genotype input\n",
    "head output/genotype_by_chrom/wgs.merged.plink_qc.genotype_by_chrom_files.txt"
   ]
  },
  {
   "cell_type": "code",
   "execution_count": 2,
   "id": "7e9e7db2",
   "metadata": {
    "vscode": {
     "languageId": "shellscript"
    }
   },
   "outputs": [
    {
     "name": "stdout",
     "output_type": "stream",
     "text": [
      "#id\t#dir\n",
      "15\toutput/phenotype/phenotype_by_chrom_for_cis/bulk_rnaseq.chr15.bed.gz\n",
      "13\toutput/phenotype/phenotype_by_chrom_for_cis/bulk_rnaseq.chr13.bed.gz\n",
      "2\toutput/phenotype/phenotype_by_chrom_for_cis/bulk_rnaseq.chr2.bed.gz\n",
      "19\toutput/phenotype/phenotype_by_chrom_for_cis/bulk_rnaseq.chr19.bed.gz\n",
      "18\toutput/phenotype/phenotype_by_chrom_for_cis/bulk_rnaseq.chr18.bed.gz\n",
      "1\toutput/phenotype/phenotype_by_chrom_for_cis/bulk_rnaseq.chr1.bed.gz\n",
      "3\toutput/phenotype/phenotype_by_chrom_for_cis/bulk_rnaseq.chr3.bed.gz\n",
      "20\toutput/phenotype/phenotype_by_chrom_for_cis/bulk_rnaseq.chr20.bed.gz\n",
      "10\toutput/phenotype/phenotype_by_chrom_for_cis/bulk_rnaseq.chr10.bed.gz\n"
     ]
    }
   ],
   "source": [
    "# phenotype input\n",
    "head output/phenotype/phenotype_by_chrom_for_cis/bulk_rnaseq.phenotype_by_chrom_files.txt"
   ]
  },
  {
   "cell_type": "code",
   "execution_count": 3,
   "id": "0da95e52",
   "metadata": {
    "vscode": {
     "languageId": "shellscript"
    }
   },
   "outputs": [
    {
     "name": "stdout",
     "output_type": "stream",
     "text": [
      "#chr\tstart\tend\tgene_id\n",
      "chr1\t0\t6480000\tENSG00000008128\n",
      "chr1\t0\t6480000\tENSG00000008130\n",
      "chr1\t0\t6480000\tENSG00000067606\n",
      "chr1\t0\t7101193\tENSG00000069424\n",
      "chr1\t0\t7960000\tENSG00000069812\n",
      "chr1\t0\t6480000\tENSG00000078369\n",
      "chr1\t0\t6480000\tENSG00000078808\n",
      "chr1\t0\t6480000\tENSG00000078900\n",
      "chr1\t0\t7960000\tENSG00000097021\n"
     ]
    }
   ],
   "source": [
    "head reference_data/TAD/TADB_enhanced_cis.bed"
   ]
  },
  {
   "cell_type": "code",
   "execution_count": null,
   "id": "7b16023d",
   "metadata": {
    "vscode": {
     "languageId": "shellscript"
    }
   },
   "outputs": [
    {
     "name": "stdout",
     "output_type": "stream",
     "text": [
      "/home/al4225/.pixi/envs/python/lib/python3.12/site-packages/sos/targets.py:22: UserWarning: pkg_resources is deprecated as an API. See https://setuptools.pypa.io/en/latest/pkg_resources.html. The pkg_resources package is slated for removal as early as 2025-11-30. Refrain from using this package or pin to Setuptools<81.\n",
      "  import pkg_resources\n",
      "INFO: Note: NumExpr detected 32 cores but \"NUMEXPR_MAX_THREADS\" not set, so enforcing safe limit of 16.\n",
      "INFO: NumExpr defaulting to 16 threads.\n",
      "INFO: Running \u001b[32mcis_1\u001b[0m: \n",
      "INFO: \u001b[32mcis_1\u001b[0m (index=5) is \u001b[32mcompleted\u001b[0m.\n",
      "INFO: \u001b[32mcis_1\u001b[0m (index=0) is \u001b[32mcompleted\u001b[0m.\n",
      "INFO: \u001b[32mcis_1\u001b[0m (index=7) is \u001b[32mcompleted\u001b[0m.\n",
      "INFO: \u001b[32mcis_1\u001b[0m (index=3) is \u001b[32mcompleted\u001b[0m.\n",
      "INFO: \u001b[32mcis_1\u001b[0m (index=1) is \u001b[32mcompleted\u001b[0m.\n",
      "INFO: \u001b[32mcis_1\u001b[0m (index=4) is \u001b[32mcompleted\u001b[0m.\n",
      "INFO: \u001b[32mcis_1\u001b[0m (index=2) is \u001b[32mcompleted\u001b[0m.\n",
      "INFO: \u001b[32mcis_1\u001b[0m (index=6) is \u001b[32mcompleted\u001b[0m.\n",
      "INFO: \u001b[32mcis_1\u001b[0m (index=9) is \u001b[32mcompleted\u001b[0m.\n",
      "INFO: \u001b[32mcis_1\u001b[0m (index=8) is \u001b[32mcompleted\u001b[0m.\n",
      "INFO: \u001b[32mcis_1\u001b[0m (index=10) is \u001b[32mcompleted\u001b[0m.\n",
      "INFO: \u001b[32mcis_1\u001b[0m (index=14) is \u001b[32mcompleted\u001b[0m.\n",
      "INFO: \u001b[32mcis_1\u001b[0m (index=12) is \u001b[32mcompleted\u001b[0m.\n",
      "INFO: \u001b[32mcis_1\u001b[0m (index=17) is \u001b[32mcompleted\u001b[0m.\n",
      "INFO: \u001b[32mcis_1\u001b[0m (index=15) is \u001b[32mcompleted\u001b[0m.\n",
      "INFO: \u001b[32mcis_1\u001b[0m (index=11) is \u001b[32mcompleted\u001b[0m.\n",
      "INFO: \u001b[32mcis_1\u001b[0m (index=13) is \u001b[32mcompleted\u001b[0m.\n",
      "INFO: \u001b[32mcis_1\u001b[0m (index=16) is \u001b[32mcompleted\u001b[0m.\n",
      "INFO: \u001b[32mcis_1\u001b[0m (index=19) is \u001b[32mcompleted\u001b[0m.\n",
      "INFO: \u001b[32mcis_1\u001b[0m (index=20) is \u001b[32mcompleted\u001b[0m.\n",
      "INFO: \u001b[32mcis_1\u001b[0m (index=21) is \u001b[32mcompleted\u001b[0m.\n",
      "INFO: \u001b[32mcis_1\u001b[0m (index=18) is \u001b[32mcompleted\u001b[0m.\n",
      "INFO: \u001b[32mcis_1\u001b[0m output:   \u001b[32m/mnt/vast/hpc/homes/al4225/xqtl_protocol_data/output/tensorqtl_cis/bulk_rnaseq.chr1.cis_qtl_pairs.1.parquet /mnt/vast/hpc/homes/al4225/xqtl_protocol_data/output/tensorqtl_cis/bulk_rnaseq.chr1_chr1.cis_qtl.pairs.tsv.gz... (66 items in 22 groups)\u001b[0m\n",
      "INFO: Running \u001b[32mcis_2\u001b[0m: \n",
      "INFO: \u001b[32mcis_2\u001b[0m is \u001b[32mcompleted\u001b[0m.\n",
      "INFO: \u001b[32mcis_2\u001b[0m output:   \u001b[32moutput/tensorqtl_cis/bulk_rnaseq.cis_qtl_regional_significance.tsv.gz output/tensorqtl_cis/bulk_rnaseq.cis_qtl_regional_significance.summary.txt\u001b[0m\n",
      "INFO: Workflow cis (ID=wfc148d721f023770) is executed successfully with 2 completed steps and 23 completed substeps.\n"
     ]
    }
   ],
   "source": [
    "cd /home/ubuntu/xqtl_protocol_exercise\n",
    "sos run pipeline/TensorQTL.ipynb cis \\\n",
    "    --genotype-file output/genotype_by_chrom/wgs.merged.plink_qc.genotype_by_chrom_files.txt \\\n",
    "    --phenotype-file output/phenotype/phenotype_by_chrom_for_cis/bulk_rnaseq.phenotype_by_chrom_files.txt \\\n",
    "    --covariate-file output/covariate/bulk_rnaseq_tmp_matrix.low_expression_filtered.outlier_removed.tmm.expression.covariates.wgs.merged.plink_qc.plink_qc.prune.pca.Marchenko_PC.gz \\\n",
    "    --customized-cis-windows reference_data/TAD/TADB_enhanced_cis.bed \\\n",
    "    --cwd output/tensorqtl_cis/ \\\n",
    "    --MAC 5 \n"
   ]
  },
  {
   "cell_type": "code",
   "execution_count": null,
   "id": "e8a20ee0",
   "metadata": {
    "vscode": {
     "languageId": "shellscript"
    }
   },
   "outputs": [
    {
     "name": "stdout",
     "output_type": "stream",
     "text": [
      "chrom\tpos\tn_variants\tbeta_shape1\tbeta_shape2\ttrue_df\tp_true_df\tvariant_id\ttss_distance\ttes_distance\tma_samples\tma_count\taf\tp_nominal\tbhat\tsebhat\tp_perm\tp_beta\tmolecular_trait_object_id\tn_traits\tgenomic_inflation\tq_beta\tq_perm\tfdr_beta\tfdr_perm\n",
      "1\t1513923\t92\t1.0355232\t72.406044\t115.90487\t0.00739279523105744\tchr1:1513923_G_C\t1513923\t-4966077\t34\t37\t0.123333335\t0.00664174003267948\t-0.283108\t0.102471426\t0.40505949405059494\t0.39851849565694286\tENSG00000157873\t1\t0.7910113573571564\t0.7907205349751064\t0.7920501791224475\t0.9309048775073204\t0.9327637769138446\n",
      "1\t3831949\t92\t1.0015119\t77.54247\t120.00741\t0.00251554331475753\tchr1:3831949_G_T\t3831949\t-2648051\t72\t79\t0.26333332\t0.00262364518042685\t-0.31753382\t0.103313595\t0.17618238176182385\t0.1768556606343677\tENSG00000186891\t1\t1.7307880519886911\t0.7174674341548244\t0.7207853258606038\t0.844664966148141\t0.8488381931037665\n",
      "1\t4943741\t92\t0.9907686\t73.42096\t118.44848\t0.02202556157453807\tchr1:4943741_TGATAGATAGATAGATAGATA_TAGATAGATAGATAGATAGATA\t4943741\t-1536259\t13\t13\t0.043333333\t0.02171741738858202\t0.6373308\t0.27401643999999997\t0.8082191780821918\t0.8077440564266092\tENSG00000239945\t1\t0.5758390887174032\t0.8201997907592856\t0.82100817060508\t0.9656104173041872\t0.9668663706877719\n"
     ]
    }
   ],
   "source": [
    "# regional output\n",
    "zcat output/tensorqtl_cis/bulk_rnaseq.cis_qtl_regional_significance.tsv.gz | head -n 4"
   ]
  },
  {
   "cell_type": "code",
   "execution_count": null,
   "id": "7b0dc360",
   "metadata": {
    "vscode": {
     "languageId": "shellscript"
    }
   },
   "outputs": [
    {
     "name": "stdout",
     "output_type": "stream",
     "text": [
      "chrom\tpos\tmolecular_trait_id\tvariant_id\tcis_window_start_distance\tcis_window_end_distance\taf\tma_samples\tma_count\tpvalue\tbhat\tsebhat\tmolecular_trait_object_id\tn\tqvalue\n",
      "1\t275436\tENSG00000239945\tchr1:275436_A_G\t275436\t-6204564\t0.026666667\t8\t8\t0.40286058217630727\t-0.29406825\t0.35028112\tENSG00000239945\t150\t0.9927994527305224\n",
      "1\t275436\tENSG00000188976\tchr1:275436_A_G\t275436\t-6204564\t0.026666667\t8\t8\t0.9709065664930052\t0.0053202184\t0.14556758\tENSG00000188976\t150\t0.7054520719557599\n",
      "1\t275436\tENSG00000186891\tchr1:275436_A_G\t275436\t-6204564\t0.026666667\t8\t8\t0.521029827206188\t-0.1865217\t0.28977972\tENSG00000186891\t150\t0.7237150442388527\n"
     ]
    }
   ],
   "source": [
    "# marginal xqtl association testing output for each chrom\n",
    "zcat /home/ubuntu/xqtl_protocol_exercise/output/tensorqtl_cis/bulk_rnaseq.chr1_chr1.cis_qtl.pairs.tsv.gz | head -n 4"
   ]
  },
  {
   "cell_type": "markdown",
   "id": "def010b9",
   "metadata": {},
   "source": [
    "### ii. Trans TensorQTL Command\n",
    "For trans-analysis:\n",
    "\n",
    " **Computational strategy designed for trans analysis:**\n",
    " \n",
    " Trans analysis faces significant memory challenges as we calculate all associations between all molecular traits × all genetic variants across the genome, creating a massive computational burden. To address this challenge, we implement a two-stage chromosome-based parallelization approach:\n",
    "\n",
    " **Stage 1 (trans_1): Chromosome-based parallelization**\n",
    " - Phenotype data is processed per chromosome (e.g., 22 separate jobs for autosomes)\n",
    " - For each phenotype chromosome, we test associations against variants from all 22 chromosomes\n",
    " - This creates phenotype_chr × genotype_chr combinations (e.g., phenotype chr1 vs genotype chr1-22); Garbage was collected between each chromosome combination caculation to release memory\n",
    " - Results are combined across all chromosome combinations and saved as compressed files\n",
    "\n",
    " **Stage 2 (trans_2): Significance filtering**\n",
    " - Supports p-value cutoffs (`--pvalue-cutoff`) or q-value cutoffs (`--qvalue-cutoff`)"
   ]
  },
  {
   "cell_type": "code",
   "execution_count": null,
   "id": "0da893c9",
   "metadata": {
    "vscode": {
     "languageId": "shellscript"
    }
   },
   "outputs": [],
   "source": [
    "# before trans qtl: pheno data processing for trans \n",
    "cd /home/ubuntu/xqtl_protocol_exercise\n",
    "sos run pipeline/phenotype_formatting.ipynb phenotype_by_chrom \\\n",
    "    --cwd output/phenotype/phenotype_by_chrom_for_trans \\\n",
    "    --phenoFile output/rnaseq/bulk_rnaseq_tmp_matrix.low_expression_filtered.outlier_removed.tmm.expression.bed.gz \\\n",
    "    --name bulk_rnaseq \\\n",
    "    --chrom `for i in {1..22}; do echo chr$i; done`"
   ]
  },
  {
   "cell_type": "code",
   "execution_count": 3,
   "id": "cfc76a95",
   "metadata": {
    "vscode": {
     "languageId": "shellscript"
    }
   },
   "outputs": [
    {
     "name": "stdout",
     "output_type": "stream",
     "text": [
      "/home/al4225/.pixi/envs/python/lib/python3.12/site-packages/sos/targets.py:22: UserWarning: pkg_resources is deprecated as an API. See https://setuptools.pypa.io/en/latest/pkg_resources.html. The pkg_resources package is slated for removal as early as 2025-11-30. Refrain from using this package or pin to Setuptools<81.\n",
      "  import pkg_resources\n",
      "INFO: Note: NumExpr detected 32 cores but \"NUMEXPR_MAX_THREADS\" not set, so enforcing safe limit of 16.\n",
      "INFO: NumExpr defaulting to 16 threads.\n",
      "INFO: Running \u001b[32mtrans_1\u001b[0m: \n",
      "INFO: \u001b[32mtrans_1\u001b[0m (index=4) is \u001b[32mcompleted\u001b[0m.\n",
      "INFO: \u001b[32mtrans_1\u001b[0m (index=3) is \u001b[32mcompleted\u001b[0m.\n",
      "INFO: \u001b[32mtrans_1\u001b[0m (index=5) is \u001b[32mcompleted\u001b[0m.\n",
      "INFO: \u001b[32mtrans_1\u001b[0m (index=7) is \u001b[32mcompleted\u001b[0m.\n",
      "INFO: \u001b[32mtrans_1\u001b[0m (index=0) is \u001b[32mcompleted\u001b[0m.\n",
      "INFO: \u001b[32mtrans_1\u001b[0m (index=2) is \u001b[32mcompleted\u001b[0m.\n",
      "INFO: \u001b[32mtrans_1\u001b[0m (index=6) is \u001b[32mcompleted\u001b[0m.\n",
      "INFO: \u001b[32mtrans_1\u001b[0m (index=1) is \u001b[32mcompleted\u001b[0m.\n",
      "INFO: \u001b[32mtrans_1\u001b[0m (index=11) is \u001b[32mcompleted\u001b[0m.\n",
      "INFO: \u001b[32mtrans_1\u001b[0m (index=12) is \u001b[32mcompleted\u001b[0m.\n",
      "INFO: \u001b[32mtrans_1\u001b[0m (index=13) is \u001b[32mcompleted\u001b[0m.\n",
      "INFO: \u001b[32mtrans_1\u001b[0m (index=8) is \u001b[32mcompleted\u001b[0m.\n",
      "INFO: \u001b[32mtrans_1\u001b[0m (index=9) is \u001b[32mcompleted\u001b[0m.\n",
      "INFO: \u001b[32mtrans_1\u001b[0m (index=14) is \u001b[32mcompleted\u001b[0m.\n",
      "INFO: \u001b[32mtrans_1\u001b[0m (index=10) is \u001b[32mcompleted\u001b[0m.\n",
      "INFO: \u001b[32mtrans_1\u001b[0m (index=15) is \u001b[32mcompleted\u001b[0m.\n",
      "INFO: \u001b[32mtrans_1\u001b[0m (index=17) is \u001b[32mcompleted\u001b[0m.\n",
      "INFO: \u001b[32mtrans_1\u001b[0m (index=20) is \u001b[32mcompleted\u001b[0m.\n",
      "INFO: \u001b[32mtrans_1\u001b[0m (index=19) is \u001b[32mcompleted\u001b[0m.\n",
      "INFO: \u001b[32mtrans_1\u001b[0m (index=21) is \u001b[32mcompleted\u001b[0m.\n",
      "INFO: \u001b[32mtrans_1\u001b[0m (index=16) is \u001b[32mcompleted\u001b[0m.\n",
      "INFO: \u001b[32mtrans_1\u001b[0m (index=18) is \u001b[32mcompleted\u001b[0m.\n",
      "INFO: \u001b[32mtrans_1\u001b[0m output:   \u001b[32m/mnt/vast/hpc/homes/al4225/xqtl_protocol_data/output/tensorqtl_trans/bulk_rnaseq.chr1_1.trans_qtl.pairs.tsv.gz /mnt/vast/hpc/homes/al4225/xqtl_protocol_data/output/tensorqtl_trans/bulk_rnaseq.chr2_2.trans_qtl.pairs.tsv.gz... (22 items in 22 groups)\u001b[0m\n",
      "INFO: Running \u001b[32mtrans_2\u001b[0m: \n",
      "INFO: \u001b[32mtrans_2\u001b[0m (index=2) is \u001b[32mcompleted\u001b[0m.\n",
      "INFO: \u001b[32mtrans_2\u001b[0m (index=0) is \u001b[32mcompleted\u001b[0m.\n",
      "INFO: \u001b[32mtrans_2\u001b[0m (index=4) is \u001b[32mcompleted\u001b[0m.\n",
      "INFO: \u001b[32mtrans_2\u001b[0m (index=3) is \u001b[32mcompleted\u001b[0m.\n",
      "INFO: \u001b[32mtrans_2\u001b[0m (index=5) is \u001b[32mcompleted\u001b[0m.\n",
      "INFO: \u001b[32mtrans_2\u001b[0m (index=1) is \u001b[32mcompleted\u001b[0m.\n",
      "INFO: \u001b[32mtrans_2\u001b[0m (index=6) is \u001b[32mcompleted\u001b[0m.\n",
      "INFO: \u001b[32mtrans_2\u001b[0m (index=7) is \u001b[32mcompleted\u001b[0m.\n",
      "INFO: \u001b[32mtrans_2\u001b[0m (index=9) is \u001b[32mcompleted\u001b[0m.\n",
      "INFO: \u001b[32mtrans_2\u001b[0m (index=12) is \u001b[32mcompleted\u001b[0m.\n",
      "INFO: \u001b[32mtrans_2\u001b[0m (index=13) is \u001b[32mcompleted\u001b[0m.\n",
      "INFO: \u001b[32mtrans_2\u001b[0m (index=8) is \u001b[32mcompleted\u001b[0m.\n",
      "INFO: \u001b[32mtrans_2\u001b[0m (index=10) is \u001b[32mcompleted\u001b[0m.\n",
      "INFO: \u001b[32mtrans_2\u001b[0m (index=11) is \u001b[32mcompleted\u001b[0m.\n",
      "INFO: \u001b[32mtrans_2\u001b[0m (index=14) is \u001b[32mcompleted\u001b[0m.\n",
      "INFO: \u001b[32mtrans_2\u001b[0m (index=15) is \u001b[32mcompleted\u001b[0m.\n",
      "INFO: \u001b[32mtrans_2\u001b[0m (index=17) is \u001b[32mcompleted\u001b[0m.\n",
      "INFO: \u001b[32mtrans_2\u001b[0m (index=16) is \u001b[32mcompleted\u001b[0m.\n",
      "INFO: \u001b[32mtrans_2\u001b[0m (index=19) is \u001b[32mcompleted\u001b[0m.\n",
      "INFO: \u001b[32mtrans_2\u001b[0m (index=20) is \u001b[32mcompleted\u001b[0m.\n",
      "INFO: \u001b[32mtrans_2\u001b[0m (index=18) is \u001b[32mcompleted\u001b[0m.\n",
      "INFO: \u001b[32mtrans_2\u001b[0m (index=21) is \u001b[32mcompleted\u001b[0m.\n",
      "INFO: \u001b[32mtrans_2\u001b[0m output:   \u001b[32moutput/tensorqtl_trans/bulk_rnaseq.chr1_1.trans_qtl.pairs.tsv.pvalue_5e-8_filtered_trans_pairs.tsv output/tensorqtl_trans/bulk_rnaseq.chr2_2.trans_qtl.pairs.tsv.pvalue_5e-8_filtered_trans_pairs.tsv... (22 items in 22 groups)\u001b[0m\n",
      "INFO: Workflow trans (ID=wcfad8d1e87477216) is executed successfully with 2 completed steps and 44 completed substeps.\n"
     ]
    }
   ],
   "source": [
    "sos run pipeline/TensorQTL.ipynb trans \\\n",
    "    --genotype-file data/wgs.merged.plink_qc.genotype_trans_files.txt \\\n",
    "    --phenotype-file output/phenotype/phenotype_by_chrom_for_trans/bulk_rnaseq.phenotype_by_chrom_files.txt \\\n",
    "    --region-list data/combined_AD_genes.csv \\\n",
    "    --region-list-phenotype-column 4 \\\n",
    "    --covariate-file output/covariate/bulk_rnaseq_tmp_matrix.low_expression_filtered.outlier_removed.tmm.expression.covariates.wgs.merged.plink_qc.plink_qc.prune.pca.Marchenko_PC.gz \\\n",
    "    --cwd output/tensorqtl_trans/ \\\n",
    "    --MAC 5 "
   ]
  },
  {
   "cell_type": "code",
   "execution_count": null,
   "id": "132e3671",
   "metadata": {
    "vscode": {
     "languageId": "shellscript"
    }
   },
   "outputs": [
    {
     "name": "stdout",
     "output_type": "stream",
     "text": [
      "chrom\tpos\ta1\ta2\tvariant_id\tmolecular_trait_id\tpvalue\tbhat\tsebhat\tr2\taf\tn\tpheno_chrom\tgeno_chrom\tqvalue\n",
      "1\t275436\tG\tA\tchr1:275436_A_G\tENSG00000288674\t0.276274559005625\t0.26000986\t0.23772371\t0.00995276\t0.026666667\t150\t1\t1\t0.986831663557695\n",
      "1\t789947\t*\tGAATGGAATGCAATGGAATCGAATGGGATGGAATGTATTGGAATGGACTCGAATGGCATGGACAGGAGTGGACCCGAATGA\tchr1:789947_GAATGGAATGCAATGGAATCGAATGGGATGGAATGTATTGGAATGGACTCGAATGGCATGGACAGGAGTGGACCCGAATGA_*\tENSG00000288674\t0.991561940821025\t-0.0029538716\t0.27872026\t9.4384086e-07\t0.02\t150\t1\t1\t0.998940940307673\n",
      "1\t820919\t*\tCACTACCTGCTTGTCCAGCAGGTCCACCCTGTCTACACTACCTGCCTGCAAAGCAGATCCACCCTGTCTACACTACCTGGCTGGCCAGTAGATCCACGCTATCTACACTACCTTCCTGTCCAGCAGATCCAACCTGTCTATACTACCTGCCTGTCGAGCAGATCCACCCTGTCTAT\tchr1:820919_CACTACCTGCTTGTCCAGCAGGTCCACCCTGTCTACACTACCTGCCTGCAAAGCAGATCCACCCTGTCTACACTACCTGGCTGGCCAGTAGATCCACGCTATCTACACTACCTTCCTGTCCAGCAGATCCAACCTGTCTATACTACCTGCCTGTCGAGCAGATCCACCCTGTCTAT_*\tENSG00000288674\t0.0526677614573282\t-0.2358545\t0.12050728\t0.03118569\t0.12\t150\t1\t1\t0.920515224228064\n"
     ]
    }
   ],
   "source": [
    "# marginal trans qtl association testing output by chrom\n",
    "zcat output/tensorqtl_trans/bulk_rnaseq.chr1_1.trans_qtl.pairs.tsv.gz | head -n 4"
   ]
  },
  {
   "cell_type": "markdown",
   "id": "ee8c9818",
   "metadata": {},
   "source": [
    "## Post-TensorQTL Hierarchical Multiple Testing\n",
    "- pipeline in `https://github.com/StatFunGen/xqtl-protocol/blob/main/code/association_scan/qtl_association_postprocessing.ipynb`\n",
    "- Source code details in `https://github.com/StatFunGen/pecotmr/blob/main/inst/code/tensorqtl_postprocessor.R`"
   ]
  },
  {
   "cell_type": "markdown",
   "id": "f1400ef1",
   "metadata": {},
   "source": [
    "###  1. Methods and Steps\n",
    "The `xqtl-protocol` adopts a **Hierarchical Multiple Testing Correction** strategy to ensure statistically rigorous identification of regulatory variants.\n",
    "\n",
    "This process consists of three main stages:\n",
    "\n",
    "### Step 1: Local Adjustment\n",
    "\n",
    "This step adjusts for multiple hypothesis testing **within each gene (event)**.\n",
    "\n",
    "Two main approaches are used:\n",
    "\n",
    "- **Bonferroni Correction**: Adjusts nominal p-values by the number of SNPs tested per event.\n",
    "  \n",
    "  Formula:\n",
    "  ```\n",
    "  p_adj = p_nominal × n_variants\n",
    "  ```\n",
    "\n",
    "  If filtering is applied (e.g., by MAF or cis-distance), a filtered version is used:\n",
    "  ```\n",
    "  p_adj = p_nominal × n_variants_filtered\n",
    "  ```\n",
    "\n",
    "- **Permutation-Based Adjustment**: Uses `p_beta` from a fitted Beta distribution to model the null distribution. This accounts for test statistic inflation and dependencies.\n",
    "\n",
    "  Output includes:\n",
    "  - `p_beta`: permuted p-value\n",
    "  - `q_beta`: permutation-based q-value estimate\n",
    "\n",
    "### Step 2: Global Adjustment\n",
    "\n",
    "This step controls the false discovery rate (FDR) **across all genes (events)**.\n",
    "\n",
    "Two global correction strategies are available:\n",
    "\n",
    "- **Benjamini-Hochberg (BH) FDR Correction**: Applied to event-level adjusted p-values (`p_bonferroni_min` or `p_beta`).\n",
    "- **Storey's q-value**: Offers a more flexible estimate of FDR by estimating π₀, the proportion of null hypotheses.\n",
    "\n",
    "Output includes:\n",
    "- `fdr_*`: BH-adjusted FDR\n",
    "- `q_*`: q-values from Storey's method\n",
    "\n",
    "### Step 3: Significant SNP Identification\n",
    "\n",
    "Once significant events are identified, SNP-level significance is assessed.\n",
    "\n",
    "Three approaches are supported:\n",
    "\n",
    "- **Permutation Thresholding**:\n",
    "  - A p-value threshold is derived from the Beta distribution parameters (`beta_shape1`, `beta_shape2`) corresponding to `q_beta < threshold`.\n",
    "  - SNPs with `p < qbeta(threshold, shape1, shape2)` are retained.\n",
    "\n",
    "- **Bonferroni Event-Based SNP Selection**:\n",
    "  - The max adjusted p-value among significant events (`p_bonferroni_min`) is used as a threshold.\n",
    "  - SNPs with `p_bonferroni_adj ≤ threshold` are selected.\n",
    "\n",
    "- **Q-value within Events**:\n",
    "  - For events with `q_beta < threshold`, SNPs are grouped and q-values are recomputed **within each event**.\n",
    "  - SNPs with `q < 0.05` are selected.\n",
    "\n",
    "### Summary of Logic Flow\n",
    "\n",
    "```\n",
    "Raw p-values from cis-pair testing\n",
    "      ↓\n",
    "Step 1: Adjust p-values within gene (event)\n",
    "      ↓\n",
    "Step 2: Adjust across genes to identify significant events\n",
    "      ↓\n",
    "Step 3: Extract significant SNPs based on per-event or global thresholding\n",
    "```\n",
    "\n",
    "This hierarchical approach improves statistical power and interpretability by separately controlling the false discovery rate at both event and SNP levels."
   ]
  },
  {
   "cell_type": "markdown",
   "id": "751b6b7a",
   "metadata": {},
   "source": [
    "### 2. Input and outputs structure\n",
    "This document provides a structured explanation of the output files generated from post-TensorQTL (cis) processing, focusing on **event-level** and **QTL-level** multiple testing correction.\n",
    "\n",
    "### 2.1. Summary: Event vs. QTL and How They Are Processed\n",
    "\n",
    "#### What is an Event?\n",
    "Each `molecular_trait_object_id` (typically a gene) is treated as a statistical event.  \n",
    "The goal at this level is to determine:\n",
    "\n",
    "> Is this gene significantly regulated by any nearby SNPs?\n",
    "\n",
    "#### What is a QTL?\n",
    "Each SNP-gene pair is a QTL test.  \n",
    "\n",
    "### 2.2. Input and Output Overview\n",
    "\n",
    "#### Inputs:\n",
    "\n",
    "- `*.cis_pairs.tsv.gz`: All SNP-gene tests with nominal p-values (from TensorQTL)\n",
    "- `*.cis_regional.tsv.gz`: Per-gene summary stats (e.g., min p-values)\n",
    "- Gene coordinate file, MAF filter, covariates, and cis-window parameters\n",
    "\n",
    "#### Outputs:\n",
    "\n",
    "- `*.cis_regional.significant_events.*.tsv.gz`: Significant events with global correction stats\n",
    "- `*.cis_pairs.significant_qtl.*.tsv.gz`: Significant SNPs extracted from significant events\n",
    "- `summary.txt`: Count summary of significant events and QTLs under various correction strategies\n",
    "\n",
    "### 2.3. Event-Level Results\n",
    "\n",
    "**File keyword:** `cis_regional.significant_events.*.tsv.gz`  \n",
    "Each row in these files represents a **gene/protein/.. (event)** and indicates whether the surrounding SNPs show a significant regulatory signal.\n",
    "\n",
    "#### File meanings:\n",
    "\n",
    "| Filename | Description |\n",
    "|----------|-------------|\n",
    "| `original_bonferroni_BH_adjusted` | Bonferroni correction applied to unfiltered SNPs, followed by global Benjamini-Hochberg (BH) FDR adjustment |\n",
    "| `filtered_bonferroni_BH_adjusted` | Bonferroni correction on SNPs that passed MAF and cis-window filtering |\n",
    "| `permutation_adjusted` | Event-level correction using `p_beta` and `q_beta` derived from permutation testing |\n",
    "\n",
    "#### Common columns:\n",
    "\n",
    "- `molecular_trait_object_id`: Gene or event ID\n",
    "- `p_bonferroni_min` or `p_beta`: Minimum adjusted p-value across SNPs for that gene\n",
    "- `fdr_*`, `q_*`: Global FDR or q-value estimates\n",
    "- Significance threshold: e.g., `fdr < 0.05` or `q < 0.05`\n",
    "\n",
    "### 2.4. QTL-Level Results\n",
    "\n",
    "**File keyword:** `cis_pairs.significant_qtl.*.tsv.gz`  \n",
    "Each row represents a **SNP-gene pair**, showing whether this SNP is a significant regulator of the gene.\n",
    "\n",
    "#### File meanings:\n",
    "\n",
    "| Filename | Description |\n",
    "|----------|-------------|\n",
    "| `original_bonferroni_BH_adjusted` | Significant SNPs from events passing original Bonferroni FDR correction |\n",
    "| `filtered_bonferroni_BH_adjusted` | Same as above but with SNPs filtered by MAF(e.g. 0.05) and distance(e.f. 1MB) |\n",
    "| `permutation_adjusted` | SNPs selected using permutation-derived p-value thresholds via beta distribution |\n",
    "| `q_beta_adjusted_events_qvalue` | Events with `q_beta < 0.05`; within each, q-values recomputed per SNP and those with `q < 0.05` selected |\n",
    "\n",
    "#### Common columns:\n",
    "\n",
    "- `snp_id`: SNP identifier\n",
    "- `molecular_trait_object_id`: Associated gene ID\n",
    "- `pvalue`, `qvalue`, `p_bonferroni_adj`: Relevant statistical metrics\n",
    "- Whether the SNP is significant based on event-level filtering\n"
   ]
  },
  {
   "cell_type": "code",
   "execution_count": 8,
   "id": "e0738a18",
   "metadata": {
    "vscode": {
     "languageId": "shellscript"
    }
   },
   "outputs": [
    {
     "name": "stdout",
     "output_type": "stream",
     "text": [
      "/home/al4225/.pixi/envs/python/lib/python3.12/site-packages/sos/targets.py:22: UserWarning: pkg_resources is deprecated as an API. See https://setuptools.pypa.io/en/latest/pkg_resources.html. The pkg_resources package is slated for removal as early as 2025-11-30. Refrain from using this package or pin to Setuptools<81.\n",
      "  import pkg_resources\n",
      "INFO: Running \u001b[32mdefault\u001b[0m: \n",
      "\u001b[?25hworkdir is /mnt/vast/hpc/homes/al4225/xqtl_protocol_data/output/tensorqtl_cis\n",
      "Loaded gene coordinates with 1000 entries\n",
      "Only loading QTL data with p-value < 0.05\n",
      "Calculating n_variants for ./bulk_rnaseq.chr1_chr1.cis_qtl.pairs.tsv.gz\n",
      "Counting per event variants in bulk_rnaseq.chr1_chr1.cis_qtl.pairs.tsv.gz\n",
      "Extracting minimal columns from file...\n",
      "Calculating feature positions and cis windows...\n",
      "Applying MAF and cis-window filters...\n",
      "Processed 57 traits in bulk_rnaseq.chr1_chr1.cis_qtl.pairs.tsv.gz\n",
      "Calculating n_variants for ./bulk_rnaseq.chr10_chr10.cis_qtl.pairs.tsv.gz\n",
      "Counting per event variants in bulk_rnaseq.chr10_chr10.cis_qtl.pairs.tsv.gz\n",
      "Extracting minimal columns from file...\n",
      "Calculating feature positions and cis windows...\n",
      "Applying MAF and cis-window filters...\n",
      "Processed 53 traits in bulk_rnaseq.chr10_chr10.cis_qtl.pairs.tsv.gz\n",
      "Calculating n_variants for ./bulk_rnaseq.chr11_chr11.cis_qtl.pairs.tsv.gz\n",
      "Counting per event variants in bulk_rnaseq.chr11_chr11.cis_qtl.pairs.tsv.gz\n",
      "Extracting minimal columns from file...\n",
      "Calculating feature positions and cis windows...\n",
      "Applying MAF and cis-window filters...\n",
      "Processed 46 traits in bulk_rnaseq.chr11_chr11.cis_qtl.pairs.tsv.gz\n",
      "Calculating n_variants for ./bulk_rnaseq.chr12_chr12.cis_qtl.pairs.tsv.gz\n",
      "Counting per event variants in bulk_rnaseq.chr12_chr12.cis_qtl.pairs.tsv.gz\n",
      "Extracting minimal columns from file...\n",
      "Calculating feature positions and cis windows...\n",
      "Applying MAF and cis-window filters...\n",
      "Processed 58 traits in bulk_rnaseq.chr12_chr12.cis_qtl.pairs.tsv.gz\n",
      "Calculating n_variants for ./bulk_rnaseq.chr13_chr13.cis_qtl.pairs.tsv.gz\n",
      "Counting per event variants in bulk_rnaseq.chr13_chr13.cis_qtl.pairs.tsv.gz\n",
      "Extracting minimal columns from file...\n",
      "Calculating feature positions and cis windows...\n",
      "Applying MAF and cis-window filters...\n",
      "Processed 44 traits in bulk_rnaseq.chr13_chr13.cis_qtl.pairs.tsv.gz\n",
      "Calculating n_variants for ./bulk_rnaseq.chr14_chr14.cis_qtl.pairs.tsv.gz\n",
      "Counting per event variants in bulk_rnaseq.chr14_chr14.cis_qtl.pairs.tsv.gz\n",
      "Extracting minimal columns from file...\n",
      "Calculating feature positions and cis windows...\n",
      "Applying MAF and cis-window filters...\n",
      "Processed 54 traits in bulk_rnaseq.chr14_chr14.cis_qtl.pairs.tsv.gz\n",
      "Calculating n_variants for ./bulk_rnaseq.chr15_chr15.cis_qtl.pairs.tsv.gz\n",
      "Counting per event variants in bulk_rnaseq.chr15_chr15.cis_qtl.pairs.tsv.gz\n",
      "Extracting minimal columns from file...\n",
      "Calculating feature positions and cis windows...\n",
      "Applying MAF and cis-window filters...\n",
      "Processed 52 traits in bulk_rnaseq.chr15_chr15.cis_qtl.pairs.tsv.gz\n",
      "Calculating n_variants for ./bulk_rnaseq.chr16_chr16.cis_qtl.pairs.tsv.gz\n",
      "Counting per event variants in bulk_rnaseq.chr16_chr16.cis_qtl.pairs.tsv.gz\n",
      "Extracting minimal columns from file...\n",
      "Calculating feature positions and cis windows...\n",
      "Applying MAF and cis-window filters...\n",
      "Processed 48 traits in bulk_rnaseq.chr16_chr16.cis_qtl.pairs.tsv.gz\n",
      "Calculating n_variants for ./bulk_rnaseq.chr17_chr17.cis_qtl.pairs.tsv.gz\n",
      "Counting per event variants in bulk_rnaseq.chr17_chr17.cis_qtl.pairs.tsv.gz\n",
      "Extracting minimal columns from file...\n",
      "Calculating feature positions and cis windows...\n",
      "Applying MAF and cis-window filters...\n",
      "Processed 63 traits in bulk_rnaseq.chr17_chr17.cis_qtl.pairs.tsv.gz\n",
      "Calculating n_variants for ./bulk_rnaseq.chr18_chr18.cis_qtl.pairs.tsv.gz\n",
      "Counting per event variants in bulk_rnaseq.chr18_chr18.cis_qtl.pairs.tsv.gz\n",
      "Extracting minimal columns from file...\n",
      "Calculating feature positions and cis windows...\n",
      "Applying MAF and cis-window filters...\n",
      "Processed 47 traits in bulk_rnaseq.chr18_chr18.cis_qtl.pairs.tsv.gz\n",
      "Calculating n_variants for ./bulk_rnaseq.chr19_chr19.cis_qtl.pairs.tsv.gz\n",
      "Counting per event variants in bulk_rnaseq.chr19_chr19.cis_qtl.pairs.tsv.gz\n",
      "Extracting minimal columns from file...\n",
      "Calculating feature positions and cis windows...\n",
      "Applying MAF and cis-window filters...\n",
      "Processed 50 traits in bulk_rnaseq.chr19_chr19.cis_qtl.pairs.tsv.gz\n",
      "Calculating n_variants for ./bulk_rnaseq.chr2_chr2.cis_qtl.pairs.tsv.gz\n",
      "Counting per event variants in bulk_rnaseq.chr2_chr2.cis_qtl.pairs.tsv.gz\n",
      "Extracting minimal columns from file...\n",
      "Calculating feature positions and cis windows...\n",
      "Applying MAF and cis-window filters...\n",
      "Processed 43 traits in bulk_rnaseq.chr2_chr2.cis_qtl.pairs.tsv.gz\n",
      "Calculating n_variants for ./bulk_rnaseq.chr20_chr20.cis_qtl.pairs.tsv.gz\n",
      "Counting per event variants in bulk_rnaseq.chr20_chr20.cis_qtl.pairs.tsv.gz\n",
      "Extracting minimal columns from file...\n",
      "Calculating feature positions and cis windows...\n",
      "Applying MAF and cis-window filters...\n",
      "Processed 55 traits in bulk_rnaseq.chr20_chr20.cis_qtl.pairs.tsv.gz\n",
      "Calculating n_variants for ./bulk_rnaseq.chr21_chr21.cis_qtl.pairs.tsv.gz\n",
      "Counting per event variants in bulk_rnaseq.chr21_chr21.cis_qtl.pairs.tsv.gz\n",
      "Extracting minimal columns from file...\n",
      "Calculating feature positions and cis windows...\n",
      "Applying MAF and cis-window filters...\n",
      "Processed 41 traits in bulk_rnaseq.chr21_chr21.cis_qtl.pairs.tsv.gz\n",
      "Calculating n_variants for ./bulk_rnaseq.chr22_chr22.cis_qtl.pairs.tsv.gz\n",
      "Counting per event variants in bulk_rnaseq.chr22_chr22.cis_qtl.pairs.tsv.gz\n",
      "Extracting minimal columns from file...\n",
      "Calculating feature positions and cis windows...\n",
      "Applying MAF and cis-window filters...\n",
      "Processed 57 traits in bulk_rnaseq.chr22_chr22.cis_qtl.pairs.tsv.gz\n",
      "Calculating n_variants for ./bulk_rnaseq.chr3_chr3.cis_qtl.pairs.tsv.gz\n",
      "Counting per event variants in bulk_rnaseq.chr3_chr3.cis_qtl.pairs.tsv.gz\n",
      "Extracting minimal columns from file...\n",
      "Calculating feature positions and cis windows...\n",
      "Applying MAF and cis-window filters...\n",
      "Processed 54 traits in bulk_rnaseq.chr3_chr3.cis_qtl.pairs.tsv.gz\n",
      "Calculating n_variants for ./bulk_rnaseq.chr4_chr4.cis_qtl.pairs.tsv.gz\n",
      "Counting per event variants in bulk_rnaseq.chr4_chr4.cis_qtl.pairs.tsv.gz\n",
      "Extracting minimal columns from file...\n",
      "Calculating feature positions and cis windows...\n",
      "Applying MAF and cis-window filters...\n",
      "Processed 47 traits in bulk_rnaseq.chr4_chr4.cis_qtl.pairs.tsv.gz\n",
      "Calculating n_variants for ./bulk_rnaseq.chr5_chr5.cis_qtl.pairs.tsv.gz\n",
      "Counting per event variants in bulk_rnaseq.chr5_chr5.cis_qtl.pairs.tsv.gz\n",
      "Extracting minimal columns from file...\n",
      "Calculating feature positions and cis windows...\n",
      "Applying MAF and cis-window filters...\n",
      "Processed 48 traits in bulk_rnaseq.chr5_chr5.cis_qtl.pairs.tsv.gz\n",
      "Calculating n_variants for ./bulk_rnaseq.chr6_chr6.cis_qtl.pairs.tsv.gz\n",
      "Counting per event variants in bulk_rnaseq.chr6_chr6.cis_qtl.pairs.tsv.gz\n",
      "Extracting minimal columns from file...\n",
      "Calculating feature positions and cis windows...\n",
      "Applying MAF and cis-window filters...\n",
      "Processed 53 traits in bulk_rnaseq.chr6_chr6.cis_qtl.pairs.tsv.gz\n",
      "Calculating n_variants for ./bulk_rnaseq.chr7_chr7.cis_qtl.pairs.tsv.gz\n",
      "Counting per event variants in bulk_rnaseq.chr7_chr7.cis_qtl.pairs.tsv.gz\n",
      "Extracting minimal columns from file...\n",
      "Calculating feature positions and cis windows...\n",
      "Applying MAF and cis-window filters...\n",
      "Processed 57 traits in bulk_rnaseq.chr7_chr7.cis_qtl.pairs.tsv.gz\n",
      "Calculating n_variants for ./bulk_rnaseq.chr8_chr8.cis_qtl.pairs.tsv.gz\n",
      "Counting per event variants in bulk_rnaseq.chr8_chr8.cis_qtl.pairs.tsv.gz\n",
      "Extracting minimal columns from file...\n",
      "Calculating feature positions and cis windows...\n",
      "Applying MAF and cis-window filters...\n",
      "Processed 45 traits in bulk_rnaseq.chr8_chr8.cis_qtl.pairs.tsv.gz\n",
      "Calculating n_variants for ./bulk_rnaseq.chr9_chr9.cis_qtl.pairs.tsv.gz\n",
      "Counting per event variants in bulk_rnaseq.chr9_chr9.cis_qtl.pairs.tsv.gz\n",
      "Extracting minimal columns from file...\n",
      "Calculating feature positions and cis windows...\n",
      "Applying MAF and cis-window filters...\n",
      "Processed 44 traits in bulk_rnaseq.chr9_chr9.cis_qtl.pairs.tsv.gz\n",
      "Loading n_variants count data...\n",
      "Loading permutation-based local adjustment\n",
      "Applying both FDR and qvalue global adjustments...\n",
      "Identifying significant SNPs using permutation thresholds...\n",
      "No significant events found using q_beta threshold\n",
      "Applying Bonferroni local adjustment (filter applied: No)...\n",
      "Original data: 15414 rows (avg n_variants per event: 295)\n",
      "Applying both FDR and qvalue global adjustments...\n",
      "Identifying significant SNPs using Bonferroni adjusted p-value thresholds...\n",
      "No significant events identified at fdr_bonferroni_min threshold 0.05\n",
      "Applying Bonferroni local adjustment (filter applied: Yes)...\n",
      "Filtered data: 15414 rows (avg n_variants per event: 295)\n",
      "Applying both FDR and qvalue global adjustments...\n",
      "Identifying significant SNPs using Bonferroni adjusted p-value thresholds...\n",
      "No significant events identified at fdr_bonferroni_min threshold 0.05\n",
      "Identifying significant SNPs using q-value per event method...\n",
      "Using permutation-based q_beta for significant events in qvalue-based QTL identification\n",
      "No significant events found using q_beta threshold 0.05\n",
      "\u001b[?25h\u001b[?25hFound 22 files to archive\n",
      "Archive directory is: /mnt/vast/hpc/homes/al4225/xqtl_protocol_data/output/heirarchical_multi_test/archive/tensorqtl_cis\n",
      "Created archive directory: /mnt/vast/hpc/homes/al4225/xqtl_protocol_data/output/heirarchical_multi_test/archive/tensorqtl_cis\n",
      "Archived 22/22 files\n",
      "\u001b[?25h\u001b[?25h\u001b[?25hINFO: \u001b[32mdefault\u001b[0m is \u001b[32mcompleted\u001b[0m.\n",
      "INFO: \u001b[32mdefault\u001b[0m output:   \u001b[32m/mnt/vast/hpc/homes/al4225/xqtl_protocol_data/output/heirarchical_multi_test/output/tensorqtl_cis/tensorqtl_cis_multiple_testing_consolidated.rds\u001b[0m\n",
      "INFO: Workflow default (ID=w33a3fb8b1ffbda68) is executed successfully with 1 completed step.\n"
     ]
    }
   ],
   "source": [
    "sos run pipeline/qtl_association_postprocessing.ipynb default \\\n",
    "    --cwd output/tensorqtl_cis \\\n",
    "    --gene-coordinates data/look_up_gene_id.tsv \\\n",
    "    --sub-dir . \\\n",
    "    --tss_dist_col cis_window_start_distance \\\n",
    "    --tes_dist_col cis_window_end_distance \\\n",
    "    --pecotmr-path pecotmr \\\n",
    "    --maf-cutoff 0.01 --cis-window 1000000 \\\n",
    "    --regional-pattern \"*.cis_qtl.regional.tsv.gz$\" \\\n",
    "    --output-dir output/heirarchical_multi_test/output \\\n",
    "    --archive-dir output/heirarchical_multi_test/archive \\\n",
    "    -s force"
   ]
  },
  {
   "cell_type": "markdown",
   "id": "18fed145",
   "metadata": {},
   "source": [
    "- This MWE command (default is fdr thereshold 0.05) does not yield any significant QTLs passing multiple testing.   \n",
    "- To see what a typical output would look like, you can try using relaxed thresholds such as:   \n",
    "--pvalue_cutoff 0.9 --fdr_threshold 0.9   \n",
    "- This will allow you to inspect the structure of the output even when no real signal is detected.   \n"
   ]
  },
  {
   "cell_type": "code",
   "execution_count": null,
   "id": "2156f213",
   "metadata": {
    "vscode": {
     "languageId": "shellscript"
    }
   },
   "outputs": [
    {
     "name": "stdout",
     "output_type": "stream",
     "text": [
      "/home/al4225/.pixi/envs/python/lib/python3.12/site-packages/sos/targets.py:22: UserWarning: pkg_resources is deprecated as an API. See https://setuptools.pypa.io/en/latest/pkg_resources.html. The pkg_resources package is slated for removal as early as 2025-11-30. Refrain from using this package or pin to Setuptools<81.\n",
      "  import pkg_resources\n",
      "INFO: Running \u001b[32mdefault\u001b[0m: \n",
      "\u001b[?25hworkdir is /mnt/vast/hpc/homes/al4225/xqtl_protocol_data/output/tensorqtl_cis\n",
      "Loaded gene coordinates with 1000 entries\n",
      "Only loading QTL data with p-value < 0.05\n",
      "Loading n_variants count data...\n",
      "Loading permutation-based local adjustment\n",
      "Applying both FDR and qvalue global adjustments...\n",
      "Identifying significant SNPs using permutation thresholds...\n",
      "Min p-value threshold @ q_beta 0.90: 0.999332\n",
      "Identified 6588 significant SNPs from 1116 events using permutation thresholds\n",
      "Applying Bonferroni local adjustment (filter applied: No)...\n",
      "Original data: 15414 rows (avg n_variants per event: 295)\n",
      "Applying both FDR and qvalue global adjustments...\n",
      "Identifying significant SNPs using Bonferroni adjusted p-value thresholds...\n",
      "Identified 74 significant SNPs from 64 events using Bonferroni adjusted p-value threshold 0.0564587\n",
      "Applying Bonferroni local adjustment (filter applied: Yes)...\n",
      "Filtered data: 15414 rows (avg n_variants per event: 295)\n",
      "Applying both FDR and qvalue global adjustments...\n",
      "Identifying significant SNPs using Bonferroni adjusted p-value thresholds...\n",
      "Identified 74 significant SNPs from 64 events using Bonferroni adjusted p-value threshold 0.0564587\n",
      "Identifying significant SNPs using q-value per event method...\n",
      "Using permutation-based q_beta for significant events in qvalue-based QTL identification\n",
      "Use existing q-value column 'qvalue' for qvalue-based QTL identification\n",
      "Identified 13117 significant SNPs from 1116 events using q-value method with q_beta as event level significance test\n",
      "\u001b[?25h\u001b[?25hFound 0 files to archive\n",
      "Archive directory is: /mnt/vast/hpc/homes/al4225/xqtl_protocol_data/output/heirarchical_multi_test/archive/tensorqtl_cis\n",
      "No files found to archive\n",
      "\u001b[?25h\u001b[?25h\u001b[?25hINFO: \u001b[32mdefault\u001b[0m is \u001b[32mcompleted\u001b[0m.\n",
      "INFO: \u001b[32mdefault\u001b[0m output:   \u001b[32m/mnt/vast/hpc/homes/al4225/xqtl_protocol_data/output/heirarchical_multi_test/output/tensorqtl_cis/tensorqtl_cis_multiple_testing_consolidated.rds\u001b[0m\n",
      "INFO: Workflow default (ID=wae467a70f53c466c) is executed successfully with 1 completed step.\n"
     ]
    }
   ],
   "source": [
    "# very loose threshold to see the significant event and qtl results stucture\n",
    "sos run pipeline/qtl_association_postprocessing.ipynb default \\\n",
    "    --cwd output/tensorqtl_cis \\\n",
    "    --gene-coordinates data/look_up_gene_id.tsv \\\n",
    "    --sub-dir . \\\n",
    "    --tss_dist_col cis_window_start_distance \\\n",
    "    --tes_dist_col cis_window_end_distance \\\n",
    "    --pecotmr-path pecotmr \\\n",
    "    --maf-cutoff 0.01 --cis-window 1000000 \\\n",
    "    --regional-pattern \"*.cis_qtl.regional.tsv.gz$\" \\\n",
    "    --output-dir output/heirarchical_multi_test/output \\\n",
    "    --archive-dir output/heirarchical_multi_test/archive \\\n",
    "    --fdr_threshold 0.9 \\\n",
    "    -s force   "
   ]
  },
  {
   "cell_type": "code",
   "execution_count": null,
   "id": "b3eb6530",
   "metadata": {
    "vscode": {
     "languageId": "shellscript"
    }
   },
   "outputs": [
    {
     "name": "stdout",
     "output_type": "stream",
     "text": [
      "chrom\tpos\tmolecular_trait_id\tvariant_id\tcis_window_start_distance\tcis_window_end_distance\taf\tma_samples\tma_count\tpvalue\tbhat\tsebhat\tmolecular_trait_object_id\tn\tqvalue\tcis_start\tcis_end\tn_variants\tp_bonferroni_adj\n",
      "chr1\t58888447\tENSG00000228121\tchr1:58888447_TTTTTTTTTTTTTTTTTTTTTTTTTTTG_*\t888772\t-1112047\t0.1442953\t39\t43\t7.1658725353307e-4\t0.50203305\t0.14452228\tENSG00000228121\t150\t0.011788637197768704\t56999675\t61000494\t42\t0.03009666464838894\n",
      "chr1\t58888448\tENSG00000228121\tchr1:58888448_TTTTTTTTTTTTTTTTTTTTTTTTTTGTG_*\t888773\t-1112046\t0.1442953\t39\t43\t7.1658725353307e-4\t0.50203305\t0.14452228\tENSG00000228121\t150\t0.011788637197768704\t56999675\t61000494\t42\t0.03009666464838894\n",
      "chr1\t165217292\tENSG00000232995\tchr1:165217292_T_C\t2972787\t-142708\t0.026666667\t8\t8\t8.102607112763e-4\t0.9808013\t0.28534335\tENSG00000232995\t150\t0.0194462570706312\t161244505\t166360000\t24\t0.0194462570706312\n",
      "chr1\t206122048\tENSG00000162894\tchr1:206122048_TTGTGTGTGTGTG_TTGTGTGTGTGTGTGTG\t218731\t-1801199\t0.14333333\t37\t43\t6.3372774267046e-4\t0.5068163\t0.1443938\tENSG00000162894\t150\t0.012974118819241414\t204903317\t208923247\t24\t0.01520946582409104\n"
     ]
    }
   ],
   "source": [
    "# example: maf 0.05, window 1MB, significant qtl using bonf_fdr method\n",
    "zcat /home/ubuntu/xqtl_protocol_exercise/output/heirarchical_multi_test/output/tensorqtl_cis/bulk_rnaseq.cis_pairs.significant_qtl.filtered_bonferroni_BH_adjusted.tsv.gz | head -n 5"
   ]
  }
 ],
 "metadata": {
  "kernelspec": {
   "display_name": "Bash",
   "language": "bash",
   "name": "bash"
  },
  "language_info": {
   "codemirror_mode": "shell",
   "file_extension": ".sh",
   "mimetype": "text/x-sh",
   "name": "bash"
  }
 },
 "nbformat": 4,
 "nbformat_minor": 5
}
