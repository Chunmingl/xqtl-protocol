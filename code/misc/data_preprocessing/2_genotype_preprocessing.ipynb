{
 "cells": [
  {
   "cell_type": "markdown",
   "id": "embedded-lighter",
   "metadata": {
    "kernel": "SoS",
    "tags": []
   },
   "source": [
    "# Genotype data preprocessing\n",
    "\n",
    "This document performs genotype data quality control and preprocessing."
   ]
  },
  {
   "cell_type": "markdown",
   "id": "furnished-england",
   "metadata": {
    "jp-MarkdownHeadingCollapsed": true,
    "kernel": "SoS",
    "tags": []
   },
   "source": [
    "## Overview\n",
    "\n",
    "### Analysis steps\n",
    "\n",
    "1. Genotype data quality control (QC). See here for the [QC default settings](https://cumc.github.io/xqtl-pipeline/pipeline/data_preprocessing/genotype/GWAS_QC.html).\n",
    "2. Principle component analysis (PCA) based QC, and PC computation for each sub-population available in the genotype data.\n",
    "3. Genomic relationship matrix (GRM) computation.\n",
    "4. Genotype data reformatting for downstream fine-mapping analysis.\n",
    "\n",
    "### Input data requirement\n",
    "\n",
    "1. Genotype data. See here for [format details](https://cumc.github.io/xqtl-pipeline/pipeline/data_preprocessing/genotype/genotype_formatting.html).\n",
    "2. [Optional] a sample information file to specific population information, if external data such as HapMap or 1000 Genomes are to be integrated to the PCA analysis to visualize and assess population structure in the genotype data. See here for [format details](https://cumc.github.io/xqtl-pipeline/pipeline/data_preprocessing/genotype/genotype_formatting.html)."
   ]
  },
  {
   "cell_type": "markdown",
   "id": "handed-finish",
   "metadata": {
    "kernel": "SoS",
    "tags": []
   },
   "source": [
    "## QC for VCF(（Variant Call Format) files\n",
    "#### 2.1.1 Input\n",
    "Subject VCF file, genome-wide or regional variation to be QC\n"
   ]
  },
  {
   "cell_type": "code",
   "execution_count": null,
   "id": "57c771ca",
   "metadata": {
    "vscode": {
     "languageId": "shellscript"
    }
   },
   "outputs": [
    {
     "data": {
      "text/html": [
       "<style>\n",
       ".list-inline {list-style: none; margin:0; padding: 0}\n",
       ".list-inline>li {display: inline-block}\n",
       ".list-inline>li:not(:last-child)::after {content: \"\\00b7\"; padding: 0 .5ex}\n",
       "</style>\n",
       "<ol class=list-inline><li>84502</li><li>159</li></ol>\n"
      ],
      "text/latex": [
       "\\begin{enumerate*}\n",
       "\\item 84502\n",
       "\\item 159\n",
       "\\end{enumerate*}\n"
      ],
      "text/markdown": [
       "1. 84502\n",
       "2. 159\n",
       "\n",
       "\n"
      ],
      "text/plain": [
       "[1] 84502   159"
      ]
     },
     "metadata": {},
     "output_type": "display_data"
    },
    {
     "data": {
      "text/html": [
       "<table class=\"dataframe\">\n",
       "<caption>A data.table: 4 × 11</caption>\n",
       "<thead>\n",
       "\t<tr><th scope=col>#CHROM</th><th scope=col>POS</th><th scope=col>ID</th><th scope=col>REF</th><th scope=col>ALT</th><th scope=col>QUAL</th><th scope=col>FILTER</th><th scope=col>INFO</th><th scope=col>FORMAT</th><th scope=col>sample0</th><th scope=col>sample1</th></tr>\n",
       "\t<tr><th scope=col>&lt;chr&gt;</th><th scope=col>&lt;int&gt;</th><th scope=col>&lt;chr&gt;</th><th scope=col>&lt;chr&gt;</th><th scope=col>&lt;chr&gt;</th><th scope=col>&lt;chr&gt;</th><th scope=col>&lt;chr&gt;</th><th scope=col>&lt;chr&gt;</th><th scope=col>&lt;chr&gt;</th><th scope=col>&lt;chr&gt;</th><th scope=col>&lt;chr&gt;</th></tr>\n",
       "</thead>\n",
       "<tbody>\n",
       "\t<tr><td>chr11</td><td>84957209</td><td>chr11:84957209_G_C</td><td>G</td><td>C</td><td>.</td><td>.</td><td>PR;AC=99;AN=300</td><td>GT</td><td>0/0</td><td>0/0</td></tr>\n",
       "\t<tr><td>chr11</td><td>84957210</td><td>chr11:84957210_C_T</td><td>C</td><td>T</td><td>.</td><td>.</td><td>PR;AC=0;AN=300 </td><td>GT</td><td>0/0</td><td>0/0</td></tr>\n",
       "\t<tr><td>chr11</td><td>84957254</td><td>chr11:84957254_A_C</td><td>A</td><td>C</td><td>.</td><td>.</td><td>PR;AC=0;AN=300 </td><td>GT</td><td>0/0</td><td>0/0</td></tr>\n",
       "\t<tr><td>chr11</td><td>84957263</td><td>chr11:84957263_C_T</td><td>C</td><td>T</td><td>.</td><td>.</td><td>PR;AC=0;AN=300 </td><td>GT</td><td>0/0</td><td>0/0</td></tr>\n",
       "</tbody>\n",
       "</table>\n"
      ],
      "text/latex": [
       "A data.table: 4 × 11\n",
       "\\begin{tabular}{lllllllllll}\n",
       " \\#CHROM & POS & ID & REF & ALT & QUAL & FILTER & INFO & FORMAT & sample0 & sample1\\\\\n",
       " <chr> & <int> & <chr> & <chr> & <chr> & <chr> & <chr> & <chr> & <chr> & <chr> & <chr>\\\\\n",
       "\\hline\n",
       "\t chr11 & 84957209 & chr11:84957209\\_G\\_C & G & C & . & . & PR;AC=99;AN=300 & GT & 0/0 & 0/0\\\\\n",
       "\t chr11 & 84957210 & chr11:84957210\\_C\\_T & C & T & . & . & PR;AC=0;AN=300  & GT & 0/0 & 0/0\\\\\n",
       "\t chr11 & 84957254 & chr11:84957254\\_A\\_C & A & C & . & . & PR;AC=0;AN=300  & GT & 0/0 & 0/0\\\\\n",
       "\t chr11 & 84957263 & chr11:84957263\\_C\\_T & C & T & . & . & PR;AC=0;AN=300  & GT & 0/0 & 0/0\\\\\n",
       "\\end{tabular}\n"
      ],
      "text/markdown": [
       "\n",
       "A data.table: 4 × 11\n",
       "\n",
       "| #CHROM &lt;chr&gt; | POS &lt;int&gt; | ID &lt;chr&gt; | REF &lt;chr&gt; | ALT &lt;chr&gt; | QUAL &lt;chr&gt; | FILTER &lt;chr&gt; | INFO &lt;chr&gt; | FORMAT &lt;chr&gt; | sample0 &lt;chr&gt; | sample1 &lt;chr&gt; |\n",
       "|---|---|---|---|---|---|---|---|---|---|---|\n",
       "| chr11 | 84957209 | chr11:84957209_G_C | G | C | . | . | PR;AC=99;AN=300 | GT | 0/0 | 0/0 |\n",
       "| chr11 | 84957210 | chr11:84957210_C_T | C | T | . | . | PR;AC=0;AN=300  | GT | 0/0 | 0/0 |\n",
       "| chr11 | 84957254 | chr11:84957254_A_C | A | C | . | . | PR;AC=0;AN=300  | GT | 0/0 | 0/0 |\n",
       "| chr11 | 84957263 | chr11:84957263_C_T | C | T | . | . | PR;AC=0;AN=300  | GT | 0/0 | 0/0 |\n",
       "\n"
      ],
      "text/plain": [
       "  #CHROM POS      ID                 REF ALT QUAL FILTER INFO            FORMAT\n",
       "1 chr11  84957209 chr11:84957209_G_C G   C   .    .      PR;AC=99;AN=300 GT    \n",
       "2 chr11  84957210 chr11:84957210_C_T C   T   .    .      PR;AC=0;AN=300  GT    \n",
       "3 chr11  84957254 chr11:84957254_A_C A   C   .    .      PR;AC=0;AN=300  GT    \n",
       "4 chr11  84957263 chr11:84957263_C_T C   T   .    .      PR;AC=0;AN=300  GT    \n",
       "  sample0 sample1\n",
       "1 0/0     0/0    \n",
       "2 0/0     0/0    \n",
       "3 0/0     0/0    \n",
       "4 0/0     0/0    "
      ]
     },
     "metadata": {},
     "output_type": "display_data"
    }
   ],
   "source": [
    "setwd('/home/ubuntu/xqtl_protocol_exercise')\n",
    "library(data.table)\n",
    "# genotype VCF before QC\n",
    "geno = fread('data/WGS/vcf/ENSG00000073921.variants.add_chr.vcf.gz')\n",
    "dim(geno)\n",
    "geno[1:4,1:11]"
   ]
  },
  {
   "cell_type": "code",
   "execution_count": null,
   "metadata": {
    "vscode": {
     "languageId": "shellscript"
    }
   },
   "outputs": [
    {
     "name": "stdout",
     "output_type": "stream",
     "text": [
      "chr1\t10019\t10020\trs775809821\n",
      "chr1\t10039\t10039\trs978760828\n",
      "chr1\t10043\t10043\trs1008829651\n",
      "chr1\t10051\t10051\trs1052373574\n",
      "chr1\t10055\t10055\trs768019142\n",
      "chr1\t10055\t10055\trs892501864\n",
      "chr1\t10063\t10063\trs1010989343\n",
      "chr1\t10077\t10077\trs1022805358\n",
      "chr1\t10108\t10108\trs62651026\n",
      "chr1\t10109\t10109\trs376007522\n"
     ]
    }
   ],
   "source": [
    "# dbsnp-variants file to annotate rsid \n",
    "# chrom start end rsid for each snp\n",
    "cd /home/ubuntu/xqtl_protocol_exercise\n",
    "zcat reference_data/00-All.add_chr.variants.gz | head"
   ]
  },
  {
   "cell_type": "markdown",
   "id": "8f847ba1",
   "metadata": {},
   "source": [
    "#### 2.1.2 Command\n",
    "\n",
    "- 📍 Step 1: `variant preprocessing`\n",
    "\n",
    "**Purpose**\n",
    "\n",
    "Prepare and clean up raw variant records to standard format and annotate known variants.\n",
    "\n",
    "**Procedures**\n",
    "\n",
    "- **Split multi-allelic variants** into multiple bi-allelic records\n",
    "- **Left-normalize indels** and **correct REF/ALT** based on the reference FASTA\n",
    "- **Annotate variants using dbSNP**, adding RSID to known variants\n",
    "\n",
    "**Output File**\n",
    "\n",
    "```\n",
    "ENSG00000073921.variants.add_chr.leftnorm.vcf.gz\n",
    "\n",
    "```\n",
    "\n",
    "**Changes**\n",
    "\n",
    "- `ID` field may change from `.` or `chr:pos` format to `rsXXXX` if matched in dbSNP\n",
    "- Each variant record will represent only one REF/ALT pair (bi-allelic format)\n",
    "\n",
    "---\n",
    "\n",
    "- 📍 Step 2: `variant level QC`\n",
    "\n",
    "**Purpose**\n",
    "\n",
    "Filter out low-quality or unreliable variants and genotypes.\n",
    "\n",
    "**Procedures**\n",
    "\n",
    "- For each genotype, filter by:\n",
    "    - **DP (Depth)**\n",
    "    - **GQ (Genotype Quality)**\n",
    "    - **AB (Allele Balance)**\n",
    "- Filter out:\n",
    "    - **Monomorphic sites** (no heterozygosity across samples)\n",
    "    - **Variants with high missingness**\n",
    "    - **Variants failing HWE threshold** (optional)\n",
    "\n",
    "**Output File**\n",
    "\n",
    "```\n",
    "ENSG00000073921.variants.add_chr.leftnorm.bcftools_qc.vcf.gz\n",
    "\n",
    "```\n",
    "\n",
    "**Changes**\n",
    "\n",
    "- Low-confidence genotypes are set to `./.`\n",
    "- Variants with no remaining informative genotypes are removed\n",
    "- Overall file becomes cleaner and smaller in size\n",
    "\n",
    "---\n",
    "\n",
    "- 📍 Step 3: `genotype data summary statistics`\n",
    "\n",
    "**Purpose**\n",
    "\n",
    "Evaluate the effectiveness of QC using summary statistics.\n",
    "\n",
    "**Procedures**\n",
    "\n",
    "- Use `bcftools stats` to compute:\n",
    "    - Total variants, SNPs/indels, missingness, heterozygosity, etc.\n",
    "- Use `SnpSift tstv` to compute:\n",
    "    - **Transition/Transversion ratio (TS/TV)**\n",
    "- Statistics are separated into:\n",
    "    - **Known variants** (with RSID)\n",
    "    - **Novel variants** (no RSID)\n",
    "\n",
    "**Output Files**\n",
    "\n",
    "```\n",
    ".novel_variant_sumstats\n",
    ".known_variant_sumstats\n",
    ".novel_variant.snipsift_tstv\n",
    ".known_variant.snipsift_tstv"
   ]
  },
  {
   "cell_type": "markdown",
   "id": "aggregate-three",
   "metadata": {
    "kernel": "Bash"
   },
   "source": [
    "Perform QC on VCF files. The QC-ed data will also be exported to PLINK format for next steps analysis."
   ]
  },
  {
   "cell_type": "code",
   "execution_count": 2,
   "id": "consistent-seeking",
   "metadata": {
    "kernel": "Bash",
    "vscode": {
     "languageId": "shellscript"
    }
   },
   "outputs": [
    {
     "name": "stdout",
     "output_type": "stream",
     "text": [
      "/home/al4225/.pixi/envs/python/lib/python3.12/site-packages/sos/targets.py:22: UserWarning: pkg_resources is deprecated as an API. See https://setuptools.pypa.io/en/latest/pkg_resources.html. The pkg_resources package is slated for removal as early as 2025-11-30. Refrain from using this package or pin to Setuptools<81.\n",
      "  import pkg_resources\n",
      "INFO: Running \u001b[32mvariant preprocessing\u001b[0m: Handel multi-allelic sites, left normalization of indels and add variant ID\n",
      "INFO: \u001b[32mvariant preprocessing\u001b[0m is \u001b[32mcompleted\u001b[0m.\n",
      "INFO: \u001b[32mvariant preprocessing\u001b[0m output:   \u001b[32m/mnt/vast/hpc/homes/al4225/xqtl_protocol_data/output/vcf/ENSG00000073921.variants.add_chr.leftnorm.vcf.gz\u001b[0m\n",
      "INFO: Running \u001b[32mvariant level QC\u001b[0m: genotype QC\n",
      "INFO: \u001b[32mvariant level QC\u001b[0m is \u001b[32mcompleted\u001b[0m.\n",
      "INFO: \u001b[32mvariant level QC\u001b[0m output:   \u001b[32m/mnt/vast/hpc/homes/al4225/xqtl_protocol_data/output/vcf/ENSG00000073921.variants.add_chr.leftnorm.bcftools_qc.vcf.gz\u001b[0m\n",
      "INFO: Running \u001b[32mgenotype data summary statistics\u001b[0m: \n",
      "INFO: \u001b[32mqc_3\u001b[0m (index=1) is \u001b[32mcompleted\u001b[0m.\n",
      "INFO: \u001b[32mqc_3\u001b[0m (index=0) is \u001b[32mcompleted\u001b[0m.\n",
      "INFO: \u001b[32mgenotype data summary statistics\u001b[0m output:   \u001b[32m/mnt/vast/hpc/homes/al4225/xqtl_protocol_data/output/vcf/ENSG00000073921.variants.add_chr.leftnorm.novel_variant_sumstats /mnt/vast/hpc/homes/al4225/xqtl_protocol_data/output/vcf/ENSG00000073921.variants.add_chr.leftnorm.known_variant_sumstats... (8 items in 2 groups)\u001b[0m\n",
      "INFO: Workflow qc (ID=wfe4a517d2eadee3d) is executed successfully with 3 completed steps and 4 completed substeps.\n"
     ]
    }
   ],
   "source": [
    "sos run pipeline/VCF_QC.ipynb qc \\\n",
    "    --genoFile data/WGS/vcf/ENSG00000073921.variants.add_chr.vcf.gz \\\n",
    "    --dbsnp-variants reference_data/00-All.add_chr.variants.gz \\\n",
    "    --reference-genome reference_data/GRCh38_full_analysis_set_plus_decoy_hla.noALT_noHLA_noDecoy_ERCC.fasta \\\n",
    "    --skip_vcf_header_filtering \\\n",
    "    --cwd output/vcf/ "
   ]
  },
  {
   "cell_type": "markdown",
   "id": "6db5e5a0",
   "metadata": {},
   "source": [
    "### 2.2 Converting VCF to PLINK format.\n",
    "Converting VCF to PLINK format.\n",
    "\n",
    "- Input: VCF files\n",
    "- Output: PLINK format\n",
    "\n",
    "- PLINK1 Format (Traditional Format)      \n",
    "The PLINK1 format consists of three files:\n",
    "- .bed: Binary genotype data file\n",
    "- .bim: Variant information file (includes chromosome, position, variant ID, etc.)\n",
    "- .fam: Sample information file (includes family ID, individual ID, etc.)"
   ]
  },
  {
   "cell_type": "code",
   "execution_count": null,
   "id": "unauthorized-north",
   "metadata": {
    "kernel": "Bash",
    "vscode": {
     "languageId": "shellscript"
    }
   },
   "outputs": [
    {
     "name": "stdout",
     "output_type": "stream",
     "text": [
      "/home/al4225/.pixi/envs/python/lib/python3.12/site-packages/sos/targets.py:22: UserWarning: pkg_resources is deprecated as an API. See https://setuptools.pypa.io/en/latest/pkg_resources.html. The pkg_resources package is slated for removal as early as 2025-11-30. Refrain from using this package or pin to Setuptools<81.\n",
      "  import pkg_resources\n",
      "INFO: Running \u001b[32mvcf_to_plink\u001b[0m: \n",
      "INFO: \u001b[32mvcf_to_plink\u001b[0m (index=0) is \u001b[32mignored\u001b[0m due to saved signature\n",
      "INFO: \u001b[32mvcf_to_plink\u001b[0m (index=1) is \u001b[32mignored\u001b[0m due to saved signature\n",
      "INFO: \u001b[32mvcf_to_plink\u001b[0m (index=2) is \u001b[32mignored\u001b[0m due to saved signature\n",
      "INFO: \u001b[32mvcf_to_plink\u001b[0m (index=3) is \u001b[32mignored\u001b[0m due to saved signature\n",
      "INFO: \u001b[32mvcf_to_plink\u001b[0m (index=4) is \u001b[32mignored\u001b[0m due to saved signature\n",
      "INFO: \u001b[32mvcf_to_plink\u001b[0m (index=5) is \u001b[32mignored\u001b[0m due to saved signature\n",
      "INFO: \u001b[32mvcf_to_plink\u001b[0m (index=6) is \u001b[32mignored\u001b[0m due to saved signature\n",
      "INFO: \u001b[32mvcf_to_plink\u001b[0m (index=7) is \u001b[32mignored\u001b[0m due to saved signature\n",
      "INFO: \u001b[32mvcf_to_plink\u001b[0m (index=8) is \u001b[32mignored\u001b[0m due to saved signature\n",
      "INFO: \u001b[32mvcf_to_plink\u001b[0m (index=9) is \u001b[32mignored\u001b[0m due to saved signature\n",
      "INFO: \u001b[32mvcf_to_plink\u001b[0m (index=10) is \u001b[32mignored\u001b[0m due to saved signature\n",
      "INFO: \u001b[32mvcf_to_plink\u001b[0m (index=11) is \u001b[32mignored\u001b[0m due to saved signature\n",
      "INFO: \u001b[32mvcf_to_plink\u001b[0m (index=12) is \u001b[32mignored\u001b[0m due to saved signature\n",
      "INFO: \u001b[32mvcf_to_plink\u001b[0m (index=13) is \u001b[32mignored\u001b[0m due to saved signature\n",
      "INFO: \u001b[32mvcf_to_plink\u001b[0m (index=14) is \u001b[32mignored\u001b[0m due to saved signature\n",
      "INFO: \u001b[32mvcf_to_plink\u001b[0m (index=15) is \u001b[32mignored\u001b[0m due to saved signature\n",
      "INFO: \u001b[32mvcf_to_plink\u001b[0m (index=16) is \u001b[32mignored\u001b[0m due to saved signature\n",
      "INFO: \u001b[32mvcf_to_plink\u001b[0m (index=17) is \u001b[32mignored\u001b[0m due to saved signature\n",
      "INFO: \u001b[32mvcf_to_plink\u001b[0m (index=18) is \u001b[32mignored\u001b[0m due to saved signature\n",
      "INFO: \u001b[32mvcf_to_plink\u001b[0m (index=19) is \u001b[32mignored\u001b[0m due to saved signature\n",
      "INFO: \u001b[32mvcf_to_plink\u001b[0m (index=20) is \u001b[32mignored\u001b[0m due to saved signature\n",
      "INFO: \u001b[32mvcf_to_plink\u001b[0m (index=21) is \u001b[32mignored\u001b[0m due to saved signature\n",
      "INFO: \u001b[32mvcf_to_plink\u001b[0m output:   \u001b[32m/mnt/vast/hpc/homes/al4225/xqtl_protocol_data/output/plink/wgs.chr10.random.bed /mnt/vast/hpc/homes/al4225/xqtl_protocol_data/output/plink/wgs.chr11.random.bed... (22 items in 22 groups)\u001b[0m\n",
      "INFO: Workflow vcf_to_plink (ID=w58c04b477708c565) is ignored with 1 ignored step and 22 ignored substeps.\n"
     ]
    }
   ],
   "source": [
    "cd /home/ubuntu/xqtl_protocol_exercise\n",
    "sos run pipeline/genotype_formatting.ipynb vcf_to_plink \\\n",
    "    --genoFile `ls data/WGS/vcf/wgs.chr*.random.vcf.gz` \\\n",
    "    --cwd output/plink/ "
   ]
  },
  {
   "cell_type": "code",
   "execution_count": null,
   "id": "d9e3d291",
   "metadata": {
    "vscode": {
     "languageId": "shellscript"
    }
   },
   "outputs": [],
   "source": [
    "# merge plink bed into 1\n",
    "sos run pipeline/genotype_formatting.ipynb merge_plink \\\n",
    "    --genoFile `ls output/plink/wgs.chr*.random.bed` \\\n",
    "    --name wgs.merged \\\n",
    "    --cwd output/plink/ "
   ]
  },
  {
   "cell_type": "markdown",
   "id": "867b3d9e",
   "metadata": {},
   "source": [
    "### 2.3 Genotype PLINK File Quality Control\n",
    "\n",
    "About `qc`:   \n",
    "1. `[qc_no_prune, qc_1 (basic QC filters)]`:  \n",
    "-- `aim`: To filter SNPs and select individuals based on various quality control (QC) criteria. The goal is to ensure that the genotype data is of high quality and free from potential errors or biases before further analysis.   \n",
    "\n",
    "`Input`:    \n",
    "- genoFile: The primary input file containing genotype data.  \n",
    "- Various parameters that dictate the QC criteria:  \n",
    "- maf_filter, maf_max_filter: Minimum and maximum Minor Allele Frequency (MAF) thresholds.  \n",
    "- mac_filter, mac_max_filter: Minimum and maximum Minor Allele Count (MAC) thresholds.  \n",
    "- geno_filter: Maximum missingness per variant.  \n",
    "- mind_filter: Maximum missingness per sample.  \n",
    "- hwe_filter: Hardy-Weinberg Equilibrium (HWE) filter threshold.  \n",
    "- other_args: Other optional PLINK arguments.  \n",
    "- meta_only: Flag to determine if only SNP and sample lists should be output.  \n",
    "- rm_dups: Flag to remove duplicate variants.  \n",
    "\n",
    "`Output`: A file (or set of files) with the suffix .plink_qc (and possibly .extracted if specific variants are kept). The exact format (e.g., .bed or .snplist) depends on the meta_only parameter.  \n"
   ]
  },
  {
   "cell_type": "code",
   "execution_count": null,
   "id": "bd7d9235",
   "metadata": {
    "vscode": {
     "languageId": "shellscript"
    }
   },
   "outputs": [
    {
     "name": "stdout",
     "output_type": "stream",
     "text": [
      "/home/al4225/.pixi/envs/python/lib/python3.12/site-packages/sos/targets.py:22: UserWarning: pkg_resources is deprecated as an API. See https://setuptools.pypa.io/en/latest/pkg_resources.html. The pkg_resources package is slated for removal as early as 2025-11-30. Refrain from using this package or pin to Setuptools<81.\n",
      "  import pkg_resources\n",
      "INFO: Running \u001b[32mqc_no_prune\u001b[0m: Filter SNPs and select individuals\n",
      "INFO: \u001b[32mqc_no_prune\u001b[0m is \u001b[32mcompleted\u001b[0m.\n",
      "INFO: \u001b[32mqc_no_prune\u001b[0m output:   \u001b[32m/mnt/vast/hpc/homes/al4225/xqtl_protocol_data/output/plink/wgs.merged.plink_qc.bed\u001b[0m\n",
      "INFO: Workflow qc_no_prune (ID=w6697f77cea0f6dc2) is executed successfully with 1 completed step.\n"
     ]
    }
   ],
   "source": [
    "cd /home/ubuntu/xqtl_protocol_exercise\n",
    "sos run pipeline/GWAS_QC.ipynb qc_no_prune \\\n",
    "   --cwd output/plink \\\n",
    "   --genoFile output/plink/wgs.merged.bed \\\n",
    "   --geno-filter 0.1 \\\n",
    "   --mind-filter 0.1 \\\n",
    "   --hwe-filter 1e-08 \\\n",
    "   --mac-filter 0 "
   ]
  },
  {
   "cell_type": "markdown",
   "id": "irish-black",
   "metadata": {
    "kernel": "SoS"
   },
   "source": [
    "## 2.4 Genotype QCed plink files separate by chrom"
   ]
  },
  {
   "cell_type": "code",
   "execution_count": null,
   "id": "a77a5f3b",
   "metadata": {
    "vscode": {
     "languageId": "shellscript"
    }
   },
   "outputs": [
    {
     "name": "stdout",
     "output_type": "stream",
     "text": [
      "/home/al4225/.pixi/envs/python/lib/python3.12/site-packages/sos/targets.py:22: UserWarning: pkg_resources is deprecated as an API. See https://setuptools.pypa.io/en/latest/pkg_resources.html. The pkg_resources package is slated for removal as early as 2025-11-30. Refrain from using this package or pin to Setuptools<81.\n",
      "  import pkg_resources\n",
      "INFO: Running \u001b[32mgenotype_by_chrom_1\u001b[0m: \n",
      "INFO: \u001b[32mgenotype_by_chrom_1\u001b[0m (index=3) is \u001b[32mcompleted\u001b[0m.\n",
      "INFO: \u001b[32mgenotype_by_chrom_1\u001b[0m (index=6) is \u001b[32mcompleted\u001b[0m.\n",
      "INFO: \u001b[32mgenotype_by_chrom_1\u001b[0m (index=0) is \u001b[32mcompleted\u001b[0m.\n",
      "INFO: \u001b[32mgenotype_by_chrom_1\u001b[0m (index=5) is \u001b[32mcompleted\u001b[0m.\n",
      "INFO: \u001b[32mgenotype_by_chrom_1\u001b[0m (index=1) is \u001b[32mcompleted\u001b[0m.\n",
      "INFO: \u001b[32mgenotype_by_chrom_1\u001b[0m (index=4) is \u001b[32mcompleted\u001b[0m.\n",
      "INFO: \u001b[32mgenotype_by_chrom_1\u001b[0m (index=2) is \u001b[32mcompleted\u001b[0m.\n",
      "INFO: \u001b[32mgenotype_by_chrom_1\u001b[0m (index=9) is \u001b[32mcompleted\u001b[0m.\n",
      "INFO: \u001b[32mgenotype_by_chrom_1\u001b[0m (index=7) is \u001b[32mcompleted\u001b[0m.\n",
      "INFO: \u001b[32mgenotype_by_chrom_1\u001b[0m (index=12) is \u001b[32mcompleted\u001b[0m.\n",
      "INFO: \u001b[32mgenotype_by_chrom_1\u001b[0m (index=11) is \u001b[32mcompleted\u001b[0m.\n",
      "INFO: \u001b[32mgenotype_by_chrom_1\u001b[0m (index=13) is \u001b[32mcompleted\u001b[0m.\n",
      "INFO: \u001b[32mgenotype_by_chrom_1\u001b[0m (index=8) is \u001b[32mcompleted\u001b[0m.\n",
      "INFO: \u001b[32mgenotype_by_chrom_1\u001b[0m (index=10) is \u001b[32mcompleted\u001b[0m.\n",
      "INFO: \u001b[32mgenotype_by_chrom_1\u001b[0m (index=15) is \u001b[32mcompleted\u001b[0m.\n",
      "INFO: \u001b[32mgenotype_by_chrom_1\u001b[0m (index=16) is \u001b[32mcompleted\u001b[0m.\n",
      "INFO: \u001b[32mgenotype_by_chrom_1\u001b[0m (index=14) is \u001b[32mcompleted\u001b[0m.\n",
      "INFO: \u001b[32mgenotype_by_chrom_1\u001b[0m (index=18) is \u001b[32mcompleted\u001b[0m.\n",
      "INFO: \u001b[32mgenotype_by_chrom_1\u001b[0m (index=17) is \u001b[32mcompleted\u001b[0m.\n",
      "INFO: \u001b[32mgenotype_by_chrom_1\u001b[0m (index=19) is \u001b[32mcompleted\u001b[0m.\n",
      "INFO: \u001b[32mgenotype_by_chrom_1\u001b[0m (index=20) is \u001b[32mcompleted\u001b[0m.\n",
      "INFO: \u001b[32mgenotype_by_chrom_1\u001b[0m (index=21) is \u001b[32mcompleted\u001b[0m.\n",
      "INFO: \u001b[32mgenotype_by_chrom_1\u001b[0m output:   \u001b[32m/mnt/vast/hpc/homes/al4225/xqtl_protocol_data/output/genotype_by_chrom/wgs.merged.plink_qc.11.bed /mnt/vast/hpc/homes/al4225/xqtl_protocol_data/output/genotype_by_chrom/wgs.merged.plink_qc.3.bed... (22 items in 22 groups)\u001b[0m\n",
      "INFO: Running \u001b[32mgenotype_by_chrom_2\u001b[0m: \n",
      "INFO: \u001b[32mgenotype_by_chrom_2\u001b[0m is \u001b[32mcompleted\u001b[0m (pending nested workflow).\n",
      "INFO: Running \u001b[32mwrite_data_list\u001b[0m: \n",
      "INFO: \u001b[32mwrite_data_list\u001b[0m is \u001b[32mcompleted\u001b[0m.\n",
      "INFO: \u001b[32mwrite_data_list\u001b[0m output:   \u001b[32m/mnt/vast/hpc/homes/al4225/xqtl_protocol_data/output/genotype_by_chrom/wgs.merged.plink_qc.genotype_by_chrom_files.txt\u001b[0m\n",
      "INFO: \u001b[32mgenotype_by_chrom_2\u001b[0m output:   \u001b[32m/mnt/vast/hpc/homes/al4225/xqtl_protocol_data/output/genotype_by_chrom/wgs.merged.plink_qc.genotype_by_chrom_files.txt\u001b[0m\n",
      "INFO: Workflow genotype_by_chrom (ID=w0b8bc8f592bf28bd) is executed successfully with 3 completed steps and 24 completed substeps.\n"
     ]
    }
   ],
   "source": [
    "sos run pipeline/genotype_formatting.ipynb genotype_by_chrom \\\n",
    "    --genoFile output/plink/wgs.merged.plink_qc.bed \\\n",
    "    --cwd output/genotype_by_chrom \\\n",
    "    --chrom `cut -f 1 output/plink/wgs.merged.plink_qc.bim | uniq | sed \"s/chr//g\"`"
   ]
  },
  {
   "cell_type": "markdown",
   "id": "7a747116",
   "metadata": {},
   "source": []
  }
 ],
 "metadata": {
  "kernelspec": {
   "display_name": "Bash",
   "language": "bash",
   "name": "bash"
  },
  "language_info": {
   "codemirror_mode": "shell",
   "file_extension": ".sh",
   "mimetype": "text/x-sh",
   "name": "bash"
  },
  "sos": {
   "kernels": [
    [
     "Bash",
     "bash",
     "Bash",
     "#E6EEFF",
     "shell"
    ],
    [
     "SoS",
     "sos",
     "",
     "",
     "sos"
    ]
   ],
   "version": "0.22.6"
  }
 },
 "nbformat": 4,
 "nbformat_minor": 5
}
