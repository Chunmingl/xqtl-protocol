{
 "cells": [
  {
   "cell_type": "markdown",
   "id": "instructional-chile",
   "metadata": {},
   "source": [
    "# Covariate data preprocessing\n",
    "\n",
    "This notebook contains workflow of processing covariate files for TensorQTL. It also computes PCA-derived covariates from genotype and phenotype data."
   ]
  },
  {
   "cell_type": "markdown",
   "id": "korean-slide",
   "metadata": {},
   "source": [
    "## Methods overview\n",
    "\n",
    "This workflow is an application of the covariate related sections from the xQTL project pipeline.\n",
    "\n",
    "## Data Input\n",
    "- `phenotype data with bed.gz`.\n",
    "- PCs from genotypes genereated in the [genotype_pca](https://github.com/cumc/brain-xqtl-analysis/tree/main/analysis/Wang_Columbia/ROSMAP/pqtl/genotype_pca) step.\n",
    "- Fixed covarate file including information such as sex, age at death, pmi etc\n",
    "\n",
    "First, we need to read covariates data and meta data. meta data is used for match projid and sampleid. In this case, we want to change the projid in the raw cov data to corresponding sample id. Note that some of the projids don't have corresponding sampleid according to the meta list. But it's okay because in the next few steps we will only keep those ids overlapped with phenotype data. You can adjust df_cov.head() to view more.\n"
   ]
  },
  {
   "cell_type": "code",
   "execution_count": null,
   "id": "37ebd196",
   "metadata": {
    "vscode": {
     "languageId": "shellscript"
    }
   },
   "outputs": [
    {
     "name": "stdout",
     "output_type": "stream",
     "text": [
      "id\tsex\tage\trin\tpmi\n",
      "sample0\t0\t91\t4\t4\n",
      "sample1\t0\t92\t6\t33\n",
      "sample2\t1\t52\t3\t21\n",
      "sample3\t0\t85\t5\t28\n",
      "sample4\t1\t54\t7\t36\n",
      "sample5\t1\t77\t4\t18\n",
      "sample6\t0\t83\t2\t43\n",
      "sample7\t0\t78\t9\t29\n",
      "sample8\t1\t65\t6\t25\n"
     ]
    }
   ],
   "source": [
    "cd /home/ubuntu/xqtl_protocol_exercise\n",
    "head data/covariate/covariates.tsv"
   ]
  },
  {
   "cell_type": "markdown",
   "id": "continuing-search",
   "metadata": {},
   "source": [
    "## Data Output\n",
    "- `output/data_preprocessing/covariate_data/` This contains all covariates from Genotype PCs, known covariates, and hidden factors."
   ]
  },
  {
   "cell_type": "markdown",
   "id": "wrapped-drama",
   "metadata": {},
   "source": [
    "### Merge covariates and genotype PCA"
   ]
  },
  {
   "cell_type": "markdown",
   "id": "c9013e61",
   "metadata": {},
   "source": [
    "First, check how many genotype PC we might want to include,  \n",
    "this screen file is from the pca output of genotype_pca, showing the variance explained by each principal component. "
   ]
  },
  {
   "cell_type": "markdown",
   "id": "940db73b",
   "metadata": {},
   "source": [
    "Here we see 15 PC that will explain 80% variation in the data. Let's include 15 PC in this case. In practice it is suggested that you discuss with your collaborator and/or PI about the choice of PC given results from the previous PCA.\n",
    "\n",
    "So in --k parameter, we set it as 15.\n",
    "\n",
    "About `[merge_genotype_pc]`:    \n",
    "\n",
    "`Aim`: To merge the results of a genotype Principal Component Analysis (PCA) with other covariate data for subsequent analyses.\n",
    "\n",
    "`Inputs`:\n",
    "\n",
    "- pcaFile: This is an RDS file, which is the output of the genotype PCA module.    \n",
    "- covFile: This is a file containing covariate data.    \n",
    "- k: The number of principal components to retain, defaulting to 20. In this case, we set as 15.    \n",
    "- outliersFile: A file listing samples considered as outliers.    \n",
    "- remove_outliers: A flag indicating whether outliers should be removed from the analysis.    \n",
    "- tol_cov: If tol_cov = -1, then do nothing about missing rate, otherwise it means the maximum allowed missingness rate in covariates.    \n",
    "- mean_impute: A flag indicating whether missing values in covariates should be imputed with their mean.\n",
    "\n",
    "`Output`:    \n",
    "\n",
    "A file that merges the PCA and covariate data. `.plink_qc.prune.pca.gz`.  \n",
    "\n",
    "In summary, It first checks for sample overlap between the PCA and covariate data, then handles missing values in covariates, and finally merges the processed data and saves it to an output file. So after this cell, you will obtain a file that merges the PCA and covariate data, which can be used for subsequent analyses. \n"
   ]
  },
  {
   "cell_type": "code",
   "execution_count": null,
   "id": "81ff2436",
   "metadata": {
    "vscode": {
     "languageId": "shellscript"
    }
   },
   "outputs": [
    {
     "name": "stdout",
     "output_type": "stream",
     "text": [
      "/home/al4225/.pixi/envs/python/lib/python3.12/site-packages/sos/targets.py:22: UserWarning: pkg_resources is deprecated as an API. See https://setuptools.pypa.io/en/latest/pkg_resources.html. The pkg_resources package is slated for removal as early as 2025-11-30. Refrain from using this package or pin to Setuptools<81.\n",
      "  import pkg_resources\n",
      "INFO: Running \u001b[32mmerge_genotype_pc\u001b[0m: \n",
      "INFO: \u001b[32mmerge_genotype_pc\u001b[0m is \u001b[32mcompleted\u001b[0m.\n",
      "INFO: \u001b[32mmerge_genotype_pc\u001b[0m output:   \u001b[32m/mnt/vast/hpc/homes/al4225/xqtl_protocol_data/output/covariate/covariates.wgs.merged.plink_qc.plink_qc.prune.pca.gz\u001b[0m\n",
      "INFO: Workflow merge_genotype_pc (ID=wca247f02ec8db517) is executed successfully with 1 completed step.\n"
     ]
    }
   ],
   "source": [
    "cd /home/ubuntu/xqtl_protocol_exercise\n",
    "# assuming no related data in previous geno qc step using plink_qc.prune.pca.rds\n",
    "sos run pipeline/covariate_formatting.ipynb merge_genotype_pc \\\n",
    "    --cwd output/covariate/ \\\n",
    "    --pcaFile output/genotype/genotype_pca/wgs.merged.plink_qc.plink_qc.prune.pca.rds \\\n",
    "    --covFile data/covariate/covariates.tsv \\\n",
    "    --tol-cov 0.4 \\\n",
    "    --k `awk '$3 < 0.8' output/genotype/genotype_pca/wgs.merged.plink_qc.plink_qc.prune.pca.scree.txt | tail -1 | cut -f 1 ` \n",
    "    "
   ]
  },
  {
   "cell_type": "markdown",
   "id": "given-purpose",
   "metadata": {},
   "source": [
    "### Compute residule on merged covariates and perform hidden factor analysis\n",
    "This step will compute residual on merged covariates(`Marchenko_PC_1`) and perform hidden factor analysis(`Marchenko_PC_2`)\n",
    "\n",
    "`Background`:    \n",
    "Hidden factor analysis aims to identify and quantify unobserved (hidden) factors that influence observed variables. In the context of genomics and transcriptomics, these hidden factors can be various sources of variability, such as batch effects, technical artifacts, or other unmeasured biological factors that can influence gene expression levels.\n",
    "\n",
    "PCA on Residuals:   \n",
    "Principal Component Analysis (PCA) is a dimensionality reduction technique that captures the major sources of variability in the data. By performing PCA on the residuals (which are the parts of the data unexplained by known covariates), the workflow aims to capture the variability due to hidden factors.\n",
    "\n",
    "Marchenko-Pastur Distribution:   \n",
    "The chooseMarchenkoPastur function is used to determine the number of principal components (PCs) to retain. The Marchenko-Pastur distribution is a mathematical tool used to decide how many PCs are likely representing true biological or technical variability (hidden factors) versus random noise. By comparing the eigenvalues (variances) of the PCs to this distribution, one can decide which PCs are likely representing hidden factors.\n",
    "\n",
    "Principal Components(the output):   \n",
    "The resulting principal components represent hidden biological factors that contribute to the molecular phenotype variation but are not explained by the known covariates. These factors are:\n",
    "- Hidden confounders: Unobserved variables that affect gene expression patterns across samples, such as batch effects, population substructure, or unmeasured environmental factors.\n",
    "- Systematic variation: Sources of correlated variation across genes that may arise from technical factors or biological processes not captured in the covariate file.\n",
    "- Quality-controlled factors: Only principal components that pass the Marchenko-Pastur significance threshold are retained, ensuring that noise components are excluded.\n",
    "\n",
    "Let's look at the workflow step by step:  \n",
    "\n",
    "`Workflow 1: *_1(computing residual on merged covariates)`   \n",
    "\n",
    "`Aim`: To compute residuals on merged covariates (The portion of phenotypic data that can not be explained by covariates. The effects of known covariates were removed, and the “Pure” signal in the phenotypic data was retained for subsequent hidden factor analysis, allowing PCA to capture real biological variation rather than technical noise).\n",
    "\n",
    "`Inputs`:     \n",
    "- phenoFile: A file containing phenotype data.    \n",
    "- covFile: the merged pca and cov gz.file in the output of `merge_genotype_pc`.   \n",
    "\n",
    "`Output`:   \n",
    "`Mic.log2cpm.mic.rosmap_cov.ROSMAP_NIA_WGS.leftnorm.bcftools_qc.plink_qc.snuc_pseudo_bulk.related.plink_qc.extracted.pca.projected.residual.bed.gz`. A compressed .bed.gz file containing the residuals of the merged covariates.    \n",
    "\n",
    "`In summary`, it first loads pheno, cov file, extracts overlapping Samples, computes residuals in the subset data(only contains overlapped samples) using a linear model fit. Then, the residuals, along with phenotype IDs, are written to a tab-delimited file, and compressed using bgzip and indexed using tabix.\n",
    "\n",
    "`Workflow 2: Marchenko_PC_2`:      \n",
    "\n",
    " `Aim`: To perform Principal Component Analysis (PCA) on the residuals and determine the number of principal components (hidden factor) to retain based on the Marchenko-Pastur distribution.\n",
    "\n",
    "`Inputs`:     \n",
    "- Residuals from the previous workflow.\n",
    "- Covariate file (covFile).\n",
    "\n",
    "`Output`:   \n",
    "`Mic.log2cpm.mic.rosmap_cov.ROSMAP_NIA_WGS.leftnorm.bcftools_qc.plink_qc.snuc_pseudo_bulk.related.plink_qc.extracted.pca.projected.Marchenko_PC.gz`. A compressed file containing the principal components(hidden factors--written as Hidden_Factor_PC1, Hidden_Factor_PC2……) and covariates(msex,age_death,pmi ). So this is the final cov file we will actually use in the subsequent analysis(eg: tensorqtl).\n",
    "\n",
    "`In summary`, the Marchenko_PC_2 workflow is essentially performing hidden factor analysis on the residuals. By extracting the major sources of variability from the residuals using PCA and determining the number of PCs to retain based on the Marchenko-Pastur distribution, the workflow identifies the hidden factors in the data. These hidden factors, represented by the principal components, provide insights into the underlying structure of the data and can be crucial for correcting batch effects, reducing technical noise, and improving the interpretability of downstream analyses."
   ]
  },
  {
   "cell_type": "code",
   "execution_count": 2,
   "id": "55a6716e",
   "metadata": {
    "vscode": {
     "languageId": "shellscript"
    }
   },
   "outputs": [
    {
     "name": "stdout",
     "output_type": "stream",
     "text": [
      "/home/al4225/.pixi/envs/python/lib/python3.12/site-packages/sos/targets.py:22: UserWarning: pkg_resources is deprecated as an API. See https://setuptools.pypa.io/en/latest/pkg_resources.html. The pkg_resources package is slated for removal as early as 2025-11-30. Refrain from using this package or pin to Setuptools<81.\n",
      "  import pkg_resources\n",
      "INFO: Running \u001b[32mcomputing residual on merged covariates\u001b[0m: \n",
      "INFO: \u001b[32mcomputing residual on merged covariates\u001b[0m is \u001b[32mcompleted\u001b[0m.\n",
      "INFO: \u001b[32mcomputing residual on merged covariates\u001b[0m output:   \u001b[32moutput/covariate/bulk_rnaseq_tmp_matrix.low_expression_filtered.outlier_removed.tmm.expression.covariates.wgs.merged.plink_qc.plink_qc.prune.pca.residual.bed.gz\u001b[0m\n",
      "INFO: Running \u001b[32mMarchenko_PC_2\u001b[0m: \n",
      "INFO: \u001b[32mMarchenko_PC_2\u001b[0m is \u001b[32mcompleted\u001b[0m.\n",
      "INFO: \u001b[32mMarchenko_PC_2\u001b[0m output:   \u001b[32moutput/covariate/bulk_rnaseq_tmp_matrix.low_expression_filtered.outlier_removed.tmm.expression.covariates.wgs.merged.plink_qc.plink_qc.prune.pca.Marchenko_PC.gz\u001b[0m\n",
      "INFO: Workflow Marchenko_PC (ID=w93382653426c6a87) is executed successfully with 2 completed steps.\n"
     ]
    }
   ],
   "source": [
    "sos run pipeline/covariate_hidden_factor.ipynb Marchenko_PC \\\n",
    "   --cwd output/covariate \\\n",
    "   --phenoFile output/rnaseq/bulk_rnaseq_tmp_matrix.low_expression_filtered.outlier_removed.tmm.expression.bed.gz  \\\n",
    "   --covFile output/covariate/covariates.wgs.merged.plink_qc.plink_qc.prune.pca.gz \\\n",
    "   --mean-impute-missing "
   ]
  },
  {
   "cell_type": "markdown",
   "id": "4091d401",
   "metadata": {},
   "source": [
    "### Summary analysis of covariates preprocessing results"
   ]
  },
  {
   "cell_type": "code",
   "execution_count": 3,
   "id": "4fbac529",
   "metadata": {
    "vscode": {
     "languageId": "shellscript"
    }
   },
   "outputs": [
    {
     "name": "stdout",
     "output_type": "stream",
     "text": [
      "#id\tsample0\tsample1\tsample2\tsample3\tsample4\n",
      "sex\t0\t0\t1\t0\t1\n",
      "age\t91\t92\t52\t85\t54\n",
      "rin\t4\t6\t3\t5\t7\n",
      "pmi\t4\t33\t21\t28\t36\n",
      "PC1\t0.0079719403735707\t0.01551892391210383\t0.00774270222373719\t0.01728777110680747\t-0.0038685278561914\n",
      "PC2\t0.21108638503242705\t-0.08141101340591093\t-0.1324609481859247\t0.01462193776343482\t0.06596595896560435\n",
      "PC3\t-0.05063343099042864\t-0.12687379700590845\t-0.12060270181509317\t0.05599049431828046\t-0.06686964706351353\n",
      "PC4\t-0.01406533451346132\t0.12781517725968655\t-0.01736711354272593\t0.02015639819991523\t-0.03304252616108331\n",
      "PC5\t-0.124368907986055\t0.03655636585203538\t0.0282157547046425\t0.1561247811903808\t-0.07371828928862333\n"
     ]
    }
   ],
   "source": [
    "# preview of the final Marchenko_PC.gz file\n",
    "zcat output/covariate/bulk_rnaseq_tmp_matrix.low_expression_filtered.outlier_removed.tmm.expression.covariates.wgs.merged.plink_qc.plink_qc.prune.pca.Marchenko_PC.gz | head | cut -f 1-6"
   ]
  },
  {
   "cell_type": "markdown",
   "id": "746f77ac",
   "metadata": {},
   "source": [
    "##### The final covariates list     \n",
    "The number of covariates listed is 53: msex, age_death, pmi from the raw cov data. PC1-15 from geno_pca. Hidden_Factor_PC1-10 are the hidden factors from Marchenko_PC.\n",
    "\n",
    "`1. Number of covariates in the raw covariates file: 4. `    \n",
    "\n",
    "- msex: This refers to the genetic sex of the individual. In many genetic studies, sex is an important covariate because males and females can have different baseline levels of gene expression and can respond differently to genetic and environmental factors.\n",
    "\n",
    "- age_death: This refers to the age at which the individual died. Age can influence gene expression patterns, with some genes being more or less active at different stages of life. Including age at death as a covariate can help account for age-related variations in gene expression.\n",
    "\n",
    "- pmi: This stands for \"post-mortem interval.\" It refers to the time elapsed between an individual's death and when their tissue or samples were collected or preserved. PMI can influence the quality and stability of RNA and other molecules in the sample. By including PMI as a covariate, the analysis can account for potential biases or noise introduced by variations in sample quality due to differing post-mortem intervals.\n",
    "\n",
    "`2. Number of covariates from genotype pca: 15. `    \n",
    "Including PCs from genotype data as covariates helps in controlling for potential confounders, especially population stratification, thereby reducing the risk of false-positive findings and increasing the robustness of the eQTL analysis. 15 PC will explain 80% variation in the data, so we include 15 PC in this case.\n",
    "\n",
    "`3. Number of covariates from hidden factor: 10. `    \n",
    "Hidden factors represent sources of variability in the data that are not directly measured but can significantly influence the observed variables. In the context of genomics, these hidden factors can arise from various sources, including batch effects, technical artifacts, or other unmeasured biological factors that can influence gene expression levels. Identifying and accounting for these hidden factors is crucial to reduce confounding and enhance Interpretability.\n",
    "\n",
    "\n",
    "In summary, including these covariates in the analysis helps to ensure that the observed associations between genotypes and gene expression are not confounded by these other factors."
   ]
  },
  {
   "cell_type": "code",
   "execution_count": 4,
   "id": "8813d48d",
   "metadata": {
    "vscode": {
     "languageId": "shellscript"
    }
   },
   "outputs": [
    {
     "name": "stdout",
     "output_type": "stream",
     "text": [
      "#id\n",
      "sex\n",
      "age\n",
      "rin\n",
      "pmi\n",
      "PC1\n",
      "PC2\n",
      "PC3\n",
      "PC4\n",
      "PC5\n",
      "PC6\n",
      "PC7\n",
      "PC8\n",
      "PC9\n",
      "PC10\n",
      "PC11\n",
      "PC12\n",
      "PC13\n",
      "PC14\n",
      "PC15\n",
      "Hidden_Factor_PC1\n",
      "Hidden_Factor_PC2\n",
      "Hidden_Factor_PC3\n",
      "Hidden_Factor_PC4\n",
      "Hidden_Factor_PC5\n",
      "Hidden_Factor_PC6\n",
      "Hidden_Factor_PC7\n",
      "Hidden_Factor_PC8\n",
      "Hidden_Factor_PC9\n",
      "Hidden_Factor_PC10\n"
     ]
    }
   ],
   "source": [
    "zcat output/covariate/bulk_rnaseq_tmp_matrix.low_expression_filtered.outlier_removed.tmm.expression.covariates.wgs.merged.plink_qc.plink_qc.prune.pca.Marchenko_PC.gz | cut -f 1\n"
   ]
  }
 ],
 "metadata": {
  "kernelspec": {
   "display_name": "Bash",
   "language": "bash",
   "name": "bash"
  },
  "language_info": {
   "codemirror_mode": "shell",
   "file_extension": ".sh",
   "mimetype": "text/x-sh",
   "name": "bash"
  }
 },
 "nbformat": 4,
 "nbformat_minor": 5
}
