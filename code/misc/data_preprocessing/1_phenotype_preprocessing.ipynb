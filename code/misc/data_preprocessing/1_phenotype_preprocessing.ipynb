{
 "cells": [
  {
   "cell_type": "markdown",
   "id": "double-fighter",
   "metadata": {
    "kernel": "SoS"
   },
   "source": [
    "# Phenotype preprocessing\n",
    "This notebook contains workflow record of processing proteomics Phenotype files for TensorQTL."
   ]
  },
  {
   "cell_type": "markdown",
   "id": "practical-laugh",
   "metadata": {
    "kernel": "SoS"
   },
   "source": [
    "## Data Input\n",
    "\n",
    "- `output/rnaseq/bulk_rnaseq_tmp_matrix.low_expression_filtered.outlier_removed.tmm.expression.bed.gz`\n",
    "- `reference_data/Homo_sapiens.GRCh38.103.chr.reformatted.collapse_only.gene.ERCC.gtf`"
   ]
  },
  {
   "cell_type": "markdown",
   "id": "local-firmware",
   "metadata": {
    "kernel": "SoS"
   },
   "source": [
    "### Phenotype Annotation\n",
    "This step serves as annote corresponding `chr`, `start`, `end`, `ID`, and `strand` to genes in the original phenotype matrix. \n",
    "\n",
    "In this case, in the original mic data, each column: id(gene name or gene ENSGid) and sample ids. Each row: each gene.   \n",
    "\n",
    "After the annotation, bed.gz file would be the output and it would be shown in zcat chunk to show what it would be like after annotation."
   ]
  },
  {
   "cell_type": "code",
   "execution_count": null,
   "id": "6d2bcb94",
   "metadata": {
    "vscode": {
     "languageId": "shellscript"
    }
   },
   "outputs": [
    {
     "name": "stdout",
     "output_type": "stream",
     "text": [
      "#chr\tstart\tend\tgene_id\tsample0\tsample1\n",
      "chr1\t91104\t91105\tENSG00000239945\t-0.8112562251907688\t-0.8112562251907688\n",
      "chr1\t959308\t959309\tENSG00000188976\t-0.5687343634272857\t-0.8948618788124498\n",
      "chr1\t1206591\t1206592\tENSG00000186891\t-0.7329709314251284\t-0.799775190677156\n",
      "chr1\t2555638\t2555639\tENSG00000157873\t-0.7329709314251284\t0.3471524102625916\n",
      "chr1\t7784319\t7784320\tENSG00000049246\t-0.04151238794160813\t0.9718486924642757\n",
      "chr1\t7999933\t7999934\tENSG00000284716\t0.40056323012421163\t1.3652151742017207\n",
      "chr1\t9960786\t9960787\tENSG00000283611\t-0.3826399361206268\t-0.3826399361206268\n",
      "chr1\t10298965\t10298966\tENSG00000199562\t-0.32957402197565067\t-0.40056323012421163\n",
      "chr1\t10306464\t10306465\tENSG00000264501\t0.07477045310977722\t0.12482480218232882\n"
     ]
    }
   ],
   "source": [
    "cd /home/ubuntu/xqtl_protocol_exercise\n",
    "zcat output/rnaseq/bulk_rnaseq_tmp_matrix.low_expression_filtered.outlier_removed.tmm.expression.bed.gz | head | cut -f 1-6"
   ]
  },
  {
   "cell_type": "code",
   "execution_count": null,
   "id": "76a6cb22",
   "metadata": {
    "vscode": {
     "languageId": "shellscript"
    }
   },
   "outputs": [
    {
     "name": "stdout",
     "output_type": "stream",
     "text": [
      "/home/al4225/.pixi/envs/python/lib/python3.12/site-packages/sos/targets.py:22: UserWarning: pkg_resources is deprecated as an API. See https://setuptools.pypa.io/en/latest/pkg_resources.html. The pkg_resources package is slated for removal as early as 2025-11-30. Refrain from using this package or pin to Setuptools<81.\n",
      "  import pkg_resources\n",
      "INFO: Running \u001b[32mannotate_coord\u001b[0m: \n",
      "INFO: \u001b[32mannotate_coord\u001b[0m (index=0) is \u001b[32mignored\u001b[0m due to saved signature\n",
      "INFO: \u001b[32mannotate_coord\u001b[0m output:   \u001b[32m/mnt/vast/hpc/homes/al4225/xqtl_protocol_data/output/rnaseq/bulk_rnaseq_tmp_matrix.low_expression_filtered.outlier_removed.tmm.expression.bed.bed.gz /mnt/vast/hpc/homes/al4225/xqtl_protocol_data/output/rnaseq/bulk_rnaseq_tmp_matrix.low_expression_filtered.outlier_removed.tmm.expression.bed.region_list.txt\u001b[0m\n",
      "INFO: Workflow annotate_coord (ID=wc0f3b36281bafaba) is ignored with 1 ignored step.\n"
     ]
    }
   ],
   "source": [
    "cd /home/ubuntu/xqtl_protocol_exercise\n",
    "sos run pipeline/gene_annotation.ipynb annotate_coord \\\n",
    "    --cwd output/rnaseq \\\n",
    "    --phenoFile output/rnaseq/bulk_rnaseq_tmp_matrix.low_expression_filtered.outlier_removed.tmm.expression.bed.gz \\\n",
    "    --coordinate-annotation reference_data/Homo_sapiens.GRCh38.103.chr.reformatted.collapse_only.gene.ERCC.gtf \\\n",
    "    --phenotype-id-column gene_id"
   ]
  },
  {
   "cell_type": "markdown",
   "id": "fewer-reduction",
   "metadata": {
    "kernel": "SoS"
   },
   "source": [
    "The output of annotation as following:"
   ]
  },
  {
   "cell_type": "code",
   "execution_count": 5,
   "id": "e4bf32e1",
   "metadata": {
    "vscode": {
     "languageId": "shellscript"
    }
   },
   "outputs": [
    {
     "name": "stdout",
     "output_type": "stream",
     "text": [
      "#chr\tstart\tend\tID\tstrand\tsample0\n",
      "chr1\t89550\t91104\tENSG00000239945\t-\t-0.8112562251907688\n",
      "chr1\t944202\t959308\tENSG00000188976\t-\t-0.5687343634272857\n",
      "chr1\t1203507\t1206591\tENSG00000186891\t-\t-0.7329709314251284\n",
      "chr1\t2555638\t2565381\tENSG00000157873\t+\t-0.7329709314251284\n",
      "chr1\t7784319\t7845176\tENSG00000049246\t+\t-0.0415123879416081\n",
      "chr1\t7998186\t7999933\tENSG00000284716\t-\t0.4005632301242116\n",
      "chr1\t9950571\t9960786\tENSG00000283611\t-\t-0.3826399361206268\n",
      "chr1\t10298965\t10299071\tENSG00000199562\t+\t-0.3295740219756506\n",
      "chr1\t10306464\t10306756\tENSG00000264501\t+\t0.0747704531097772\n"
     ]
    }
   ],
   "source": [
    "zcat output/rnaseq/bulk_rnaseq_tmp_matrix.low_expression_filtered.outlier_removed.tmm.expression.bed.bed.gz | head | cut -f 1-6"
   ]
  },
  {
   "cell_type": "markdown",
   "id": "0640cc80",
   "metadata": {},
   "source": [
    "### Imputation\n",
    "The phenotype_imputation module provides multiple imputation algorithms to handle missing values in molecular phenotype data. The primary recommended method is Empirical Bayes Matrix Factorization (EBMF), particularly the grouped version (gEBMF), as described in phenotype_imputation.ipynb:32.\n",
    "\n",
    "This workflow includes eight imputation methods:\n",
    "\n",
    "- gEBMF: Grouped Empirical Bayes Matrix Factorization (recommended method)\n",
    "- EBMF: Standard Empirical Bayes Matrix Factorization\n",
    "- missforest: Random forest-based imputation\n",
    "- knn: k-nearest neighbors imputation\n",
    "- soft: SoftImpute via SVD\n",
    "- mean: Mean imputation\n",
    "- lod: Limit of detection imputation\n",
    "- bed_filter_na: Imputation with feature filtering (phenotype_imputation.ipynb:177–186)\n",
    "\n",
    "#### Input Format\n",
    "The input is a molecular phenotype file with missing values, formatted as follows:\n",
    "\n",
    "The first four columns must be: chr, start, end, ID\n",
    "\n",
    "The remaining columns represent sample-level measurements (phenotype_imputation.ipynb:42–44)\n",
    "\n",
    "### Processing Steps\n",
    "1. Quality Control Preprocessing\n",
    "\n",
    "All imputation methods apply the following QC filters before imputation:\n",
    "- Remove features with >40% missingness\n",
    "- Remove features with >95% zero values\n",
    "(phenotype_imputation.ipynb:302–306)\n",
    "\n",
    "2. gEBMF Method (Recommended)\n",
    "- The core steps for gEBMF are:\n",
    "- Data grouping: Partition data by chromosome groups\n",
    "- Cluster initialization: Use flash_init_cluster_for_grouped_data\n",
    "- Backfitting optimization: Run specified iterations of backfitting\n",
    "- Imputation: Fill missing values using the trained EBMF model\n",
    "- Postprocessing: If data is in [0,1] range, apply inverse normal transformation\n",
    "(phenotype_imputation.ipynb:418–445)\n",
    "\n",
    "3. Logic of Other Methods\n",
    "- EBMF: Uses the flashier package for matrix factorization (phenotype_imputation.ipynb:335–338)\n",
    "- missforest: Applies random forest for imputation(phenotype_imputation.ipynb:500)\n",
    "- soft: Uses softImpute based on SVD(phenotype_imputation.ipynb:669–670)\n",
    "- mean: Fills missing values with row means(phenotype_imputation.ipynb:724–726)\n",
    "\n",
    "### Output Format\n",
    "The output is the fully imputed molecular phenotype matrix, with the same structure as the input:\n",
    "- First four columns: chr, start, end, ID\n",
    "- Remaining columns: imputed sample values\n",
    "\n",
    "File format: *.imputed.bed.gz (bgzipped and indexed)\n",
    "(phenotype_imputation.ipynb:53–55)"
   ]
  },
  {
   "cell_type": "code",
   "execution_count": null,
   "id": "2b2c40ff",
   "metadata": {
    "vscode": {
     "languageId": "shellscript"
    }
   },
   "outputs": [
    {
     "name": "stdout",
     "output_type": "stream",
     "text": [
      "/home/al4225/.pixi/envs/python/lib/python3.12/site-packages/sos/targets.py:22: UserWarning: pkg_resources is deprecated as an API. See https://setuptools.pypa.io/en/latest/pkg_resources.html. The pkg_resources package is slated for removal as early as 2025-11-30. Refrain from using this package or pin to Setuptools<81.\n",
      "  import pkg_resources\n",
      "INFO: Running \u001b[32mgEBMF\u001b[0m: \n",
      "INFO: \u001b[32mgEBMF\u001b[0m is \u001b[32mcompleted\u001b[0m.\n",
      "INFO: \u001b[32mgEBMF\u001b[0m output:   \u001b[32m/mnt/vast/hpc/homes/al4225/xqtl_protocol_data/output/phenotype/impute_gebmf/protocol_example.protein.bed.imputed.bed.gz\u001b[0m\n",
      "INFO: Workflow gEBMF (ID=w8553fc84f43b1203) is executed successfully with 1 completed step.\n"
     ]
    }
   ],
   "source": [
    "# step ii. Missing Value Imputation\n",
    "# This step serves as impute the missing entries for molecular phenotype data. This step is optional for eQTL analysis. But for other QTL analysis, this step is necessary. The missing entries are imputed by flashier, a Empirical Bayes Matrix Factorization model.\n",
    "\n",
    "sos run pipeline/phenotype_imputation.ipynb gEBMF \\\n",
    "    --phenoFile data/protocol_example.protein.bed.gz \\\n",
    "    --cwd output/phenotype/impute_gebmf \\\n",
    "    --no-qc-prior-to-impute # skip QC before impupation"
   ]
  },
  {
   "cell_type": "markdown",
   "id": "a6a64cb0",
   "metadata": {},
   "source": [
    "### Partition by chroms\n",
    "\n",
    "This is necessary for cis TensorQTL analysis. The output are two sets of files.   \n",
    "For each chromosome(chrm1-chrm22), `chr#.bed.gz` and `chr#.bed.gz.tbi` files would be generated. There would also be a meta txt file `phenotype_by_chrom_files.txt` to show path for each chromosome."
   ]
  },
  {
   "cell_type": "code",
   "execution_count": 11,
   "id": "597030a5",
   "metadata": {
    "vscode": {
     "languageId": "shellscript"
    }
   },
   "outputs": [
    {
     "name": "stdout",
     "output_type": "stream",
     "text": [
      "/home/al4225/.pixi/envs/python/lib/python3.12/site-packages/sos/targets.py:22: UserWarning: pkg_resources is deprecated as an API. See https://setuptools.pypa.io/en/latest/pkg_resources.html. The pkg_resources package is slated for removal as early as 2025-11-30. Refrain from using this package or pin to Setuptools<81.\n",
      "  import pkg_resources\n",
      "INFO: Running \u001b[32mphenotype_by_chrom_1\u001b[0m: \n",
      "INFO: \u001b[32mphenotype_by_chrom_1\u001b[0m (index=1) is \u001b[32mcompleted\u001b[0m.\n",
      "INFO: \u001b[32mphenotype_by_chrom_1\u001b[0m (index=0) is \u001b[32mcompleted\u001b[0m.\n",
      "INFO: \u001b[32mphenotype_by_chrom_1\u001b[0m (index=2) is \u001b[32mcompleted\u001b[0m.\n",
      "INFO: \u001b[32mphenotype_by_chrom_1\u001b[0m (index=5) is \u001b[32mcompleted\u001b[0m.\n",
      "INFO: \u001b[32mphenotype_by_chrom_1\u001b[0m (index=3) is \u001b[32mcompleted\u001b[0m.\n",
      "INFO: \u001b[32mphenotype_by_chrom_1\u001b[0m (index=4) is \u001b[32mcompleted\u001b[0m.\n",
      "INFO: \u001b[32mphenotype_by_chrom_1\u001b[0m (index=6) is \u001b[32mcompleted\u001b[0m.\n",
      "INFO: \u001b[32mphenotype_by_chrom_1\u001b[0m (index=8) is \u001b[32mcompleted\u001b[0m.\n",
      "INFO: \u001b[32mphenotype_by_chrom_1\u001b[0m (index=7) is \u001b[32mcompleted\u001b[0m.\n",
      "INFO: \u001b[32mphenotype_by_chrom_1\u001b[0m (index=10) is \u001b[32mcompleted\u001b[0m.\n",
      "INFO: \u001b[32mphenotype_by_chrom_1\u001b[0m (index=9) is \u001b[32mcompleted\u001b[0m.\n",
      "INFO: \u001b[32mphenotype_by_chrom_1\u001b[0m (index=12) is \u001b[32mcompleted\u001b[0m.\n",
      "INFO: \u001b[32mphenotype_by_chrom_1\u001b[0m (index=11) is \u001b[32mcompleted\u001b[0m.\n",
      "INFO: \u001b[32mphenotype_by_chrom_1\u001b[0m (index=13) is \u001b[32mcompleted\u001b[0m.\n",
      "INFO: \u001b[32mphenotype_by_chrom_1\u001b[0m (index=14) is \u001b[32mcompleted\u001b[0m.\n",
      "INFO: \u001b[32mphenotype_by_chrom_1\u001b[0m (index=16) is \u001b[32mcompleted\u001b[0m.\n",
      "INFO: \u001b[32mphenotype_by_chrom_1\u001b[0m (index=15) is \u001b[32mcompleted\u001b[0m.\n",
      "INFO: \u001b[32mphenotype_by_chrom_1\u001b[0m (index=17) is \u001b[32mcompleted\u001b[0m.\n",
      "INFO: \u001b[32mphenotype_by_chrom_1\u001b[0m (index=18) is \u001b[32mcompleted\u001b[0m.\n",
      "INFO: \u001b[32mphenotype_by_chrom_1\u001b[0m (index=19) is \u001b[32mcompleted\u001b[0m.\n",
      "INFO: \u001b[32mphenotype_by_chrom_1\u001b[0m (index=20) is \u001b[32mcompleted\u001b[0m.\n",
      "INFO: \u001b[32mphenotype_by_chrom_1\u001b[0m (index=21) is \u001b[32mcompleted\u001b[0m.\n",
      "INFO: \u001b[32mphenotype_by_chrom_1\u001b[0m output:   \u001b[32moutput/phenotype/phenotype_by_chrom_for_cis/bulk_rnaseq.chr15.bed.gz output/phenotype/phenotype_by_chrom_for_cis/bulk_rnaseq.chr13.bed.gz... (22 items in 22 groups)\u001b[0m\n",
      "INFO: Running \u001b[32mphenotype_by_chrom_2\u001b[0m: \n",
      "INFO: Note: NumExpr detected 32 cores but \"NUMEXPR_MAX_THREADS\" not set, so enforcing safe limit of 16.\n",
      "INFO: NumExpr defaulting to 16 threads.\n",
      "INFO: \u001b[32mphenotype_by_chrom_2\u001b[0m is \u001b[32mcompleted\u001b[0m.\n",
      "INFO: \u001b[32mphenotype_by_chrom_2\u001b[0m output:   \u001b[32moutput/phenotype/phenotype_by_chrom_for_cis/bulk_rnaseq.phenotype_by_chrom_files.txt output/phenotype/phenotype_by_chrom_for_cis/bulk_rnaseq.phenotype_by_chrom_files.region_list.txt\u001b[0m\n",
      "INFO: Workflow phenotype_by_chrom (ID=w882d20bdf46b47a9) is executed successfully with 2 completed steps and 23 completed substeps.\n"
     ]
    }
   ],
   "source": [
    "#this uses results of phenotype file after it has been annotated with gene_annotation.ipynb annotate_coord\n",
    "sos run pipeline/phenotype_formatting.ipynb phenotype_by_chrom \\\n",
    "    --cwd output/phenotype/phenotype_by_chrom_for_cis \\\n",
    "    --phenoFile output/rnaseq/bulk_rnaseq_tmp_matrix.low_expression_filtered.outlier_removed.tmm.expression.bed.bed.gz \\\n",
    "    --name bulk_rnaseq \\\n",
    "    --chrom `for i in {1..22}; do echo chr$i; done`"
   ]
  }
 ],
 "metadata": {
  "kernelspec": {
   "display_name": "Bash",
   "language": "bash",
   "name": "bash"
  },
  "language_info": {
   "codemirror_mode": "shell",
   "file_extension": ".sh",
   "mimetype": "text/x-sh",
   "name": "bash"
  },
  "sos": {
   "kernels": [
    [
     "Bash",
     "bash",
     "Bash",
     "#E6EEFF",
     ""
    ],
    [
     "SoS",
     "sos",
     "",
     "",
     "sos"
    ]
   ],
   "version": "0.22.4"
  }
 },
 "nbformat": 4,
 "nbformat_minor": 5
}
