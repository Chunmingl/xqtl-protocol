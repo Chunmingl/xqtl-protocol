{
 "cells": [
  {
   "cell_type": "markdown",
   "id": "graphic-bankruptcy",
   "metadata": {
    "kernel": "SoS"
   },
   "source": [
    "# PCA on genotypes of selected samples\n",
    "\n",
    "This notebook contains workflow to compute PCA-derived covariates from the genotype data."
   ]
  },
  {
   "cell_type": "markdown",
   "id": "desperate-muscle",
   "metadata": {
    "kernel": "SoS"
   },
   "source": [
    "## Methods overview\n",
    "\n",
    "This workflow is an application of `PCA.ipynb` from the xQTL project pipeline.\n",
    "\n",
    "## Data Input\n",
    "\n",
    "- `output/plink/wgs.merged.plink_qc.bed`\n",
    "- `output/plink/wgs.merged.plink_qc.bim`\n",
    "- `output/plink/wgs.merged.plink_qc.fam`\n",
    "\n",
    "## Data Output\n",
    "- no related samples: `output/genotype/genotype_pca/wgs.merged.plink_qc.plink_qc.prune.pca.rds`\n",
    "- with related samples: `output/genotype/genotype_pca/wgs.merged.plink_qc.wgs.merged.king.related.plink_qc.extracted.pca.projected.rds`\n"
   ]
  },
  {
   "cell_type": "markdown",
   "id": "absent-camel",
   "metadata": {
    "kernel": "SoS"
   },
   "source": [
    "## Steps in detail"
   ]
  },
  {
   "cell_type": "markdown",
   "id": "chinese-store",
   "metadata": {
    "kernel": "SoS"
   },
   "source": [
    "### Kinship QC only on proteomics samples"
   ]
  },
  {
   "cell_type": "markdown",
   "id": "norman-outside",
   "metadata": {
    "kernel": "SoS"
   },
   "source": [
    "To accuratly estimate the PCs for the genotype. We split participants based on their kinship coefficients, estimated by KING"
   ]
  },
  {
   "cell_type": "markdown",
   "id": "proud-gauge",
   "metadata": {
    "kernel": "SoS"
   },
   "source": [
    "#### Sample match with genotype \n",
    "-- `Aim`: In this chunk, we only want to keep the samples in genotype overlapped with phenotype to do king estimation. sample_genotypes.txt would be used as a keep sample list in the next `king` chunk after `genotype_phenotype_sample_overlap` .\n",
    "\n",
    "-- `Main input`: \n",
    "- phenofile: should be the bed.gz file in the output of penotype preprocessing.   \n",
    "- genofile: should be the output of genotype preprocessing.\n",
    "\n",
    "-- `Output`:    \n",
    "sample_overlap.txt, sample_genotypes.txt.    \n",
    "These outputs are sample list of genotype overlapped with phenotype.    "
   ]
  },
  {
   "cell_type": "code",
   "execution_count": null,
   "id": "7f339375",
   "metadata": {
    "vscode": {
     "languageId": "shellscript"
    }
   },
   "outputs": [
    {
     "name": "stdout",
     "output_type": "stream",
     "text": [
      "/home/al4225/.pixi/envs/python/lib/python3.12/site-packages/sos/targets.py:22: UserWarning: pkg_resources is deprecated as an API. See https://setuptools.pypa.io/en/latest/pkg_resources.html. The pkg_resources package is slated for removal as early as 2025-11-30. Refrain from using this package or pin to Setuptools<81.\n",
      "  import pkg_resources\n",
      "INFO: Running \u001b[32mgenotype_phenotype_sample_overlap\u001b[0m: This workflow extracts overlapping samples for genotype data with phenotype data, and output the filtered sample genotype list as well as sample phenotype list\n",
      "INFO: \u001b[32mgenotype_phenotype_sample_overlap\u001b[0m is \u001b[32mcompleted\u001b[0m.\n",
      "INFO: \u001b[32mgenotype_phenotype_sample_overlap\u001b[0m output:   \u001b[32m/mnt/vast/hpc/homes/al4225/xqtl_protocol_data/output/genotype/bulk_rnaseq_tmp_matrix.low_expression_filtered.outlier_removed.tmm.expression.bed.sample_overlap.txt /mnt/vast/hpc/homes/al4225/xqtl_protocol_data/output/genotype/bulk_rnaseq_tmp_matrix.low_expression_filtered.outlier_removed.tmm.expression.bed.sample_genotypes.txt\u001b[0m\n",
      "INFO: Workflow genotype_phenotype_sample_overlap (ID=wb19c4f2294a7958c) is executed successfully with 1 completed step.\n"
     ]
    }
   ],
   "source": [
    "cd /home/ubuntu/xqtl_protocol_exercise\n",
    "sos run pipeline/GWAS_QC.ipynb genotype_phenotype_sample_overlap \\\n",
    "        --cwd output/genotype/ \\\n",
    "        --genoFile output/plink/wgs.merged.plink_qc.fam  \\\n",
    "        --phenoFile output/rnaseq/bulk_rnaseq_tmp_matrix.low_expression_filtered.outlier_removed.tmm.expression.bed.gz"
   ]
  },
  {
   "cell_type": "markdown",
   "id": "innovative-bolivia",
   "metadata": {
    "kernel": "SoS"
   },
   "source": [
    "#### Kinship\n",
    "`[king_1]`:   \n",
    "-- `Aim`: it is designed to infer relationships within a sample set to identify closely related individuals.   \n",
    "-- `Main input`: plink genofile, kin_maf: A parameter that specifies the minor allele frequency to filter SNPs. The --keep and --remove options might be used if the keep_samples and remove_samples files are provided. These options allow for including or excluding specific samples.  \n",
    "-- `Output`: The primary output is a .kin0 file, which contains the kinship coefficients for pairs of individuals. A higher kinship coefficient indicates a closer genetic relationship between two individuals. This file helps in identifying closely related individuals.  \n",
    "\n",
    "`[king_2]`:   \n",
    "-- `Aim`: To select a list of unrelated individuals from the data. The goal is to maximize the number of unrelated individuals selected while filtering out those who are related. This is useful in genetic studies where relatedness can confound results.   \n",
    "-- `Main input`: a .kin0 file containing kinship coefficients for pairs of individuals. maximize_unrelated: A boolean parameter that determines whether the workflow should attempt to maximize the number of unrelated individuals. True for keeping as many unrelated individuals as possible, False for removing entire families with any related individuals.     \n",
    "-- `Output`:  a file with the extension .related_id, which contains a list of related individuals that should be excluded from further analysis.   \n",
    "\n",
    "`[king_3]`:   \n",
    "-- `Aim`: To split genotype data into two sets: one containing unrelated samples and the other containing related samples.   \n",
    "-- `Main input`: output_from(2): This input is the output from the previous step (presumably king_2), which should contain the list of related individuals. genoFile: This is the primary genotype data file that will be split based on relatedness.\n",
    "-- `Output`: unrelated_bed: This is the output file containing genotype data for unrelated individuals. related_bed: This is the output file containing genotype data for related individuals.\n",
    "\n",
    "`In summary`, the `king` workflows provide a comprehensive approach to handle relatedness in genotype data. Starting from identifying related individuals, to selecting a set of unrelated samples, and finally splitting the data based on relatedness, these workflows ensure that genetic analyses can be conducted on appropriately filtered datasets."
   ]
  },
  {
   "cell_type": "code",
   "execution_count": 3,
   "id": "e76da458",
   "metadata": {
    "vscode": {
     "languageId": "shellscript"
    }
   },
   "outputs": [
    {
     "name": "stdout",
     "output_type": "stream",
     "text": [
      "/home/al4225/.pixi/envs/python/lib/python3.12/site-packages/sos/targets.py:22: UserWarning: pkg_resources is deprecated as an API. See https://setuptools.pypa.io/en/latest/pkg_resources.html. The pkg_resources package is slated for removal as early as 2025-11-30. Refrain from using this package or pin to Setuptools<81.\n",
      "  import pkg_resources\n",
      "INFO: Running \u001b[32mking_1\u001b[0m: Inference of relationships in the sample to identify closely related individuals\n",
      "INFO: \u001b[32mking_1\u001b[0m is \u001b[32mcompleted\u001b[0m.\n",
      "INFO: \u001b[32mking_1\u001b[0m output:   \u001b[32m/mnt/vast/hpc/homes/al4225/xqtl_protocol_data/output/genotype/kinship/wgs.merged.plink_qc.wgs.merged.king.kin0\u001b[0m\n",
      "INFO: Running \u001b[32mking_2\u001b[0m: Select a list of unrelated individual with an attempt to maximize the unrelated individuals selected from the data\n",
      "INFO: \u001b[32mking_2\u001b[0m is \u001b[32mcompleted\u001b[0m.\n",
      "INFO: \u001b[32mking_2\u001b[0m output:   \u001b[32m/mnt/vast/hpc/homes/al4225/xqtl_protocol_data/output/genotype/kinship/wgs.merged.plink_qc.wgs.merged.king.related_id\u001b[0m\n",
      "INFO: Running \u001b[32mking_3\u001b[0m: Split genotype data into related and unrelated samples, if related individuals are detected\n",
      "INFO: \u001b[32mking_3\u001b[0m is \u001b[32mcompleted\u001b[0m.\n",
      "INFO: \u001b[32mking_3\u001b[0m output:   \u001b[32m/mnt/vast/hpc/homes/al4225/xqtl_protocol_data/output/genotype/kinship/wgs.merged.plink_qc.wgs.merged.king.unrelated.bed /mnt/vast/hpc/homes/al4225/xqtl_protocol_data/output/genotype/kinship/wgs.merged.plink_qc.wgs.merged.king.related.bed\u001b[0m\n",
      "INFO: Workflow king (ID=wee90ff4dd18ffdb7) is executed successfully with 3 completed steps.\n"
     ]
    }
   ],
   "source": [
    "#note: keep-samples is the output of last chunk.\n",
    "sos run pipeline/GWAS_QC.ipynb king \\\n",
    "    --cwd output/genotype/kinship \\\n",
    "    --genoFile output/plink/wgs.merged.plink_qc.bed \\\n",
    "    --name wgs.merged.king \\\n",
    "    --keep-samples output/genotype/bulk_rnaseq_tmp_matrix.low_expression_filtered.outlier_removed.tmm.expression.bed.sample_genotypes.txt"
   ]
  },
  {
   "cell_type": "markdown",
   "id": "7eb6ced1",
   "metadata": {},
   "source": [
    "related result is shown below:\n",
    "\n",
    "**Columns Explanation**:  \n",
    "-- FID1 & IID1: Family and individual identifiers for the first sample.  \n",
    "-- FID2 & IID2: Family and individual identifiers for the second sample.  \n",
    "-- NSNP: The number of SNPs (Single Nucleotide Polymorphisms) that the two samples share.  \n",
    "-- HETHET: The proportion of SNPs where both samples are heterozygous.  \n",
    "-- IBS0: The proportion of SNPs where the two samples have two different alleles.  \n",
    "-- KINSHIP: The kinship coefficient, indicating the genetic relationship between the two samples.  "
   ]
  },
  {
   "cell_type": "code",
   "execution_count": 5,
   "id": "68f6990c",
   "metadata": {
    "vscode": {
     "languageId": "shellscript"
    }
   },
   "outputs": [
    {
     "name": "stdout",
     "output_type": "stream",
     "text": [
      "#FID1\tIID1\tFID2\tIID2\tNSNP\tHETHET\tIBS0\tKINSHIP\n",
      "sample4\tsample4\tsample2\tsample2\t125472\t0.0836681\t0.026747\t0.0681404\n",
      "sample62\tsample62\tsample4\tsample4\t125511\t0.078758\t0.0249221\t0.0646603\n",
      "sample87\tsample87\tsample85\tsample85\t125963\t0.0818812\t0.0234355\t0.0760353\n",
      "sample88\tsample88\tsample59\tsample59\t125446\t0.0828484\t0.0267127\t0.0627207\n",
      "sample118\tsample118\tsample39\tsample39\t125497\t0.0799222\t0.0251002\t0.0633735\n",
      "sample118\tsample118\tsample46\tsample46\t125942\t0.087175\t0.0246145\t0.0855043\n",
      "sample118\tsample118\tsample95\tsample95\t125965\t0.0930735\t0.0281666\t0.0793313\n",
      "sample118\tsample118\tsample96\tsample96\t125983\t0.0946794\t0.0276704\t0.0752263\n",
      "sample120\tsample120\tsample59\tsample59\t125971\t0.0840511\t0.0242754\t0.0710927\n",
      "sample120\tsample120\tsample96\tsample96\t126269\t0.0973556\t0.0286373\t0.0798903\n",
      "sample122\tsample122\tsample37\tsample37\t126155\t0.0792755\t0.0251675\t0.0667528\n",
      "sample136\tsample136\tsample4\tsample4\t125235\t0.086158\t0.0264862\t0.0678869\n",
      "sample136\tsample136\tsample96\tsample96\t125777\t0.0868362\t0.0261336\t0.0649119\n",
      "sample137\tsample137\tsample96\tsample96\t121522\t0.0870789\t0.0253617\t0.0659366\n",
      "sample149\tsample149\tsample96\tsample96\t125382\t0.102208\t0.0253784\t0.103358\n"
     ]
    }
   ],
   "source": [
    "cat output/genotype/kinship/wgs.merged.plink_qc.wgs.merged.king.kin0"
   ]
  },
  {
   "cell_type": "markdown",
   "id": "brown-career",
   "metadata": {
    "kernel": "SoS"
   },
   "source": [
    "Variant level and sample level QC on unrelated individuals using missingness > 10%, and LD-prunning in preparation for PCA analysis.    \n"
   ]
  },
  {
   "cell_type": "markdown",
   "id": "fourth-demonstration",
   "metadata": {
    "kernel": "SoS"
   },
   "source": [
    "**Be aware:**    \n",
    "\n",
    "**If the message from `king_2` shown as `No related individuals detected from *.kin0`, this means no related individuals detected for the samples in `--keep_samples`. In this case, there will be no output for unrelated individuals from this step.**"
   ]
  },
  {
   "cell_type": "markdown",
   "id": "collective-eating",
   "metadata": {
    "kernel": "SoS"
   },
   "source": [
    "**In other cases eg ROSMAP proteomics data, message `No related individuals detected from *.kin0` occured, there is no separate genotype data generated for unrelated individuals. In this case, we need to work from the original genotype data and must use `--keep-samples` to run `qc` to extract samples for PCA.**"
   ]
  },
  {
   "cell_type": "markdown",
   "id": "5ff45daf",
   "metadata": {},
   "source": [
    "#### QC on unrelated samples\n",
    "\n",
    "\n",
    "Here we write data to `cache` folder instead of `output` because this genotype data can be removed later after PCA. Also filter out minor allel accout < 5.\n",
    "\n",
    "**If your data has `*.unrelated.bed` generated, that means there are related individuals in your data. In cases, we will use output from the KING step for unrelated individuals.**\n",
    "\n",
    "About `qc`:   \n",
    "1. `[qc_no_prune, qc_1 (basic QC filters)]`:  \n",
    "-- `aim`: To filter SNPs and select individuals based on various quality control (QC) criteria. The goal is to ensure that the genotype data is of high quality and free from potential errors or biases before further analysis.   \n",
    "-- `Input`:   \n",
    "genoFile: The primary input file containing genotype data.  \n",
    "Various parameters that dictate the QC criteria:  \n",
    "maf_filter, maf_max_filter: Minimum and maximum Minor Allele Frequency (MAF) thresholds.  \n",
    "mac_filter, mac_max_filter: Minimum and maximum Minor Allele Count (MAC) thresholds.  \n",
    "geno_filter: Maximum missingness per variant.  \n",
    "mind_filter: Maximum missingness per sample.  \n",
    "hwe_filter: Hardy-Weinberg Equilibrium (HWE) filter threshold.  \n",
    "other_args: Other optional PLINK arguments.  \n",
    "meta_only: Flag to determine if only SNP and sample lists should be output.  \n",
    "rm_dups: Flag to remove duplicate variants.  \n",
    "-- `Output`: A file (or set of files) with the suffix .plink_qc (and possibly .extracted if specific variants are kept). The exact format (e.g., .bed or .snplist) depends on the meta_only parameter.  \n",
    "\n",
    "2. [qc_2 (LD pruning)]:   \n",
    "-- `aim`: To perform Linkage Disequilibrium (LD) pruning and remove related individuals (both individuals of a pair). LD pruning is a common step in genotype data quality control, aiming to remove highly correlated SNPs, thus reducing redundancy in the data and enhancing the accuracy of subsequent analyses.   \n",
    "-- `Input`:\n",
    "_input: The primary input file containing genotype data that has undergone basic quality control.   \n",
    "Pruning parameters:   \n",
    "window: The window size for calculating LD between SNPs.   \n",
    "shift: The number of SNPs to shift the window each time.   \n",
    "r2: The LD threshold for pruning   \n",
    "-- `Output`:  \n",
    ".prune.bed: The binary PLINK format file of the pruned genotype data.   \n",
    ".prune.in: A list containing the SNPs to retain."
   ]
  },
  {
   "cell_type": "code",
   "execution_count": 29,
   "id": "3e67b4c6",
   "metadata": {
    "vscode": {
     "languageId": "shellscript"
    }
   },
   "outputs": [
    {
     "name": "stdout",
     "output_type": "stream",
     "text": [
      "/home/al4225/.pixi/envs/python/lib/python3.12/site-packages/sos/targets.py:22: UserWarning: pkg_resources is deprecated as an API. See https://setuptools.pypa.io/en/latest/pkg_resources.html. The pkg_resources package is slated for removal as early as 2025-11-30. Refrain from using this package or pin to Setuptools<81.\n",
      "  import pkg_resources\n",
      "INFO: Running \u001b[32mbasic QC filters\u001b[0m: Filter SNPs and select individuals\n",
      "INFO: \u001b[32mqc_1\u001b[0m (index=0) is \u001b[32mignored\u001b[0m due to saved signature\n",
      "INFO: \u001b[32mbasic QC filters\u001b[0m output:   \u001b[32m/mnt/vast/hpc/homes/al4225/xqtl_protocol_data/output/genotype/wgs.merged.plink_qc.plink_qc.bed\u001b[0m\n",
      "INFO: Running \u001b[32mLD pruning\u001b[0m: LD prunning and remove related individuals (both ind of a pair) Plink2 has multi-threaded calculation for LD prunning\n",
      "INFO: \u001b[32mqc_2\u001b[0m (index=0) is \u001b[32mignored\u001b[0m due to saved signature\n",
      "INFO: \u001b[32mLD pruning\u001b[0m output:   \u001b[32m/mnt/vast/hpc/homes/al4225/xqtl_protocol_data/output/genotype/wgs.merged.plink_qc.plink_qc.prune.bed /mnt/vast/hpc/homes/al4225/xqtl_protocol_data/output/genotype/wgs.merged.plink_qc.plink_qc.prune.in\u001b[0m\n",
      "INFO: Workflow qc (ID=w5583b53e391fc494) is ignored with 2 ignored steps.\n",
      "/home/al4225/.pixi/envs/python/lib/python3.12/site-packages/sos/targets.py:22: UserWarning: pkg_resources is deprecated as an API. See https://setuptools.pypa.io/en/latest/pkg_resources.html. The pkg_resources package is slated for removal as early as 2025-11-30. Refrain from using this package or pin to Setuptools<81.\n",
      "  import pkg_resources\n",
      "INFO: Running \u001b[32mflashpca_1\u001b[0m: Run PCA analysis using flashpca\n",
      "INFO: \u001b[32mflashpca_1\u001b[0m (index=0) is \u001b[32mignored\u001b[0m due to saved signature\n",
      "INFO: \u001b[32mflashpca_1\u001b[0m output:   \u001b[32m/mnt/vast/hpc/homes/al4225/xqtl_protocol_data/output/genotype/genotype_pca/wgs.merged.plink_qc.plink_qc.prune.pca.rds\u001b[0m\n",
      "INFO: Running \u001b[32mflashpca_2\u001b[0m: \n",
      "INFO: \u001b[32mflashpca_2\u001b[0m is \u001b[32mcompleted\u001b[0m (pending nested workflow).\n",
      "INFO: Running \u001b[32mdetect_outliers\u001b[0m: Calculate Mahalanobis distance per population and report outliers\n",
      "INFO: \u001b[32mdetect_outliers\u001b[0m (index=0) is \u001b[32mignored\u001b[0m due to saved signature\n",
      "INFO: \u001b[32mdetect_outliers\u001b[0m output:   \u001b[32m/mnt/vast/hpc/homes/al4225/xqtl_protocol_data/output/genotype/genotype_pca/wgs.merged.plink_qc.plink_qc.prune.pca.mahalanobis.rds /mnt/vast/hpc/homes/al4225/xqtl_protocol_data/output/genotype/genotype_pca/wgs.merged.plink_qc.plink_qc.prune.pca.outliers... (5 items)\u001b[0m\n",
      "INFO: \u001b[32mflashpca_2\u001b[0m output:   \u001b[32m/mnt/vast/hpc/homes/al4225/xqtl_protocol_data/output/genotype/genotype_pca/wgs.merged.plink_qc.plink_qc.prune.pca.mahalanobis.rds /mnt/vast/hpc/homes/al4225/xqtl_protocol_data/output/genotype/genotype_pca/wgs.merged.plink_qc.plink_qc.prune.pca.outliers... (5 items)\u001b[0m\n",
      "INFO: Running \u001b[32mflashpca_3\u001b[0m: \n",
      "INFO: \u001b[32mflashpca_3\u001b[0m is \u001b[32mcompleted\u001b[0m (pending nested workflow).\n",
      "INFO: Running \u001b[32mplot_pca\u001b[0m: Plot PCA results. Can be used independently as \"plot_pca\" or combined with other workflow as eg \"flashpca+plot_pca\"\n",
      "INFO: \u001b[32mplot_pca\u001b[0m (index=0) is \u001b[32mignored\u001b[0m due to saved signature\n",
      "INFO: \u001b[32mplot_pca\u001b[0m output:   \u001b[32m/mnt/vast/hpc/homes/al4225/xqtl_protocol_data/output/genotype/genotype_pca/wgs.merged.plink_qc.plink_qc.prune.pca.pc.png /mnt/vast/hpc/homes/al4225/xqtl_protocol_data/output/genotype/genotype_pca/wgs.merged.plink_qc.plink_qc.prune.pca.scree.png... (3 items)\u001b[0m\n",
      "INFO: \u001b[32mflashpca_3\u001b[0m output:   \u001b[32m/mnt/vast/hpc/homes/al4225/xqtl_protocol_data/output/genotype/genotype_pca/wgs.merged.plink_qc.plink_qc.prune.pca.pc.png /mnt/vast/hpc/homes/al4225/xqtl_protocol_data/output/genotype/genotype_pca/wgs.merged.plink_qc.plink_qc.prune.pca.scree.png\u001b[0m\n",
      "INFO: Workflow flashpca (ID=w1ffc26ca540c5842) is executed successfully with 2 completed steps and 3 ignored steps.\n"
     ]
    }
   ],
   "source": [
    "#if no related ones,\n",
    "# 1. qc on plink\n",
    "sos run pipeline/GWAS_QC.ipynb qc \\\n",
    "   --cwd output/genotype/ \\\n",
    "   --genoFile output/plink/wgs.merged.plink_qc.bed \\\n",
    "   --mac-filter 5 \n",
    "\n",
    "# 2. pca on the whole geno file\n",
    "sos run pipeline/PCA.ipynb flashpca \\\n",
    "   --cwd output/genotype/genotype_pca \\\n",
    "   --genoFile output/genotype/wgs.merged.plink_qc.plink_qc.prune.bed   "
   ]
  },
  {
   "cell_type": "markdown",
   "id": "8615d330",
   "metadata": {},
   "source": [
    "if there are unrelated data & related data, treat them separately"
   ]
  },
  {
   "cell_type": "code",
   "execution_count": null,
   "id": "c1ebfe11",
   "metadata": {
    "vscode": {
     "languageId": "shellscript"
    }
   },
   "outputs": [
    {
     "name": "stdout",
     "output_type": "stream",
     "text": [
      "/home/al4225/.pixi/envs/python/lib/python3.12/site-packages/sos/targets.py:22: UserWarning: pkg_resources is deprecated as an API. See https://setuptools.pypa.io/en/latest/pkg_resources.html. The pkg_resources package is slated for removal as early as 2025-11-30. Refrain from using this package or pin to Setuptools<81.\n",
      "  import pkg_resources\n",
      "INFO: Running \u001b[32mbasic QC filters\u001b[0m: Filter SNPs and select individuals\n",
      "INFO: \u001b[32mbasic QC filters\u001b[0m is \u001b[32mcompleted\u001b[0m.\n",
      "INFO: \u001b[32mbasic QC filters\u001b[0m output:   \u001b[32m/mnt/vast/hpc/homes/al4225/xqtl_protocol_data/output/genotype/wgs.merged.plink_qc.wgs.merged.king.unrelated.plink_qc.bed\u001b[0m\n",
      "INFO: Running \u001b[32mLD pruning\u001b[0m: LD prunning and remove related individuals (both ind of a pair) Plink2 has multi-threaded calculation for LD prunning\n",
      "INFO: \u001b[32mLD pruning\u001b[0m is \u001b[32mcompleted\u001b[0m.\n",
      "INFO: \u001b[32mLD pruning\u001b[0m output:   \u001b[32m/mnt/vast/hpc/homes/al4225/xqtl_protocol_data/output/genotype/wgs.merged.plink_qc.wgs.merged.king.unrelated.plink_qc.prune.bed /mnt/vast/hpc/homes/al4225/xqtl_protocol_data/output/genotype/wgs.merged.plink_qc.wgs.merged.king.unrelated.plink_qc.prune.in\u001b[0m\n",
      "INFO: Workflow qc (ID=w0fe7a998e4af2e47) is executed successfully with 2 completed steps.\n"
     ]
    }
   ],
   "source": [
    "# qc on unrelated geno data: basic qc + ld pruning\n",
    "sos run pipeline/GWAS_QC.ipynb qc \\\n",
    "   --cwd output/genotype/ \\\n",
    "   --genoFile output/genotype/kinship/wgs.merged.plink_qc.wgs.merged.king.unrelated.bed \\\n",
    "   --mac-filter 5 -s force"
   ]
  },
  {
   "cell_type": "markdown",
   "id": "613ab506",
   "metadata": {},
   "source": [
    "#### QC on related samples"
   ]
  },
  {
   "cell_type": "code",
   "execution_count": null,
   "id": "86e40799",
   "metadata": {
    "vscode": {
     "languageId": "shellscript"
    }
   },
   "outputs": [
    {
     "name": "stdout",
     "output_type": "stream",
     "text": [
      "/home/al4225/.pixi/envs/python/lib/python3.12/site-packages/sos/targets.py:22: UserWarning: pkg_resources is deprecated as an API. See https://setuptools.pypa.io/en/latest/pkg_resources.html. The pkg_resources package is slated for removal as early as 2025-11-30. Refrain from using this package or pin to Setuptools<81.\n",
      "  import pkg_resources\n",
      "INFO: Running \u001b[32mqc_no_prune\u001b[0m: Filter SNPs and select individuals\n",
      "INFO: \u001b[32mqc_no_prune\u001b[0m is \u001b[32mcompleted\u001b[0m.\n",
      "INFO: \u001b[32mqc_no_prune\u001b[0m output:   \u001b[32m/mnt/vast/hpc/homes/al4225/xqtl_protocol_data/output/genotype/wgs.merged.plink_qc.wgs.merged.king.related.plink_qc.extracted.bed\u001b[0m\n",
      "INFO: Workflow qc_no_prune (ID=w1f09f0c82a7cfe40) is executed successfully with 1 completed step.\n"
     ]
    }
   ],
   "source": [
    "#qc on related samples, basic qc, no pruning(because they are related with high ld)\n",
    "#output: related.plink_qc.extracted.bed\n",
    "sos run pipeline/GWAS_QC.ipynb qc_no_prune \\\n",
    "   --cwd output/genotype \\\n",
    "   --genoFile output/genotype/kinship/wgs.merged.plink_qc.wgs.merged.king.related.bed \\\n",
    "   --maf-filter 0 \\\n",
    "   --geno-filter 0 \\\n",
    "   --mind-filter 0.1 \\\n",
    "   --hwe-filter 0 \\\n",
    "   --keep-variants output/genotype/wgs.merged.plink_qc.wgs.merged.king.unrelated.plink_qc.prune.in"
   ]
  },
  {
   "cell_type": "markdown",
   "id": "8475e0fe",
   "metadata": {},
   "source": [
    "#### PCA on unrelated samples\n",
    "Note PC1 vs 2 outlier\n",
    "\n",
    "About `[flashpca]`:   \n",
    "1. `[flashpca_1]`:     \n",
    "-- `aim`: To perform Principal Component Analysis (PCA) on genotype data using the flashpcaR library. PCA is a statistical method used to emphasize variation and bring out strong patterns in a dataset. In the context of genomics, PCA is often used to identify and correct for population stratification in genome-wide association studies.   \n",
    "-- `Input`:    \n",
    "genoFile: A binary PLINK file containing genotype data after qc.    \n",
    "Various parameters for PCA and data filtering, such as min_pop_size, stand, and others.   \n",
    "-- `Output`:    \n",
    ".pca.rds: An RDS file containing the PCA results, including the PCA model, scores, and metadata.    \n",
    ".txt: A text file containing the PCA scores for each individual.   \n",
    "\n",
    "2. `[flashpca_2, project_samples_2]`:   Outlier Detection   \n",
    "-- `aim`: To detect outliers based on Mahalanobis distance, which measures the distance of a point from a distribution.     \n",
    "-- `Input`:  pca result     \n",
    "-- `Output`:         \n",
    "distance: An RDS file containing Mahalanobis distances for each sample.    \n",
    "identified_outliers: A file listing the identified outliers.    \n",
    "analysis_summary: A markdown file summarizing the analysis.   \n",
    "qqplot_mahalanobis: A QQ plot visualizing the Mahalanobis distances.    \n",
    "hist_mahalanobis: A histogram of the Mahalanobis distances.    \n",
    "\n",
    "3. `[flashpca_3, project_samples_3]`: PCA Visualization    \n",
    "-- `aim`: To visualize the PCA results, highlighting any identified outliers.   \n",
    "-- `Input`:  \n",
    "PCA results from the previous step.    \n",
    "List of identified outliers.   \n",
    "-- `Output`:    \n",
    "PCA plot (*.pc.png): A scatter plot of 2 adjacent principal components, with outliers highlighted.    \n",
    "Scree plot (*.scree.png): A plot showing the variance explained by each principal component.    "
   ]
  },
  {
   "cell_type": "code",
   "execution_count": 17,
   "id": "0f557797",
   "metadata": {
    "vscode": {
     "languageId": "shellscript"
    }
   },
   "outputs": [
    {
     "name": "stdout",
     "output_type": "stream",
     "text": [
      "/home/al4225/.pixi/envs/python/lib/python3.12/site-packages/sos/targets.py:22: UserWarning: pkg_resources is deprecated as an API. See https://setuptools.pypa.io/en/latest/pkg_resources.html. The pkg_resources package is slated for removal as early as 2025-11-30. Refrain from using this package or pin to Setuptools<81.\n",
      "  import pkg_resources\n",
      "INFO: Running \u001b[32mflashpca_1\u001b[0m: Run PCA analysis using flashpca\n",
      "INFO: \u001b[32mflashpca_1\u001b[0m is \u001b[32mcompleted\u001b[0m.\n",
      "INFO: \u001b[32mflashpca_1\u001b[0m output:   \u001b[32m/mnt/vast/hpc/homes/al4225/xqtl_protocol_data/output/genotype/genotype_pca/wgs.merged.plink_qc.wgs.merged.king.unrelated.plink_qc.prune.pca.rds\u001b[0m\n",
      "INFO: Running \u001b[32mflashpca_2\u001b[0m: \n",
      "INFO: \u001b[32mflashpca_2\u001b[0m is \u001b[32mcompleted\u001b[0m (pending nested workflow).\n",
      "INFO: Running \u001b[32mdetect_outliers\u001b[0m: Calculate Mahalanobis distance per population and report outliers\n",
      "/bin/bash: /home/al4225/miniconda3/lib/libtinfo.so.6: no version information available (required by /bin/bash)\n",
      "INFO: \u001b[32mdetect_outliers\u001b[0m is \u001b[32mcompleted\u001b[0m.\n",
      "INFO: \u001b[32mdetect_outliers\u001b[0m output:   \u001b[32m/mnt/vast/hpc/homes/al4225/xqtl_protocol_data/output/genotype/genotype_pca/wgs.merged.plink_qc.wgs.merged.king.unrelated.plink_qc.prune.pca.mahalanobis.rds /mnt/vast/hpc/homes/al4225/xqtl_protocol_data/output/genotype/genotype_pca/wgs.merged.plink_qc.wgs.merged.king.unrelated.plink_qc.prune.pca.outliers... (5 items)\u001b[0m\n",
      "INFO: \u001b[32mflashpca_2\u001b[0m output:   \u001b[32m/mnt/vast/hpc/homes/al4225/xqtl_protocol_data/output/genotype/genotype_pca/wgs.merged.plink_qc.wgs.merged.king.unrelated.plink_qc.prune.pca.mahalanobis.rds /mnt/vast/hpc/homes/al4225/xqtl_protocol_data/output/genotype/genotype_pca/wgs.merged.plink_qc.wgs.merged.king.unrelated.plink_qc.prune.pca.outliers... (5 items)\u001b[0m\n",
      "INFO: Running \u001b[32mflashpca_3\u001b[0m: \n",
      "INFO: \u001b[32mflashpca_3\u001b[0m is \u001b[32mcompleted\u001b[0m (pending nested workflow).\n",
      "INFO: Running \u001b[32mplot_pca\u001b[0m: Plot PCA results. Can be used independently as \"plot_pca\" or combined with other workflow as eg \"flashpca+plot_pca\"\n",
      "INFO: \u001b[32mplot_pca\u001b[0m is \u001b[32mcompleted\u001b[0m.\n",
      "INFO: \u001b[32mplot_pca\u001b[0m output:   \u001b[32m/mnt/vast/hpc/homes/al4225/xqtl_protocol_data/output/genotype/genotype_pca/wgs.merged.plink_qc.wgs.merged.king.unrelated.plink_qc.prune.pca.pc.png /mnt/vast/hpc/homes/al4225/xqtl_protocol_data/output/genotype/genotype_pca/wgs.merged.plink_qc.wgs.merged.king.unrelated.plink_qc.prune.pca.scree.png... (3 items)\u001b[0m\n",
      "INFO: \u001b[32mflashpca_3\u001b[0m output:   \u001b[32m/mnt/vast/hpc/homes/al4225/xqtl_protocol_data/output/genotype/genotype_pca/wgs.merged.plink_qc.wgs.merged.king.unrelated.plink_qc.prune.pca.pc.png /mnt/vast/hpc/homes/al4225/xqtl_protocol_data/output/genotype/genotype_pca/wgs.merged.plink_qc.wgs.merged.king.unrelated.plink_qc.prune.pca.scree.png\u001b[0m\n",
      "INFO: Workflow flashpca (ID=w8115e805f2e1a025) is executed successfully with 5 completed steps.\n"
     ]
    }
   ],
   "source": [
    "# only use the unrelated pruned genofile after qc as input to do pca, avoiding the interference of family structure on group structure inference \n",
    "# Make sure PCA reflects real group stratification and not family relationships\n",
    "sos run pipeline/PCA.ipynb flashpca \\\n",
    "   --cwd output/genotype/genotype_pca \\\n",
    "   --genoFile output/genotype/wgs.merged.plink_qc.wgs.merged.king.unrelated.plink_qc.prune.bed\n",
    "   "
   ]
  },
  {
   "cell_type": "markdown",
   "id": "e8118361",
   "metadata": {},
   "source": [
    "#### Project PCA results back to related samples\n",
    "\n",
    "The workflow aims to project the PCA results of unrelated samples onto the related samples. This is useful because PCA is typically performed on unrelated samples to avoid the confounding effects of relatedness. This is often done to ensure that related samples are analyzed in the same \"space\" as the unrelated samples, making the results more comparable and interpretable. Once the primary PCA model is established with unrelated samples, the related samples can be projected onto this model to obtain their principal component scores.\n",
    "\n"
   ]
  },
  {
   "cell_type": "code",
   "execution_count": null,
   "id": "8b721db2",
   "metadata": {
    "vscode": {
     "languageId": "shellscript"
    }
   },
   "outputs": [
    {
     "name": "stdout",
     "output_type": "stream",
     "text": [
      "15\n"
     ]
    }
   ],
   "source": [
    "awk '$3 < 0.8' output/genotype/genotype_pca/wgs.merged.plink_qc.plink_qc.prune.pca.scree.txt | tail -1 | cut -f 1"
   ]
  },
  {
   "cell_type": "code",
   "execution_count": null,
   "id": "12d59634",
   "metadata": {
    "vscode": {
     "languageId": "shellscript"
    }
   },
   "outputs": [
    {
     "name": "stdout",
     "output_type": "stream",
     "text": [
      "/home/al4225/.pixi/envs/python/lib/python3.12/site-packages/sos/targets.py:22: UserWarning: pkg_resources is deprecated as an API. See https://setuptools.pypa.io/en/latest/pkg_resources.html. The pkg_resources package is slated for removal as early as 2025-11-30. Refrain from using this package or pin to Setuptools<81.\n",
      "  import pkg_resources\n",
      "INFO: Running \u001b[32mproject_samples_1\u001b[0m: Project back to PCA model additional samples\n",
      "INFO: \u001b[32mproject_samples_1\u001b[0m is \u001b[32mcompleted\u001b[0m.\n",
      "INFO: \u001b[32mproject_samples_1\u001b[0m output:   \u001b[32m/mnt/vast/hpc/homes/al4225/xqtl_protocol_data/output/genotype/genotype_pca/wgs.merged.plink_qc.wgs.merged.king.related.plink_qc.extracted.pca.projected.rds\u001b[0m\n",
      "INFO: Running \u001b[32mproject_samples_2\u001b[0m: \n",
      "INFO: \u001b[32mproject_samples_2\u001b[0m is \u001b[32mcompleted\u001b[0m (pending nested workflow).\n",
      "INFO: Running \u001b[32mdetect_outliers\u001b[0m: Calculate Mahalanobis distance per population and report outliers\n",
      "INFO: \u001b[32mdetect_outliers\u001b[0m (index=0) is \u001b[32mignored\u001b[0m due to saved signature\n",
      "INFO: \u001b[32mdetect_outliers\u001b[0m output:   \u001b[32m/mnt/vast/hpc/homes/al4225/xqtl_protocol_data/output/genotype/genotype_pca/wgs.merged.plink_qc.wgs.merged.king.related.plink_qc.extracted.pca.projected.mahalanobis.rds /mnt/vast/hpc/homes/al4225/xqtl_protocol_data/output/genotype/genotype_pca/wgs.merged.plink_qc.wgs.merged.king.related.plink_qc.extracted.pca.projected.outliers... (5 items)\u001b[0m\n",
      "INFO: \u001b[32mproject_samples_2\u001b[0m output:   \u001b[32m/mnt/vast/hpc/homes/al4225/xqtl_protocol_data/output/genotype/genotype_pca/wgs.merged.plink_qc.wgs.merged.king.related.plink_qc.extracted.pca.projected.mahalanobis.rds /mnt/vast/hpc/homes/al4225/xqtl_protocol_data/output/genotype/genotype_pca/wgs.merged.plink_qc.wgs.merged.king.related.plink_qc.extracted.pca.projected.outliers... (5 items)\u001b[0m\n",
      "INFO: Running \u001b[32mproject_samples_3\u001b[0m: \n",
      "INFO: \u001b[32mproject_samples_3\u001b[0m is \u001b[32mcompleted\u001b[0m (pending nested workflow).\n",
      "INFO: Running \u001b[32mplot_pca\u001b[0m: Plot PCA results. Can be used independently as \"plot_pca\" or combined with other workflow as eg \"flashpca+plot_pca\"\n",
      "INFO: \u001b[32mplot_pca\u001b[0m (index=0) is \u001b[32mignored\u001b[0m due to saved signature\n",
      "INFO: \u001b[32mplot_pca\u001b[0m output:   \u001b[32m/mnt/vast/hpc/homes/al4225/xqtl_protocol_data/output/genotype/genotype_pca/wgs.merged.plink_qc.wgs.merged.king.related.plink_qc.extracted.pca.projected.pc.png /mnt/vast/hpc/homes/al4225/xqtl_protocol_data/output/genotype/genotype_pca/wgs.merged.plink_qc.wgs.merged.king.related.plink_qc.extracted.pca.projected.scree.png... (3 items)\u001b[0m\n",
      "INFO: \u001b[32mproject_samples_3\u001b[0m output:   \u001b[32m/mnt/vast/hpc/homes/al4225/xqtl_protocol_data/output/genotype/genotype_pca/wgs.merged.plink_qc.wgs.merged.king.related.plink_qc.extracted.pca.projected.pc.png /mnt/vast/hpc/homes/al4225/xqtl_protocol_data/output/genotype/genotype_pca/wgs.merged.plink_qc.wgs.merged.king.related.plink_qc.extracted.pca.projected.scree.png\u001b[0m\n",
      "INFO: Workflow project_samples (ID=w51d980b9dcc02ee6) is executed successfully with 3 completed steps and 2 ignored steps.\n"
     ]
    }
   ],
   "source": [
    "sos run pipeline/PCA.ipynb project_samples \\\n",
    "        --cwd output/genotype/genotype_pca \\\n",
    "        --genoFile output/genotype/wgs.merged.plink_qc.wgs.merged.king.related.plink_qc.extracted.bed \\\n",
    "        --pca-model output/genotype/genotype_pca/wgs.merged.plink_qc.wgs.merged.king.unrelated.plink_qc.prune.pca.rds \\\n",
    "        --maha-k `awk '$3 < 0.8' output/genotype/genotype_pca/wgs.merged.plink_qc.plink_qc.prune.pca.scree.txt | tail -1 | cut -f 1`"
   ]
  },
  {
   "cell_type": "markdown",
   "id": "69d56808",
   "metadata": {},
   "source": [
    "# the final pca output that we will use in cov processing\n",
    "`related.plink_qc.extracted.pca.projected.rds`"
   ]
  }
 ],
 "metadata": {
  "kernelspec": {
   "display_name": "Bash",
   "language": "bash",
   "name": "bash"
  },
  "language_info": {
   "codemirror_mode": "shell",
   "file_extension": ".sh",
   "mimetype": "text/x-sh",
   "name": "bash"
  },
  "sos": {
   "kernels": [
    [
     "Bash",
     "bash",
     "Bash",
     "#E6EEFF",
     ""
    ]
   ],
   "version": "0.22.4"
  }
 },
 "nbformat": 4,
 "nbformat_minor": 5
}
